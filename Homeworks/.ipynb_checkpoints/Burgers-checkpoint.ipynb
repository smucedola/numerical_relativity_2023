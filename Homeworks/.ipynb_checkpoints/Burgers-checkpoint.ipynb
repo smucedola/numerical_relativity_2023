{
 "cells": [
  {
   "cell_type": "markdown",
   "id": "acd1023f",
   "metadata": {},
   "source": [
    "# Burger's Equation\n",
    "Here we solve the advection equation $u_t + u\\ u_x=0$ using as an initial condition a gaussian profile $u(x,t=0)=\\exp{[-(x-x_0)^2]}$ with $x_0=5$.\n",
    "\n",
    "We use a domain $x\\in [0,10]$ with periodic boundary conditions."
   ]
  },
  {
   "cell_type": "code",
   "execution_count": 1,
   "id": "aca5ccc4",
   "metadata": {
    "collapsed": true
   },
   "outputs": [
    {
     "name": "stderr",
     "output_type": "stream",
     "text": [
      "/home/sam/miniconda3/compiler_compat/ld: warning: libgfortran.so.5, needed by /usr/lib64/libblas.so, not found (try using -rpath or -rpath-link)\n",
      "/home/sam/miniconda3/compiler_compat/ld: /tmp/tmpyoxzgshm/tmp/tmpyoxzgshm/source.o: in function `main':\n",
      "source.c:(.text.startup+0x50): undefined reference to `cblas_ddot'\n",
      "/home/sam/miniconda3/compiler_compat/ld: /usr/lib64/libblas.so: undefined reference to `_gfortran_stop_string@GFORTRAN_8'\n",
      "/home/sam/miniconda3/compiler_compat/ld: /usr/lib64/libblas.so: undefined reference to `_gfortran_st_write@GFORTRAN_8'\n",
      "/home/sam/miniconda3/compiler_compat/ld: /usr/lib64/libblas.so: undefined reference to `_gfortran_string_len_trim@GFORTRAN_8'\n",
      "/home/sam/miniconda3/compiler_compat/ld: /usr/lib64/libblas.so: undefined reference to `_gfortran_transfer_character_write@GFORTRAN_8'\n",
      "/home/sam/miniconda3/compiler_compat/ld: /usr/lib64/libblas.so: undefined reference to `_gfortran_transfer_integer_write@GFORTRAN_8'\n",
      "/home/sam/miniconda3/compiler_compat/ld: /usr/lib64/libblas.so: undefined reference to `_gfortran_st_write_done@GFORTRAN_8'\n",
      "collect2: error: ld returned 1 exit status\n",
      "/home/sam/miniconda3/compiler_compat/ld: warning: libgfortran.so.5, needed by /usr/lib64/libblas.so, not found (try using -rpath or -rpath-link)\n",
      "/home/sam/miniconda3/compiler_compat/ld: /usr/lib64/libblas.so: undefined reference to `_gfortran_stop_string@GFORTRAN_8'\n",
      "/home/sam/miniconda3/compiler_compat/ld: /usr/lib64/libblas.so: undefined reference to `_gfortran_st_write@GFORTRAN_8'\n",
      "/home/sam/miniconda3/compiler_compat/ld: /usr/lib64/libblas.so: undefined reference to `_gfortran_string_len_trim@GFORTRAN_8'\n",
      "/home/sam/miniconda3/compiler_compat/ld: /usr/lib64/libblas.so: undefined reference to `_gfortran_transfer_character_write@GFORTRAN_8'\n",
      "/home/sam/miniconda3/compiler_compat/ld: /usr/lib64/libblas.so: undefined reference to `_gfortran_transfer_integer_write@GFORTRAN_8'\n",
      "/home/sam/miniconda3/compiler_compat/ld: /usr/lib64/libblas.so: undefined reference to `_gfortran_st_write_done@GFORTRAN_8'\n",
      "collect2: error: ld returned 1 exit status\n",
      "/home/sam/miniconda3/compiler_compat/ld: warning: libgfortran.so.5, needed by /usr/lib64/libblas.so, not found (try using -rpath or -rpath-link)\n",
      "/home/sam/miniconda3/compiler_compat/ld: /tmp/tmpyoxzgshm/tmp/tmpyoxzgshm/source.o: in function `main':\n",
      "source.c:(.text.startup+0x50): undefined reference to `cblas_ddot'\n",
      "/home/sam/miniconda3/compiler_compat/ld: /usr/lib64/libblas.so: undefined reference to `_gfortran_stop_string@GFORTRAN_8'\n",
      "/home/sam/miniconda3/compiler_compat/ld: /usr/lib64/libblas.so: undefined reference to `_gfortran_st_write@GFORTRAN_8'\n",
      "/home/sam/miniconda3/compiler_compat/ld: /usr/lib64/libblas.so: undefined reference to `_gfortran_string_len_trim@GFORTRAN_8'\n",
      "/home/sam/miniconda3/compiler_compat/ld: /usr/lib64/libblas.so: undefined reference to `_gfortran_transfer_character_write@GFORTRAN_8'\n",
      "/home/sam/miniconda3/compiler_compat/ld: /usr/lib64/libblas.so: undefined reference to `_gfortran_transfer_integer_write@GFORTRAN_8'\n",
      "/home/sam/miniconda3/compiler_compat/ld: /usr/lib64/libblas.so: undefined reference to `_gfortran_st_write_done@GFORTRAN_8'\n",
      "collect2: error: ld returned 1 exit status\n",
      "/home/sam/miniconda3/compiler_compat/ld: warning: libblas.so.3, needed by /usr/lib64/libcblas.so, not found (try using -rpath or -rpath-link)\n",
      "/home/sam/miniconda3/compiler_compat/ld: /usr/lib64/libcblas.so: undefined reference to `drot_'\n",
      "/home/sam/miniconda3/compiler_compat/ld: /usr/lib64/libcblas.so: undefined reference to `ssyr2k_'\n",
      "/home/sam/miniconda3/compiler_compat/ld: /usr/lib64/libcblas.so: undefined reference to `dtrsm_'\n",
      "/home/sam/miniconda3/compiler_compat/ld: /usr/lib64/libcblas.so: undefined reference to `ztbsv_'\n",
      "/home/sam/miniconda3/compiler_compat/ld: /usr/lib64/libcblas.so: undefined reference to `strsm_'\n",
      "/home/sam/miniconda3/compiler_compat/ld: /usr/lib64/libcblas.so: undefined reference to `dsymm_'\n",
      "/home/sam/miniconda3/compiler_compat/ld: /usr/lib64/libcblas.so: undefined reference to `dtbsv_'\n",
      "/home/sam/miniconda3/compiler_compat/ld: /usr/lib64/libcblas.so: undefined reference to `chpr_'\n",
      "/home/sam/miniconda3/compiler_compat/ld: /usr/lib64/libcblas.so: undefined reference to `ztrmm_'\n",
      "/home/sam/miniconda3/compiler_compat/ld: /usr/lib64/libcblas.so: undefined reference to `ssymm_'\n",
      "/home/sam/miniconda3/compiler_compat/ld: /usr/lib64/libcblas.so: undefined reference to `ztrmv_'\n",
      "/home/sam/miniconda3/compiler_compat/ld: /usr/lib64/libcblas.so: undefined reference to `ztrsm_'\n",
      "/home/sam/miniconda3/compiler_compat/ld: /usr/lib64/libcblas.so: undefined reference to `dswap_'\n",
      "/home/sam/miniconda3/compiler_compat/ld: /usr/lib64/libcblas.so: undefined reference to `dcopy_'\n",
      "/home/sam/miniconda3/compiler_compat/ld: /usr/lib64/libcblas.so: undefined reference to `dznrm2_'\n",
      "/home/sam/miniconda3/compiler_compat/ld: /usr/lib64/libcblas.so: undefined reference to `csymm_'\n",
      "/home/sam/miniconda3/compiler_compat/ld: /usr/lib64/libcblas.so: undefined reference to `sgemv_'\n",
      "/home/sam/miniconda3/compiler_compat/ld: /usr/lib64/libcblas.so: undefined reference to `ddot_'\n",
      "/home/sam/miniconda3/compiler_compat/ld: /usr/lib64/libcblas.so: undefined reference to `ctpmv_'\n",
      "/home/sam/miniconda3/compiler_compat/ld: /usr/lib64/libcblas.so: undefined reference to `ctrmm_'\n",
      "/home/sam/miniconda3/compiler_compat/ld: /usr/lib64/libcblas.so: undefined reference to `dgemm_'\n",
      "/home/sam/miniconda3/compiler_compat/ld: /usr/lib64/libcblas.so: undefined reference to `drotm_'\n",
      "/home/sam/miniconda3/compiler_compat/ld: /usr/lib64/libcblas.so: undefined reference to `csyr2k_'\n",
      "/home/sam/miniconda3/compiler_compat/ld: /usr/lib64/libcblas.so: undefined reference to `zgbmv_'\n",
      "/home/sam/miniconda3/compiler_compat/ld: /usr/lib64/libcblas.so: undefined reference to `zsyrk_'\n",
      "/home/sam/miniconda3/compiler_compat/ld: /usr/lib64/libcblas.so: undefined reference to `idamax_'\n",
      "/home/sam/miniconda3/compiler_compat/ld: /usr/lib64/libcblas.so: undefined reference to `dger_'\n",
      "/home/sam/miniconda3/compiler_compat/ld: /usr/lib64/libcblas.so: undefined reference to `zhpr2_'\n",
      "/home/sam/miniconda3/compiler_compat/ld: /usr/lib64/libcblas.so: undefined reference to `csyrk_'\n",
      "/home/sam/miniconda3/compiler_compat/ld: /usr/lib64/libcblas.so: undefined reference to `stpmv_'\n",
      "/home/sam/miniconda3/compiler_compat/ld: /usr/lib64/libcblas.so: undefined reference to `chpmv_'\n",
      "/home/sam/miniconda3/compiler_compat/ld: /usr/lib64/libcblas.so: undefined reference to `dtpmv_'\n",
      "/home/sam/miniconda3/compiler_compat/ld: /usr/lib64/libcblas.so: undefined reference to `cherk_'\n",
      "/home/sam/miniconda3/compiler_compat/ld: /usr/lib64/libcblas.so: undefined reference to `zhpmv_'\n",
      "/home/sam/miniconda3/compiler_compat/ld: /usr/lib64/libcblas.so: undefined reference to `ssbmv_'\n",
      "/home/sam/miniconda3/compiler_compat/ld: /usr/lib64/libcblas.so: undefined reference to `cgbmv_'\n",
      "/home/sam/miniconda3/compiler_compat/ld: /usr/lib64/libcblas.so: undefined reference to `scnrm2_'\n",
      "/home/sam/miniconda3/compiler_compat/ld: /usr/lib64/libcblas.so: undefined reference to `ztpsv_'\n",
      "/home/sam/miniconda3/compiler_compat/ld: /usr/lib64/libcblas.so: undefined reference to `cgerc_'\n",
      "/home/sam/miniconda3/compiler_compat/ld: /usr/lib64/libcblas.so: undefined reference to `ctrsm_'\n",
      "/home/sam/miniconda3/compiler_compat/ld: /usr/lib64/libcblas.so: undefined reference to `ztbmv_'\n",
      "/home/sam/miniconda3/compiler_compat/ld: /usr/lib64/libcblas.so: undefined reference to `srotmg_'\n",
      "/home/sam/miniconda3/compiler_compat/ld: /usr/lib64/libcblas.so: undefined reference to `zscal_'\n",
      "/home/sam/miniconda3/compiler_compat/ld: /usr/lib64/libcblas.so: undefined reference to `sspr_'\n",
      "/home/sam/miniconda3/compiler_compat/ld: /usr/lib64/libcblas.so: undefined reference to `dspmv_'\n",
      "/home/sam/miniconda3/compiler_compat/ld: /usr/lib64/libcblas.so: undefined reference to `cgemm_'\n",
      "/home/sam/miniconda3/compiler_compat/ld: /usr/lib64/libcblas.so: undefined reference to `dtbmv_'\n",
      "/home/sam/miniconda3/compiler_compat/ld: /usr/lib64/libcblas.so: undefined reference to `dscal_'\n",
      "/home/sam/miniconda3/compiler_compat/ld: /usr/lib64/libcblas.so: undefined reference to `dgbmv_'\n",
      "/home/sam/miniconda3/compiler_compat/ld: /usr/lib64/libcblas.so: undefined reference to `chpr2_'\n",
      "/home/sam/miniconda3/compiler_compat/ld: /usr/lib64/libcblas.so: undefined reference to `dnrm2_'\n",
      "/home/sam/miniconda3/compiler_compat/ld: /usr/lib64/libcblas.so: undefined reference to `dspr_'\n",
      "/home/sam/miniconda3/compiler_compat/ld: /usr/lib64/libcblas.so: undefined reference to `ctbmv_'\n",
      "/home/sam/miniconda3/compiler_compat/ld: /usr/lib64/libcblas.so: undefined reference to `cher_'\n",
      "/home/sam/miniconda3/compiler_compat/ld: /usr/lib64/libcblas.so: undefined reference to `strsv_'\n",
      "/home/sam/miniconda3/compiler_compat/ld: /usr/lib64/libcblas.so: undefined reference to `cgemv_'\n",
      "/home/sam/miniconda3/compiler_compat/ld: /usr/lib64/libcblas.so: undefined reference to `dtrsv_'\n",
      "/home/sam/miniconda3/compiler_compat/ld: /usr/lib64/libcblas.so: undefined reference to `sasum_'\n",
      "/home/sam/miniconda3/compiler_compat/ld: /usr/lib64/libcblas.so: undefined reference to `zcopy_'\n",
      "/home/sam/miniconda3/compiler_compat/ld: /usr/lib64/libcblas.so: undefined reference to `zhemv_'\n",
      "/home/sam/miniconda3/compiler_compat/ld: /usr/lib64/libcblas.so: undefined reference to `dsymv_'\n",
      "/home/sam/miniconda3/compiler_compat/ld: /usr/lib64/libcblas.so: undefined reference to `ssymv_'\n",
      "/home/sam/miniconda3/compiler_compat/ld: /usr/lib64/libcblas.so: undefined reference to `srotm_'\n",
      "/home/sam/miniconda3/compiler_compat/ld: /usr/lib64/libcblas.so: undefined reference to `zdscal_'\n",
      "/home/sam/miniconda3/compiler_compat/ld: /usr/lib64/libcblas.so: undefined reference to `dsbmv_'\n",
      "/home/sam/miniconda3/compiler_compat/ld: /usr/lib64/libcblas.so: undefined reference to `dsdot_'\n",
      "/home/sam/miniconda3/compiler_compat/ld: /usr/lib64/libcblas.so: undefined reference to `sgbmv_'\n",
      "/home/sam/miniconda3/compiler_compat/ld: /usr/lib64/libcblas.so: undefined reference to `ztrsv_'\n",
      "/home/sam/miniconda3/compiler_compat/ld: /usr/lib64/libcblas.so: undefined reference to `ssyr2_'\n",
      "/home/sam/miniconda3/compiler_compat/ld: /usr/lib64/libcblas.so: undefined reference to `zhpr_'\n",
      "/home/sam/miniconda3/compiler_compat/ld: /usr/lib64/libcblas.so: undefined reference to `zgemv_'\n",
      "/home/sam/miniconda3/compiler_compat/ld: /usr/lib64/libcblas.so: undefined reference to `zherk_'\n",
      "/home/sam/miniconda3/compiler_compat/ld: /usr/lib64/libcblas.so: undefined reference to `sdsdot_'\n",
      "/home/sam/miniconda3/compiler_compat/ld: /usr/lib64/libcblas.so: undefined reference to `stbmv_'\n",
      "/home/sam/miniconda3/compiler_compat/ld: /usr/lib64/libcblas.so: undefined reference to `chbmv_'\n",
      "/home/sam/miniconda3/compiler_compat/ld: /usr/lib64/libcblas.so: undefined reference to `zhbmv_'\n",
      "/home/sam/miniconda3/compiler_compat/ld: /usr/lib64/libcblas.so: undefined reference to `dsyr2_'\n",
      "/home/sam/miniconda3/compiler_compat/ld: /usr/lib64/libcblas.so: undefined reference to `scopy_'\n",
      "/home/sam/miniconda3/compiler_compat/ld: /usr/lib64/libcblas.so: undefined reference to `cher2_'\n",
      "/home/sam/miniconda3/compiler_compat/ld: /usr/lib64/libcblas.so: undefined reference to `zsyr2k_'\n",
      "/home/sam/miniconda3/compiler_compat/ld: /usr/lib64/libcblas.so: undefined reference to `strmm_'\n",
      "/home/sam/miniconda3/compiler_compat/ld: /usr/lib64/libcblas.so: undefined reference to `scasum_'\n",
      "/home/sam/miniconda3/compiler_compat/ld: /usr/lib64/libcblas.so: undefined reference to `chemm_'\n",
      "/home/sam/miniconda3/compiler_compat/ld: /usr/lib64/libcblas.so: undefined reference to `sspmv_'\n",
      "/home/sam/miniconda3/compiler_compat/ld: /usr/lib64/libcblas.so: undefined reference to `cher2k_'\n",
      "/home/sam/miniconda3/compiler_compat/ld: /usr/lib64/libcblas.so: undefined reference to `dsyr2k_'\n",
      "/home/sam/miniconda3/compiler_compat/ld: /usr/lib64/libcblas.so: undefined reference to `isamax_'\n",
      "/home/sam/miniconda3/compiler_compat/ld: /usr/lib64/libcblas.so: undefined reference to `zgerc_'\n",
      "/home/sam/miniconda3/compiler_compat/ld: /usr/lib64/libcblas.so: undefined reference to `ctpsv_'\n",
      "/home/sam/miniconda3/compiler_compat/ld: /usr/lib64/libcblas.so: undefined reference to `sswap_'\n",
      "/home/sam/miniconda3/compiler_compat/ld: /usr/lib64/libcblas.so: undefined reference to `zsymm_'\n",
      "/home/sam/miniconda3/compiler_compat/ld: /usr/lib64/libcblas.so: undefined reference to `sscal_'\n",
      "/home/sam/miniconda3/compiler_compat/ld: /usr/lib64/libcblas.so: undefined reference to `dspr2_'\n",
      "/home/sam/miniconda3/compiler_compat/ld: /usr/lib64/libcblas.so: undefined reference to `dgemv_'\n",
      "/home/sam/miniconda3/compiler_compat/ld: /usr/lib64/libcblas.so: undefined reference to `cswap_'\n",
      "/home/sam/miniconda3/compiler_compat/ld: /usr/lib64/libcblas.so: undefined reference to `zswap_'\n",
      "/home/sam/miniconda3/compiler_compat/ld: /usr/lib64/libcblas.so: undefined reference to `sspr2_'\n",
      "/home/sam/miniconda3/compiler_compat/ld: /usr/lib64/libcblas.so: undefined reference to `srotg_'\n",
      "/home/sam/miniconda3/compiler_compat/ld: /usr/lib64/libcblas.so: undefined reference to `zdotu_'\n",
      "/home/sam/miniconda3/compiler_compat/ld: /usr/lib64/libcblas.so: undefined reference to `chemv_'\n",
      "/home/sam/miniconda3/compiler_compat/ld: /usr/lib64/libcblas.so: undefined reference to `zdotc_'\n",
      "/home/sam/miniconda3/compiler_compat/ld: /usr/lib64/libcblas.so: undefined reference to `zher2_'\n",
      "/home/sam/miniconda3/compiler_compat/ld: /usr/lib64/libcblas.so: undefined reference to `zher_'\n",
      "/home/sam/miniconda3/compiler_compat/ld: /usr/lib64/libcblas.so: undefined reference to `sgemm_'\n",
      "/home/sam/miniconda3/compiler_compat/ld: /usr/lib64/libcblas.so: undefined reference to `cgeru_'\n",
      "/home/sam/miniconda3/compiler_compat/ld: /usr/lib64/libcblas.so: undefined reference to `stpsv_'\n",
      "/home/sam/miniconda3/compiler_compat/ld: /usr/lib64/libcblas.so: undefined reference to `saxpy_'\n",
      "/home/sam/miniconda3/compiler_compat/ld: /usr/lib64/libcblas.so: undefined reference to `caxpy_'\n",
      "/home/sam/miniconda3/compiler_compat/ld: /usr/lib64/libcblas.so: undefined reference to `dsyrk_'\n",
      "/home/sam/miniconda3/compiler_compat/ld: /usr/lib64/libcblas.so: undefined reference to `cscal_'\n",
      "/home/sam/miniconda3/compiler_compat/ld: /usr/lib64/libcblas.so: undefined reference to `dsyr_'\n",
      "/home/sam/miniconda3/compiler_compat/ld: /usr/lib64/libcblas.so: undefined reference to `dasum_'\n",
      "/home/sam/miniconda3/compiler_compat/ld: /usr/lib64/libcblas.so: undefined reference to `sdot_'\n",
      "/home/sam/miniconda3/compiler_compat/ld: /usr/lib64/libcblas.so: undefined reference to `csscal_'\n",
      "/home/sam/miniconda3/compiler_compat/ld: /usr/lib64/libcblas.so: undefined reference to `stbsv_'\n",
      "/home/sam/miniconda3/compiler_compat/ld: /usr/lib64/libcblas.so: undefined reference to `dtrmm_'\n",
      "/home/sam/miniconda3/compiler_compat/ld: /usr/lib64/libcblas.so: undefined reference to `daxpy_'\n",
      "/home/sam/miniconda3/compiler_compat/ld: /usr/lib64/libcblas.so: undefined reference to `cdotc_'\n",
      "/home/sam/miniconda3/compiler_compat/ld: /usr/lib64/libcblas.so: undefined reference to `icamax_'\n",
      "/home/sam/miniconda3/compiler_compat/ld: /usr/lib64/libcblas.so: undefined reference to `zhemm_'\n",
      "/home/sam/miniconda3/compiler_compat/ld: /usr/lib64/libcblas.so: undefined reference to `drotmg_'\n",
      "/home/sam/miniconda3/compiler_compat/ld: /usr/lib64/libcblas.so: undefined reference to `dtrmv_'\n",
      "/home/sam/miniconda3/compiler_compat/ld: /usr/lib64/libcblas.so: undefined reference to `ctrmv_'\n",
      "/home/sam/miniconda3/compiler_compat/ld: /usr/lib64/libcblas.so: undefined reference to `ccopy_'\n",
      "/home/sam/miniconda3/compiler_compat/ld: /usr/lib64/libcblas.so: undefined reference to `dzasum_'\n",
      "/home/sam/miniconda3/compiler_compat/ld: /usr/lib64/libcblas.so: undefined reference to `sger_'\n",
      "/home/sam/miniconda3/compiler_compat/ld: /usr/lib64/libcblas.so: undefined reference to `srot_'\n",
      "/home/sam/miniconda3/compiler_compat/ld: /usr/lib64/libcblas.so: undefined reference to `zgeru_'\n",
      "/home/sam/miniconda3/compiler_compat/ld: /usr/lib64/libcblas.so: undefined reference to `ctrsv_'\n",
      "/home/sam/miniconda3/compiler_compat/ld: /usr/lib64/libcblas.so: undefined reference to `snrm2_'\n",
      "/home/sam/miniconda3/compiler_compat/ld: /usr/lib64/libcblas.so: undefined reference to `ctbsv_'\n",
      "/home/sam/miniconda3/compiler_compat/ld: /usr/lib64/libcblas.so: undefined reference to `strmv_'\n",
      "/home/sam/miniconda3/compiler_compat/ld: /usr/lib64/libcblas.so: undefined reference to `ztpmv_'\n",
      "/home/sam/miniconda3/compiler_compat/ld: /usr/lib64/libcblas.so: undefined reference to `ssyrk_'\n",
      "/home/sam/miniconda3/compiler_compat/ld: /usr/lib64/libcblas.so: undefined reference to `izamax_'\n",
      "/home/sam/miniconda3/compiler_compat/ld: /usr/lib64/libcblas.so: undefined reference to `ssyr_'\n",
      "/home/sam/miniconda3/compiler_compat/ld: /usr/lib64/libcblas.so: undefined reference to `dtpsv_'\n",
      "/home/sam/miniconda3/compiler_compat/ld: /usr/lib64/libcblas.so: undefined reference to `drotg_'\n",
      "/home/sam/miniconda3/compiler_compat/ld: /usr/lib64/libcblas.so: undefined reference to `zaxpy_'\n",
      "/home/sam/miniconda3/compiler_compat/ld: /usr/lib64/libcblas.so: undefined reference to `zgemm_'\n",
      "/home/sam/miniconda3/compiler_compat/ld: /usr/lib64/libcblas.so: undefined reference to `cdotu_'\n",
      "/home/sam/miniconda3/compiler_compat/ld: /usr/lib64/libcblas.so: undefined reference to `zher2k_'\n",
      "collect2: error: ld returned 1 exit status\n",
      "/home/sam/miniconda3/compiler_compat/ld: warning: libgfortran.so.5, needed by /usr/lib64/libblas.so, not found (try using -rpath or -rpath-link)\n",
      "/home/sam/miniconda3/compiler_compat/ld: /tmp/tmpyoxzgshm/tmp/tmpyoxzgshm/source.o: in function `main':\n",
      "source.c:(.text.startup+0x50): undefined reference to `cblas_ddot'\n",
      "/home/sam/miniconda3/compiler_compat/ld: /usr/lib64/libblas.so: undefined reference to `_gfortran_stop_string@GFORTRAN_8'\n",
      "/home/sam/miniconda3/compiler_compat/ld: /usr/lib64/libblas.so: undefined reference to `_gfortran_st_write@GFORTRAN_8'\n",
      "/home/sam/miniconda3/compiler_compat/ld: /usr/lib64/libblas.so: undefined reference to `_gfortran_string_len_trim@GFORTRAN_8'\n",
      "/home/sam/miniconda3/compiler_compat/ld: /usr/lib64/libblas.so: undefined reference to `_gfortran_transfer_character_write@GFORTRAN_8'\n",
      "/home/sam/miniconda3/compiler_compat/ld: /usr/lib64/libblas.so: undefined reference to `_gfortran_transfer_integer_write@GFORTRAN_8'\n",
      "/home/sam/miniconda3/compiler_compat/ld: /usr/lib64/libblas.so: undefined reference to `_gfortran_st_write_done@GFORTRAN_8'\n",
      "collect2: error: ld returned 1 exit status\n"
     ]
    },
    {
     "ename": "SyntaxError",
     "evalue": "unterminated string literal (detected at line 1) (<string>, line 1)",
     "output_type": "error",
     "traceback": [
      "Traceback \u001b[0;36m(most recent call last)\u001b[0m:\n",
      "\u001b[0m  File \u001b[1;32m~/miniconda3/lib/python3.10/site-packages/IPython/core/interactiveshell.py:3505\u001b[0m in \u001b[1;35mrun_code\u001b[0m\n    exec(code_obj, self.user_global_ns, self.user_ns)\u001b[0m\n",
      "\u001b[0m  Cell \u001b[1;32mIn[1], line 10\u001b[0m\n    get_ipython().run_line_magic('config', \"InlineBackend.figure_format='retina\")\u001b[0m\n",
      "\u001b[0m  File \u001b[1;32m~/miniconda3/lib/python3.10/site-packages/IPython/core/interactiveshell.py:2414\u001b[0m in \u001b[1;35mrun_line_magic\u001b[0m\n    result = fn(*args, **kwargs)\u001b[0m\n",
      "\u001b[0;36m  File \u001b[0;32m~/miniconda3/lib/python3.10/site-packages/IPython/core/magics/config.py:134\u001b[0;36m in \u001b[0;35mconfig\u001b[0;36m\n\u001b[0;31m    exec(\"cfg.\"+line, self.shell.user_ns, locals())\u001b[0;36m\n",
      "\u001b[0;36m  File \u001b[0;32m<string>:1\u001b[0;36m\u001b[0m\n\u001b[0;31m    cfg.InlineBackend.figure_format='retina\u001b[0m\n\u001b[0m                                    ^\u001b[0m\n\u001b[0;31mSyntaxError\u001b[0m\u001b[0;31m:\u001b[0m unterminated string literal (detected at line 1)\n"
     ]
    }
   ],
   "source": [
    "import numpy as np\n",
    "import matplotlib.pyplot as plt\n",
    "from matplotlib import animation\n",
    "from tqdm.notebook import tqdm\n",
    "\n",
    "\n",
    "if \"setup_text_plots\" not in globals():\n",
    "    from astroML.plotting import setup_text_plots\n",
    "setup_text_plots(fontsize=14, usetex=True)\n",
    "%config InlineBackend.figure_format='retina"
   ]
  },
  {
   "cell_type": "code",
   "execution_count": 2,
   "id": "300b783b",
   "metadata": {},
   "outputs": [
    {
     "name": "stdout",
     "output_type": "stream",
     "text": [
      "nx= 101\n",
      "dx= 0.1\n",
      "dt= 0.05\n",
      "Number of iterations= 400.0\n"
     ]
    }
   ],
   "source": [
    "#speed of the advection\n",
    "a = 1.0\n",
    "\n",
    "#domain\n",
    "L = 10.0                    # length   \n",
    "nx = 101                    # number of points\n",
    "dx = L/(nx-1)               # spacing bw points\n",
    "x = np.linspace(0, L, nx)   \n",
    "\n",
    "\n",
    "cf = 0.5             # convergence factor\n",
    "dt = cf*dx/a         # timestep\n",
    "t_final = 20.0       # final time\n",
    "n_i = t_final/dt\n",
    "\n",
    "print('nx=',nx)\n",
    "print('dx=',dx)\n",
    "print('dt=',dt)\n",
    "print('Number of iterations=', n_i)"
   ]
  },
  {
   "cell_type": "code",
   "execution_count": 3,
   "id": "94b7fe74",
   "metadata": {},
   "outputs": [],
   "source": [
    "def plot(x, u_current, name):\n",
    "    ax.clear()\n",
    "    ax.plot(x, u_current)\n",
    "    \n",
    "    ax.set_xlabel(f'$x$', c='w')\n",
    "    ax.set_ylabel(f'$u(x, t)$', c='w')\n",
    "    ax.set_ylim(0, 1.1)\n",
    "    \n",
    "    ax.set_title(f'{name} form upwind method, time = {round(t,1)}')"
   ]
  },
  {
   "cell_type": "code",
   "execution_count": 4,
   "id": "5f6ee144",
   "metadata": {},
   "outputs": [],
   "source": [
    "def non_conservative(frame):\n",
    "    global u_current, t, l2norm, all_u\n",
    "    \n",
    "    #upwind method in non conservative form\n",
    "    if (t < t_final):\n",
    "        # roll -1 is j+1\n",
    "        u_next =  u_current - u_current*dt/(dx)*(u_current - np.roll(u_current, 1))     \n",
    "        u_previous = u_current.copy()\n",
    "        u_current = u_next.copy()\n",
    "        l2norm[frame] = np.sqrt(np.sum(u_current**2)/len(u_current))\n",
    "        all_u[frame] = u_current\n",
    "        \n",
    "        plot(x, u_current, 'Non Conservative')\n",
    "        t += dt"
   ]
  },
  {
   "cell_type": "code",
   "execution_count": 5,
   "id": "ad30f870",
   "metadata": {},
   "outputs": [],
   "source": [
    "def conservative(frame):\n",
    "    global u_current, t, l2norm, all_u\n",
    "    \n",
    "    #upwind method in conservative form\n",
    "    if (t < t_final):\n",
    "        # roll -1 is j+1\n",
    "        u_next =  u_current - dt/(dx)*(0.5*u_current**2 - 0.5*np.roll(u_current, 1)**2)     \n",
    "        u_previous = u_current.copy()\n",
    "        u_current = u_next.copy()\n",
    "        l2norm[frame] = np.sqrt(np.sum(u_current**2)/len(u_current))\n",
    "        all_u[frame] = u_current\n",
    "        \n",
    "        plot(x, u_current, 'Conservative')\n",
    "        t += dt"
   ]
  },
  {
   "cell_type": "code",
   "execution_count": 19,
   "id": "80ed6d3c",
   "metadata": {},
   "outputs": [],
   "source": [
    "# Define the initial condition \n",
    "x0 = 5\n",
    "u_initial = np.exp(-(x-x0)**2)      #gaussian centered in 5\n",
    "\n",
    "# Initialize the solution array\n",
    "u_current = u_initial.copy()\n",
    "u_previous = np.exp(-((x + a*dt) -x0)**2) \n",
    "\n",
    "#initialize the norm array\n",
    "l2norm = np.zeros(round(n_i))\n",
    "all_u = np.zeros((round(n_i),len(x)))"
   ]
  },
  {
   "cell_type": "code",
   "execution_count": null,
   "id": "5175e5c2",
   "metadata": {},
   "outputs": [
    {
     "data": {
      "application/vnd.jupyter.widget-view+json": {
       "model_id": "71377ebb12034820a8f8689a832f6e4e",
       "version_major": 2,
       "version_minor": 0
      },
      "text/plain": [
       "  0%|          | 0/200 [00:00<?, ?it/s]"
      ]
     },
     "metadata": {},
     "output_type": "display_data"
    }
   ],
   "source": [
    "# SELECT METHOD #\n",
    "h = ['Non conservative form', 'Conservative form']\n",
    "t = 0.0\n",
    "\n",
    "num_frames = int(t_final/dt) # We set the total number of iterations as the total number of frames\n",
    "num_frames = 200\n",
    "\n",
    "fig, ax = plt.subplots()\n",
    "nc_ani = animation.FuncAnimation(fig, non_conservative, frames = tqdm(range(num_frames)), interval=1, repeat=True)\n",
    "#c_ani = animation.FuncAnimation(fig, conservative, frames = tqdm(range(num_frames)), interval=1, repeat=True)\n",
    "\n",
    "\n",
    "# Saving the Animation\n",
    "writergif = animation.PillowWriter(fps=30)\n",
    "#nc_ani.save(r\"nc.gif\", writer=writergif)\n",
    "c_ani.save(r\"c.gif\", writer=writergif)"
   ]
  },
  {
   "cell_type": "code",
   "execution_count": 12,
   "id": "7ab07e4a",
   "metadata": {},
   "outputs": [
    {
     "data": {
      "image/png": "[encoded data removed]",
      "text/plain": [
       "<Figure size 640x480 with 1 Axes>"
      ]
     },
     "metadata": {},
     "output_type": "display_data"
    }
   ],
   "source": [
    "#you need to run the corresponding simulation first\n",
    "I = 0\n",
    "\n",
    "time = np.linspace(0, t_final, num_frames)\n",
    "frame = 190\n",
    "t_i = round(time[frame],2)\n",
    "\n",
    "u_i = all_u[frame]\n",
    "plt.plot(x, u_i)\n",
    "plt.title(f'{h[I]} upwind method, time = {t_i}')\n",
    "plt.xlabel(r'$x$')\n",
    "plt.ylabel(r'$u$')\n",
    "plt.ylim(0, 1.1)\n",
    "\n",
    "plt.savefig(f'images/{h[I]}_t={t_i}.png', dpi=300)"
   ]
  },
  {
   "cell_type": "code",
   "execution_count": 17,
   "id": "daef2515",
   "metadata": {},
   "outputs": [
    {
     "data": {
      "image/png": "[encoded data removed]",
      "text/plain": [
       "<Figure size 640x480 with 1 Axes>"
      ]
     },
     "metadata": {},
     "output_type": "display_data"
    }
   ],
   "source": [
    "plt.plot(time, l2norm[:200])\n",
    "plt.yscale('log')\n",
    "\n",
    "plt.title(f'{h[I]} upwind norm')\n",
    "\n",
    "plt.xlabel(r'$t$')\n",
    "plt.ylabel(r'$||u||$')\n",
    "\n",
    "plt.savefig(\"l2norm_nc\" + \".png\", dpi=300, bbox_inches='tight')\n",
    "#plt.savefig(\"l2norm_c\" + \".png\", dpi=300, bbox_inches='tight')\n",
    "plt.show()"
   ]
  }
 ],
 "metadata": {
  "kernelspec": {
   "display_name": "Python 3 (ipykernel)",
   "language": "python",
   "name": "python3"
  },
  "language_info": {
   "codemirror_mode": {
    "name": "ipython",
    "version": 3
   },
   "file_extension": ".py",
   "mimetype": "text/x-python",
   "name": "python",
   "nbconvert_exporter": "python",
   "pygments_lexer": "ipython3",
   "version": "3.10.9"
  }
 },
 "nbformat": 4,
 "nbformat_minor": 5
}
