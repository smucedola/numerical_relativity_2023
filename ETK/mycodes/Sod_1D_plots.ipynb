{
 "cells": [
  {
   "cell_type": "markdown",
   "metadata": {},
   "source": [
    "# Riemann Problem"
   ]
  },
  {
   "cell_type": "code",
   "execution_count": 53,
   "metadata": {},
   "outputs": [],
   "source": [
    "import matplotlib.pyplot as plt\n",
    "import numpy as np\n",
    "from kuibit.simdir import SimDir\n",
    "from kuibit.grid_data import UniformGrid"
   ]
  },
  {
   "cell_type": "markdown",
   "metadata": {},
   "source": [
    "## Exact Solution"
   ]
  },
  {
   "cell_type": "code",
   "execution_count": 54,
   "metadata": {},
   "outputs": [],
   "source": [
    "#initial data from the Exact Riemann solver of https://www.brunogiacomazzo.org/?page_id=395\n",
    "exact = np.loadtxt(\"../bgiacoma-tutorials/Sod_exact.dat\")"
   ]
  },
  {
   "cell_type": "code",
   "execution_count": 55,
   "metadata": {},
   "outputs": [],
   "source": [
    "x_exact=exact[:,0]\n",
    "rho_exact=exact[:,1]\n",
    "press_exact=exact[:,2] #note: this is pgas+pmag\n",
    "vx_exact=exact[:,3]\n",
    "vy_exact=exact[:,4]\n",
    "vz_exact=exact[:,5]\n",
    "By_exact=exact[:,6]\n",
    "Bz_exact=exact[:,7]"
   ]
  },
  {
   "cell_type": "code",
   "execution_count": 56,
   "metadata": {},
   "outputs": [
    {
     "data": {
      "image/png": "[encoded data removed]",
      "text/plain": [
       "<Figure size 640x480 with 1 Axes>"
      ]
     },
     "metadata": {},
     "output_type": "display_data"
    }
   ],
   "source": [
    "plt.plot(x_exact, rho_exact, label=\"exact\")\n",
    "plt.xlim(-0.5, 0.5)\n",
    "plt.legend()\n",
    "plt.show()"
   ]
  },
  {
   "cell_type": "markdown",
   "metadata": {},
   "source": [
    "## Read the Numerical Results"
   ]
  },
  {
   "cell_type": "code",
   "execution_count": 88,
   "metadata": {},
   "outputs": [
    {
     "name": "stdout",
     "output_type": "stream",
     "text": [
      "\n",
      "Available grid data of dimension 1D (x): \n",
      "['dens', 'tau', 'scon[0]', 'scon[1]', 'scon[2]', 'rho', 'press', 'eps', 'vel[0]', 'vel[1]', 'vel[2]', 'w_lorentz']\n",
      "\n",
      "\n",
      "Available grid data of dimension 1D (y): \n",
      "['dens', 'tau', 'scon[0]', 'scon[1]', 'scon[2]', 'rho', 'press', 'eps', 'vel[0]', 'vel[1]', 'vel[2]', 'w_lorentz']\n",
      "\n",
      "\n",
      "Available grid data of dimension 1D (z): \n",
      "['dens', 'tau', 'scon[0]', 'scon[1]', 'scon[2]', 'rho', 'press', 'eps', 'vel[0]', 'vel[1]', 'vel[2]', 'w_lorentz']\n",
      "\n",
      "\n",
      "Available grid data of dimension 2D (xy): \n",
      "[]\n",
      "\n",
      "\n",
      "Available grid data of dimension 2D (xz): \n",
      "[]\n",
      "\n",
      "\n",
      "Available grid data of dimension 2D (yz): \n",
      "[]\n",
      "\n",
      "\n",
      "Available grid data of dimension 3D (xyz): \n",
      "[]\n",
      "\n"
     ]
    }
   ],
   "source": [
    "f = 'Sod_1d_50'\n",
    "gf= SimDir(f\"../simulations/{f}/\").gf\n",
    "print(gf)"
   ]
  },
  {
   "cell_type": "code",
   "execution_count": 89,
   "metadata": {},
   "outputs": [
    {
     "name": "stdout",
     "output_type": "stream",
     "text": [
      "\n",
      "Available grid data of dimension 1D (x): \n",
      "['dens', 'tau', 'scon[0]', 'scon[1]', 'scon[2]', 'rho', 'press', 'eps', 'vel[0]', 'vel[1]', 'vel[2]', 'w_lorentz']\n",
      "\n"
     ]
    }
   ],
   "source": [
    "vars1d=gf.x\n",
    "print(vars1d)"
   ]
  },
  {
   "cell_type": "code",
   "execution_count": 90,
   "metadata": {},
   "outputs": [],
   "source": [
    "rho=vars1d.fields.rho"
   ]
  },
  {
   "cell_type": "markdown",
   "metadata": {},
   "source": [
    "## Kuibit Standard Methods for Plots\n",
    "\n",
    "We create a uniform grid and plot the data on it. Kuibit indeed assumes that data were produced on a grid with several meshes (AMR). In our case the grid was already uniform, so later we will see an alternative way to plot the data without interpolating them on a new grid."
   ]
  },
  {
   "cell_type": "code",
   "execution_count": 91,
   "metadata": {},
   "outputs": [],
   "source": [
    "small_grid = UniformGrid([101], x0=[-0.45], x1=[0.45])"
   ]
  },
  {
   "cell_type": "code",
   "execution_count": 92,
   "metadata": {},
   "outputs": [
    {
     "name": "stdout",
     "output_type": "stream",
     "text": [
      "[0, 10, 20, 30, 40, 50, 60, 70, 80, 90, 100]\n"
     ]
    }
   ],
   "source": [
    "print(rho.iterations)"
   ]
  },
  {
   "cell_type": "code",
   "execution_count": 94,
   "metadata": {},
   "outputs": [],
   "source": [
    "rho_final = rho.read_on_grid(100, small_grid)"
   ]
  },
  {
   "cell_type": "code",
   "execution_count": 95,
   "metadata": {},
   "outputs": [
    {
     "name": "stdout",
     "output_type": "stream",
     "text": [
      "[-4.50000000e-01 -4.41000000e-01 -4.32000000e-01 -4.23000000e-01\n",
      " -4.14000000e-01 -4.05000000e-01 -3.96000000e-01 -3.87000000e-01\n",
      " -3.78000000e-01 -3.69000000e-01 -3.60000000e-01 -3.51000000e-01\n",
      " -3.42000000e-01 -3.33000000e-01 -3.24000000e-01 -3.15000000e-01\n",
      " -3.06000000e-01 -2.97000000e-01 -2.88000000e-01 -2.79000000e-01\n",
      " -2.70000000e-01 -2.61000000e-01 -2.52000000e-01 -2.43000000e-01\n",
      " -2.34000000e-01 -2.25000000e-01 -2.16000000e-01 -2.07000000e-01\n",
      " -1.98000000e-01 -1.89000000e-01 -1.80000000e-01 -1.71000000e-01\n",
      " -1.62000000e-01 -1.53000000e-01 -1.44000000e-01 -1.35000000e-01\n",
      " -1.26000000e-01 -1.17000000e-01 -1.08000000e-01 -9.90000000e-02\n",
      " -9.00000000e-02 -8.10000000e-02 -7.20000000e-02 -6.30000000e-02\n",
      " -5.40000000e-02 -4.50000000e-02 -3.60000000e-02 -2.70000000e-02\n",
      " -1.80000000e-02 -9.00000000e-03  5.55111512e-17  9.00000000e-03\n",
      "  1.80000000e-02  2.70000000e-02  3.60000000e-02  4.50000000e-02\n",
      "  5.40000000e-02  6.30000000e-02  7.20000000e-02  8.10000000e-02\n",
      "  9.00000000e-02  9.90000000e-02  1.08000000e-01  1.17000000e-01\n",
      "  1.26000000e-01  1.35000000e-01  1.44000000e-01  1.53000000e-01\n",
      "  1.62000000e-01  1.71000000e-01  1.80000000e-01  1.89000000e-01\n",
      "  1.98000000e-01  2.07000000e-01  2.16000000e-01  2.25000000e-01\n",
      "  2.34000000e-01  2.43000000e-01  2.52000000e-01  2.61000000e-01\n",
      "  2.70000000e-01  2.79000000e-01  2.88000000e-01  2.97000000e-01\n",
      "  3.06000000e-01  3.15000000e-01  3.24000000e-01  3.33000000e-01\n",
      "  3.42000000e-01  3.51000000e-01  3.60000000e-01  3.69000000e-01\n",
      "  3.78000000e-01  3.87000000e-01  3.96000000e-01  4.05000000e-01\n",
      "  4.14000000e-01  4.23000000e-01  4.32000000e-01  4.41000000e-01\n",
      "  4.50000000e-01]\n"
     ]
    }
   ],
   "source": [
    "print(*rho_final.coordinates_meshgrid())"
   ]
  },
  {
   "cell_type": "code",
   "execution_count": 96,
   "metadata": {},
   "outputs": [
    {
     "data": {
      "image/png": "[encoded data removed]",
      "text/plain": [
       "<Figure size 640x480 with 1 Axes>"
      ]
     },
     "metadata": {},
     "output_type": "display_data"
    }
   ],
   "source": [
    "plt.plot(*rho_final.coordinates_meshgrid(), rho_final.data_xyz, label=\"GRHydro\")\n",
    "plt.plot(x_exact, rho_exact, label=\"exact\")\n",
    "plt.xlim(-0.5, 0.5)\n",
    "#plt.ylim(0.1, 0.3)\n",
    "plt.ylabel('max_rho')\n",
    "plt.xlabel('x')\n",
    "plt.title(f'{f}')\n",
    "plt.legend()\n",
    "plt.savefig(f'{f}.png', dpi=250)\n",
    "plt.show()"
   ]
  },
  {
   "cell_type": "code",
   "execution_count": null,
   "metadata": {},
   "outputs": [],
   "source": []
  }
 ],
 "metadata": {
  "kernelspec": {
   "display_name": "Python 3 (ipykernel)",
   "language": "python",
   "name": "python3"
  },
  "language_info": {
   "codemirror_mode": {
    "name": "ipython",
    "version": 3
   },
   "file_extension": ".py",
   "mimetype": "text/x-python",
   "name": "python",
   "nbconvert_exporter": "python",
   "pygments_lexer": "ipython3",
   "version": "3.10.10"
  }
 },
 "nbformat": 4,
 "nbformat_minor": 4
}
