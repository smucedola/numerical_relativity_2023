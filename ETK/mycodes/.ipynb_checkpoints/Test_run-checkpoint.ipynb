{
 "cells": [
  {
   "cell_type": "markdown",
   "id": "334b9006",
   "metadata": {},
   "source": [
    "# Notebook setup\n",
    "\n",
    "This notebook is intended to be used online on the Einstein Toolkit tutorial server, offline as a read-only document. To make all of these work some setting need to be tweaked, which we do in the next cell."
   ]
  },
  {
   "cell_type": "code",
   "execution_count": 1,
   "id": "bfe0b56c",
   "metadata": {},
   "outputs": [
    {
     "name": "stdout",
     "output_type": "stream",
     "text": [
      "\n",
      "Automagic is ON, % prefix IS NOT needed for line magics.\n"
     ]
    }
   ],
   "source": [
    "# this allows you to use \"cd\" in cells to change directories instead of requiring \"%cd\"\n",
    "%automagic on\n",
    "# override IPython's default %%bash to not buffer all output\n",
    "from IPython.core.magic import register_cell_magic\n",
    "@register_cell_magic\n",
    "def bash(line, cell): get_ipython().system(cell)\n",
    "\n",
    "# this (non-default package) keeps the end of shell output in view\n",
    "try: import scrolldown\n",
    "except ModuleNotFoundError: pass\n",
    "\n",
    "# We are going to install kuibit, a Python package to post-process Cactus simulations.\n",
    "# We will install kuibit inside the Cactus directory. The main reason for this is to\n",
    "# have a make easier to uninstall kuibit (you can just remove the Cactus folder). \n",
    "import os, sys\n",
    "os.environ[\"PYTHONUSERBASE\"] = os.environ['HOME'] + \"/Cactus/python\"\n",
    "sys.path.insert(1, f\"{os.environ['PYTHONUSERBASE']}/lib/python{sys.version_info[0]}.{sys.version_info[1]}/site-packages\")"
   ]
  },
  {
   "cell_type": "markdown",
   "id": "485fbe90",
   "metadata": {},
   "source": [
    "# Running a basic configuration"
   ]
  },
  {
   "cell_type": "markdown",
   "id": "cb8c40e1",
   "metadata": {},
   "source": [
    "The configuration i want to run is the evolution of a TOV star in a cartesian grid in the einstein toolkit environment. This work is taken from my thesis, so let's access the configuration files.\n",
    "First I'll show where my configuration files are"
   ]
  },
  {
   "cell_type": "code",
   "execution_count": 7,
   "id": "eee8acd2",
   "metadata": {},
   "outputs": [
    {
     "name": "stdout",
     "output_type": "stream",
     "text": [
      "/home/sam/codes/tesi/recon_method\n"
     ]
    }
   ],
   "source": [
    "cd ~/codes/tesi/recon_method/"
   ]
  },
  {
   "cell_type": "code",
   "execution_count": 8,
   "id": "84bc3b82",
   "metadata": {},
   "outputs": [
    {
     "name": "stdout",
     "output_type": "stream",
     "text": [
      "tov_ET_eno.par\r\n",
      "tov_ET_ppm.par\r\n",
      "tov_ET_tvd.par\r\n",
      "tov_ET_weno.par\r\n",
      "tov_ET_weno.par.save\r\n"
     ]
    }
   ],
   "source": [
    "ls | grep .par"
   ]
  },
  {
   "cell_type": "markdown",
   "id": "ee7236db",
   "metadata": {},
   "source": [
    "And now i show where my Cactus path is"
   ]
  },
  {
   "cell_type": "code",
   "execution_count": 9,
   "id": "81be8fcc",
   "metadata": {},
   "outputs": [
    {
     "name": "stdout",
     "output_type": "stream",
     "text": [
      "/home/sam/ET/Cactus\n"
     ]
    }
   ],
   "source": [
    "cd ~/ET/Cactus"
   ]
  },
  {
   "cell_type": "markdown",
   "id": "d54d88ea",
   "metadata": {},
   "source": [
    "Now let's run a simple simulation for the weno reconstruction method.\n",
    "I usually prefer to have my simulations folder inside the ET folder, to do that you need to edit the `basedir` value in `simfactory/etc/defs.local.ini`\n",
    "\n",
    "``` \n",
    "[swift]\n",
    "basedir = ~/ET/simulations\n",
    "```\n",
    "\n",
    "For my case i also decided to move the Cactus directory in another path, if you do so you have to tell the ET that your `sourcebasedir` has changed.\n",
    "Just go to `/home/sam/ET/Cactus/simfactory/mdb/machines` and look for your machine hostname .ini file and then change the following line, in my case `swift.ini`\n",
    "\n",
    "```\n",
    "sourcebasedir   = /home/sam/ET\n",
    "```"
   ]
  },
  {
   "cell_type": "code",
   "execution_count": 44,
   "id": "db27ffe8",
   "metadata": {
    "scrolled": true
   },
   "outputs": [
    {
     "name": "stdout",
     "output_type": "stream",
     "text": [
      "ActiveThorns = \"Time MoL\"\r\n",
      "ActiveThorns = \"Coordbase CartGrid3d Boundary StaticConformal\"\r\n",
      "ActiveThorns = \"SymBase ADMBase TmunuBase HydroBase InitBase ADMCoupling ADMMacros\"\r\n",
      "ActiveThorns = \"IOUtil\"\r\n",
      "ActiveThorns = \"Formaline\"\r\n",
      "ActiveThorns = \"SpaceMask CoordGauge Constants LocalReduce aeilocalinterp LoopControl\"\r\n",
      "ActiveThorns = \"Carpet CarpetLib CarpetReduce CarpetRegrid2 CarpetInterp\"\r\n",
      "ActiveThorns = \"CarpetIOASCII CarpetIOScalar CarpetIOHDF5 CarpetIOBasic\"\r\n",
      "\r\n",
      "# Finalize\r\n",
      "Cactus::terminate           = \"time\"\r\n",
      "Cactus::cctk_final_time     = 400 #800 # divide by ~203 to get ms\r\n",
      "\r\n",
      "# Termination Trigger\r\n",
      "ActiveThorns = \"TerminationTrigger\"\r\n",
      "TerminationTrigger::max_walltime = 24          # hours\r\n",
      "TerminationTrigger::on_remaining_walltime = 0  # minutes\r\n",
      "TerminationTrigger::check_file_every = 512\r\n",
      "TerminationTrigger::termination_file = \"TerminationTrigger.txt\"\r\n",
      "TerminationTrigger::termination_from_file   = \"yes\"\r\n",
      "TerminationTrigger::create_termination_file = \"yes\"\r\n",
      "\r\n",
      "# grid parameters\r\n",
      "Carpet::domain_from_coordbase = \"yes\"\r\n",
      "CartGrid3D::type         = \"coordbase\"\r\n",
      "CartGrid3D::domain       = \"full\"\r\n",
      "CartGrid3D::avoid_origin = \"no\"\r\n",
      "CoordBase::xmin =  0.0\r\n",
      "CoordBase::ymin =  0.0\r\n",
      "CoordBase::zmin =  0.0\r\n",
      "CoordBase::xmax = 24.0\r\n",
      "CoordBase::ymax = 24.0\r\n",
      "CoordBase::zmax = 24.0\r\n",
      "# Change these parameters to change resolution. The ?max settings above\r\n",
      "# have to be multiples of these. 'dx' is the size of one cell in x-direction.\r\n",
      "# Making this smaller means using higher resolution, because more points will\r\n",
      "# be used to cover the same space.\r\n",
      "CoordBase::dx   =   2.0\r\n",
      "CoordBase::dy   =   2.0\r\n",
      "CoordBase::dz   =   2.0\r\n",
      "\r\n",
      "CarpetRegrid2::regrid_every =   0\r\n",
      "CarpetRegrid2::num_centres  =   1\r\n",
      "CarpetRegrid2::num_levels_1 =   2\r\n",
      "CarpetRegrid2::radius_1[1]  = 12.0\r\n",
      "\r\n",
      "\r\n",
      "CoordBase::boundary_size_x_lower        = 3\r\n",
      "CoordBase::boundary_size_y_lower        = 3\r\n",
      "CoordBase::boundary_size_z_lower        = 3\r\n",
      "CoordBase::boundary_size_x_upper        = 3\r\n",
      "CoordBase::boundary_size_y_upper        = 3\r\n",
      "CoordBase::boundary_size_z_upper        = 3\r\n",
      "CoordBase::boundary_shiftout_x_lower    = 1\r\n",
      "CoordBase::boundary_shiftout_y_lower    = 1\r\n",
      "CoordBase::boundary_shiftout_z_lower    = 1\r\n",
      "CoordBase::boundary_shiftout_x_upper    = 0\r\n",
      "CoordBase::boundary_shiftout_y_upper    = 0\r\n",
      "CoordBase::boundary_shiftout_z_upper    = 0\r\n",
      "\r\n",
      "\r\n",
      "ActiveThorns = \"ReflectionSymmetry\"\r\n",
      "\r\n",
      "ReflectionSymmetry::reflection_x = \"yes\"\r\n",
      "ReflectionSymmetry::reflection_y = \"yes\"\r\n",
      "ReflectionSymmetry::reflection_z = \"yes\"\r\n",
      "ReflectionSymmetry::avoid_origin_x = \"no\"\r\n",
      "ReflectionSymmetry::avoid_origin_y = \"no\"\r\n",
      "ReflectionSymmetry::avoid_origin_z = \"no\"\r\n",
      "\r\n",
      "# storage and coupling\r\n",
      "TmunuBase::stress_energy_storage = yes\r\n",
      "TmunuBase::stress_energy_at_RHS  = yes\r\n",
      "TmunuBase::timelevels            =  1\r\n",
      "TmunuBase::prolongation_type     = none\r\n",
      "\r\n",
      "\r\n",
      "HydroBase::timelevels            = 3\r\n",
      "\r\n",
      "ADMMacros::spatial_order = 4\r\n",
      "\r\n",
      "SpaceMask::use_mask      = \"yes\"\r\n",
      "\r\n",
      "Carpet::enable_all_storage       = no\r\n",
      "Carpet::use_buffer_zones         = \"yes\"\r\n",
      "\r\n",
      "Carpet::poison_new_timelevels    = \"yes\"\r\n",
      "Carpet::check_for_poison         = \"no\"\r\n",
      "\r\n",
      "Carpet::init_3_timelevels        = no\r\n",
      "Carpet::init_fill_timelevels     = \"yes\"\r\n",
      "\r\n",
      "CarpetLib::poison_new_memory = \"yes\"\r\n",
      "CarpetLib::poison_value      = 114\r\n",
      "\r\n",
      "# system specific Carpet paramters\r\n",
      "Carpet::max_refinement_levels    = 10\r\n",
      "driver::ghost_size               = 3\r\n",
      "Carpet::prolongation_order_space = 3\r\n",
      "Carpet::prolongation_order_time  = 2\r\n",
      "\r\n",
      "# Time integration\r\n",
      "time::dtfac = 0.25\r\n",
      "\r\n",
      "MoL::ODE_Method             = \"rk4\"\r\n",
      "MoL::MoL_Intermediate_Steps = 4\r\n",
      "MoL::MoL_Num_Scratch_Levels = 1\r\n",
      "\r\n",
      "# check all physical variables for NaNs\r\n",
      "#  This can save you computing time, so it's not a bad idea to do this\r\n",
      "#  once in a whioe.\r\n",
      "ActiveThorns = \"NaNChecker\"\r\n",
      "NaNChecker::check_every = 16384\r\n",
      "NaNChecker::action_if_found = \"terminate\" #\"terminate\", \"just warn\", \"abort\"\r\n",
      "NaNChecker::check_vars = \"ADMBase::metric ADMBase::lapse ADMBase::shift HydroBase::rho HydroBase::eps HydroBase::press HydroBase::vel\"\r\n",
      "\r\n",
      "# Hydro paramters\r\n",
      "\r\n",
      "ActiveThorns = \"EOS_Omni GRHydro\"\r\n",
      "\r\n",
      "HydroBase::evolution_method      = \"GRHydro\"\r\n",
      "\r\n",
      "GRHydro::riemann_solver         = \"Marquina\"\r\n",
      "GRHydro::GRHydro_eos_type       = \"Polytype\"\r\n",
      "GRHydro::GRHydro_eos_table      = \"2D_Polytrope\"\r\n",
      "GRHydro::recon_method           = \"weno\"\r\n",
      "GRHydro::GRHydro_stencil        = 3\r\n",
      "GRHydro::bound                  = \"none\"\r\n",
      "GRHydro::rho_abs_min            = 1.e-10\r\n",
      "# Parameter controlling finite difference order of the Christoffel symbols in GRHydro\r\n",
      "GRHydro::sources_spatial_order  = 4\r\n",
      "\r\n",
      "# Curvature evolution parameters\r\n",
      "\r\n",
      "ActiveThorns = \"GenericFD NewRad\"\r\n",
      "ActiveThorns = \"ML_BSSN ML_BSSN_Helper\"\r\n",
      "ADMBase::evolution_method        = \"ML_BSSN\"\r\n",
      "ADMBase::lapse_evolution_method  = \"ML_BSSN\"\r\n",
      "ADMBase::shift_evolution_method  = \"ML_BSSN\"\r\n",
      "ADMBase::dtlapse_evolution_method= \"ML_BSSN\"\r\n",
      "ADMBase::dtshift_evolution_method= \"ML_BSSN\"\r\n",
      "\r\n",
      "ML_BSSN::timelevels = 3\r\n",
      "\r\n",
      "ML_BSSN::harmonicN           = 1      # 1+log\r\n",
      "ML_BSSN::harmonicF           = 2.0    # 1+log\r\n",
      "ML_BSSN::evolveA             = 1\r\n",
      "ML_BSSN::evolveB             = 1\r\n",
      "# NOTE: The following parameters select geodesic slicing. This choice only enables you to evolve stationary spacetimes.\r\n",
      "#       They will not allow you to simulate a collapsing TOV star.\r\n",
      "ML_BSSN::ShiftGammaCoeff     = 0.0\r\n",
      "ML_BSSN::AlphaDriver         = 0.0\r\n",
      "ML_BSSN::BetaDriver          = 0.0\r\n",
      "ML_BSSN::advectLapse         = 0\r\n",
      "ML_BSSN::advectShift         = 0\r\n",
      "ML_BSSN::MinimumLapse        = 1.0e-8\r\n",
      "\r\n",
      "ML_BSSN::my_initial_boundary_condition = \"extrapolate-gammas\"\r\n",
      "ML_BSSN::my_rhs_boundary_condition     = \"NewRad\"\r\n",
      "\r\n",
      "# Some dissipation to get rid of high-frequency noise\r\n",
      "ActiveThorns = \"SphericalSurface Dissipation\"\r\n",
      "Dissipation::verbose   = \"no\"\r\n",
      "Dissipation::epsdis   = 0.01\r\n",
      "Dissipation::vars = \"\r\n",
      "        ML_BSSN::ML_log_confac\r\n",
      "        ML_BSSN::ML_metric\r\n",
      "        ML_BSSN::ML_curv\r\n",
      "        ML_BSSN::ML_trace_curv\r\n",
      "        ML_BSSN::ML_Gamma\r\n",
      "        ML_BSSN::ML_lapse\r\n",
      "        ML_BSSN::ML_shift\r\n",
      "\"\r\n",
      "\r\n",
      "\r\n",
      "# init parameters\r\n",
      "InitBase::initial_data_setup_method = \"init_some_levels\"\r\n",
      "\r\n",
      "# Use TOV as initial data\r\n",
      "ActiveThorns = \"TOVSolver\"\r\n",
      "\r\n",
      "HydroBase::initial_hydro         = \"tov\"\r\n",
      "ADMBase::initial_data            = \"tov\"\r\n",
      "ADMBase::initial_lapse           = \"tov\"\r\n",
      "ADMBase::initial_shift           = \"tov\"\r\n",
      "ADMBase::initial_dtlapse         = \"zero\"\r\n",
      "ADMBase::initial_dtshift         = \"zero\"\r\n",
      "\r\n",
      "# Parameters for initial star\r\n",
      "TOVSolver::TOV_Rho_Central[0] = 1.28e-3\r\n",
      "TOVSolver::TOV_Gamma          = 2\r\n",
      "TOVSolver::TOV_K              = 100\r\n",
      "\r\n",
      "# Set equation of state for evolution\r\n",
      "EOS_Omni::poly_gamma                   = 2\r\n",
      "EOS_Omni::poly_k                       = 100\r\n",
      "EOS_Omni::gl_gamma                     = 2\r\n",
      "EOS_Omni::gl_k                         = 100\r\n",
      "\r\n",
      "\r\n",
      "# I/O\r\n",
      "\r\n",
      "# Use (create if necessary) an output directory named like the\r\n",
      "# parameter file (minus the .par)\r\n",
      "IO::out_dir             = ${parfile}\r\n",
      "\r\n",
      "# Write one file overall per output (variable/group)\r\n",
      "# In production runs, comment this or set to \"proc\" to get one file\r\n",
      "# per MPI process\r\n",
      "IO::out_mode            = \"onefile\"\r\n",
      "\r\n",
      "# Some screen output\r\n",
      "IOBasic::outInfo_every = 512\r\n",
      "IOBasic::outInfo_vars  = \"Carpet::physical_time_per_hour HydroBase::rho{reductions='maximum'}\"\r\n",
      "\r\n",
      "# Scalar output\r\n",
      "IOScalar::outScalar_every    = 512\r\n",
      "IOScalar::one_file_per_group = \"yes\"\r\n",
      "IOScalar::outScalar_reductions = \"norm1 norm2 norm_inf sum maximum minimum\"\r\n",
      "IOScalar::outScalar_vars     = \"\r\n",
      " HydroBase::rho{reductions='maximum'}\r\n",
      " HydroBase::press{reductions='maximum'}\r\n",
      " HydroBase::eps{reductions='minimum maximum'}\r\n",
      " HydroBase::vel{reductions='minimum maximum'}\r\n",
      " HydroBase::w_lorentz{reductions='minimum maximum'}\r\n",
      " ADMBase::lapse{reductions='minimum maximum'}\r\n",
      " ADMBase::shift{reductions='minimum maximum'}\r\n",
      " ML_BSSN::ML_Ham{reductions='norm1 norm2 maximum minimum norm_inf'}\r\n",
      " ML_BSSN::ML_mom{reductions='norm1 norm2 maximum minimum norm_inf'}\r\n",
      " GRHydro::dens{reductions='minimum maximum sum'}\r\n",
      " Carpet::timing{reductions='average'}\r\n",
      "\"\r\n",
      "\r\n",
      "# 1D ASCII output. Disable for production runs!\r\n",
      "IOASCII::out1D_every        = 2048\r\n",
      "IOASCII::one_file_per_group = yes\r\n",
      "IOASCII::output_symmetry_points = no\r\n",
      "IOASCII::out1D_vars         = \"\r\n",
      " HydroBase::rho\r\n",
      " HydroBase::press\r\n",
      " HydroBase::eps\r\n",
      " HydroBase::vel\r\n",
      " ADMBase::lapse\r\n",
      " ADMBase::metric\r\n",
      " ADMBase::curv\r\n",
      " ML_BSSN::ML_Ham\r\n",
      " ML_BSSN::ML_mom\r\n",
      "\"\r\n",
      "\r\n",
      "# 2D HDF5 output\r\n",
      "CarpetIOHDF5::output_buffer_points = \"no\"\r\n",
      "\r\n",
      "CarpetIOHDF5::out2D_every = 2048\r\n",
      "CarpetIOHDF5::out2D_vars = \"\r\n",
      " HydroBase::rho\r\n",
      " HydroBase::eps\r\n",
      " HydroBase::vel\r\n",
      " HydroBase::w_lorentz\r\n",
      " ADMBase::lapse\r\n",
      " ADMBase::shift\r\n",
      " ADMBase::metric\r\n",
      " ML_BSSN::ML_Ham\r\n",
      " ML_BSSN::ML_mom\r\n",
      " \"\r\n"
     ]
    }
   ],
   "source": [
    "%%bash\n",
    "cat ~/codes/tesi/recon_method/tov_ET_weno.par"
   ]
  },
  {
   "cell_type": "markdown",
   "id": "e8ce45f5",
   "metadata": {},
   "source": [
    "Let's see the computation time of the simulation"
   ]
  },
  {
   "cell_type": "code",
   "execution_count": 45,
   "id": "abef8974",
   "metadata": {},
   "outputs": [
    {
     "name": "stdout",
     "output_type": "stream",
     "text": [
      "Cactus::cctk_final_time     = 400 #800 # divide by ~203 to get ms\r\n"
     ]
    }
   ],
   "source": [
    "%%bash\n",
    "cat ~/codes/tesi/recon_method/tov_ET_weno.par | grep final_time"
   ]
  },
  {
   "cell_type": "code",
   "execution_count": 46,
   "id": "c910f236",
   "metadata": {
    "scrolled": true
   },
   "outputs": [
    {
     "name": "stdout",
     "output_type": "stream",
     "text": [
      "Parameter file: /home/sam/codes/tesi/recon_method/tov_ET_weno.par\n",
      "Skeleton Created\n",
      "Job directory: \"/home/sam/ET/simulations/tov_ET_weno\"\n",
      "Executable: \"/home/sam/ET/Cactus/exe/cactus_sim\"\n",
      "Option list: \"/home/sam/ET/simulations/tov_ET_weno/SIMFACTORY/cfg/OptionList\"\n",
      "Submit script: \"/home/sam/ET/simulations/tov_ET_weno/SIMFACTORY/run/SubmitScript\"\n",
      "Run script: \"/home/sam/ET/simulations/tov_ET_weno/SIMFACTORY/run/RunScript\"\n",
      "Parameter file: \"/home/sam/ET/simulations/tov_ET_weno/SIMFACTORY/par/tov_ET_weno.par\"\n"
     ]
    }
   ],
   "source": [
    "%%bash\n",
    "./simfactory/bin/sim create tov_ET_weno --configuration sim --parfile=~/codes/tesi/recon_method/tov_ET_weno.par"
   ]
  },
  {
   "cell_type": "markdown",
   "id": "6491cbc9",
   "metadata": {},
   "source": [
    "As you can see, the structure of the simulation has been created, that mean ET has allocated the resources and activated the thorns needed in order to run the simulation. One can check the structure of this by going in the directory"
   ]
  },
  {
   "cell_type": "code",
   "execution_count": 47,
   "id": "f00e06d6",
   "metadata": {},
   "outputs": [
    {
     "name": "stdout",
     "output_type": "stream",
     "text": [
      "SIMFACTORY  log.txt\r\n"
     ]
    }
   ],
   "source": [
    "%%bash\n",
    "cd ~/ET/simulations/tov_ET_weno/\n",
    "ls"
   ]
  },
  {
   "cell_type": "markdown",
   "id": "fac0d53b",
   "metadata": {},
   "source": [
    "And finally now, we can start the simulation. Remember to install the packae `openmpi-bin`"
   ]
  },
  {
   "cell_type": "code",
   "execution_count": 48,
   "id": "347da50f",
   "metadata": {},
   "outputs": [
    {
     "name": "stdout",
     "output_type": "stream",
     "text": [
      "Assigned restart id: 0 \r\n",
      "Executing submit command: exec nohup /home/sam/ET/simulations/tov_ET_weno/output-0000/SIMFACTORY/SubmitScript < /dev/null > /home/sam/ET/simulations/tov_ET_weno/output-0000/tov_ET_weno.out 2> /home/sam/ET/simulations/tov_ET_weno/output-0000/tov_ET_weno.err & echo $!\r\n",
      "Submit finished, job id is 1633\r\n"
     ]
    }
   ],
   "source": [
    "%%bash\n",
    "# start simulation segment\n",
    "./simfactory/bin/sim submit tov_ET_weno --cores=8 --num-threads=4 --walltime=0:20:00"
   ]
  },
  {
   "cell_type": "markdown",
   "id": "41634a01",
   "metadata": {},
   "source": [
    "The `submit` command submitted a new segment for the simulation `tov_ET_weno` to the queueing system to run in the background asking for a maximum runtime of 20 minutes, using a total of 2 compute cores and using 1 thread per MPI ranks. On your laptop it will start right away, on a cluster the queuing system will wait until a sufficient number of nodes is able to start your simulation.\n",
    "\n",
    "You can check the status of the simulation with the following command"
   ]
  },
  {
   "cell_type": "code",
   "execution_count": 49,
   "id": "837c137c",
   "metadata": {},
   "outputs": [
    {
     "name": "stdout",
     "output_type": "stream",
     "text": [
      "Simulation name: tov_ET_weno\r\n",
      "==> tov_ET_weno.out <==\r\n",
      "   CARPET::time_evolution\r\n",
      "   CARPET::time_computing\r\n",
      "   CARPET::time_communicating\r\n",
      "   CARPET::time_io\r\n",
      "   CARPET::evolution_steps_count\r\n",
      "   CARPET::local_grid_points_per_second\r\n",
      "   CARPET::total_grid_points_per_second\r\n",
      "   CARPET::local_grid_point_updates_count\r\n",
      "   CARPET::total_grid_point_updates_count\r\n",
      "   CARPET::local_interior_points_per_second\r\n",
      "   CARPET::total_interior_points_per_second\r\n",
      "   CARPET::local_interior_point_updates_count\r\n",
      "   CARPET::total_interior_point_updates_count\r\n",
      "   CARPET::io_per_second\r\n",
      "   CARPET::io_bytes_per_second\r\n",
      "   CARPET::io_bytes_ascii_per_second\r\n",
      "   CARPET::io_bytes_binary_per_second\r\n",
      "   CARPET::io_count\r\n",
      "   CARPET::io_bytes_count\r\n",
      "   CARPET::io_bytes_ascii_count\r\n",
      "   CARPET::io_bytes_binary_count\r\n",
      "   CARPET::comm_per_second\r\n",
      "   CARPET::comm_bytes_per_second\r\n",
      "   CARPET::comm_count\r\n",
      "   CARPET::comm_bytes_count\r\n",
      "   CARPET::time_levels\r\n",
      "   CARPET::current_walltime\r\n",
      "   CARPET::syncs_count\r\n",
      "   GRHYDRO::dens\r\n",
      "   HYDROBASE::rho\r\n",
      "   HYDROBASE::press\r\n",
      "   HYDROBASE::eps\r\n",
      "   HYDROBASE::vel[0]\r\n",
      "   HYDROBASE::vel[1]\r\n",
      "   HYDROBASE::vel[2]\r\n",
      "   HYDROBASE::w_lorentz\r\n",
      "   ML_BSSN::H\r\n",
      "   ML_BSSN::M1\r\n",
      "   ML_BSSN::M2\r\n",
      "   ML_BSSN::M3\r\n",
      "--------------------------------------------------------------------------------\r\n",
      "INFO (Formaline): Writing tarballs with the Cactus sources into the directory \"tov_ET_weno/cactus-source\"\r\n",
      "\u001b[1mWARNING[L1,P0] (ML_BSSN_Helper):\u001b[0m Forcing ML_BSSN::initial_boundary_condition=\"extrapolate-gammas\" because ML_BSSN::my_initial_boundary_condition=\"extrapolate-gammas\"\r\n",
      "\u001b[1mWARNING[L1,P0] (ML_BSSN_Helper):\u001b[0m Forcing ML_BSSN::rhs_boundary_condition=\"NewRad\" because ML_BSSN::my_rhs_boundary_condition=\"NewRad\"\r\n",
      "\u001b[1mWARNING[L1,P0] (ML_BSSN_Helper):\u001b[0m Forcing ML_BSSN::evolveB=0 because ML_BSSN::shiftGammaCoeff=0.0\r\n",
      "INFO (MoL): Using Runge-Kutta 4 as the time integrator.\r\n",
      "INFO (SymBase): Symmetry on lower x-face: reflection_symmetry\r\n",
      "INFO (SymBase): Symmetry on lower y-face: reflection_symmetry\r\n",
      "INFO (SymBase): Symmetry on lower z-face: reflection_symmetry\r\n",
      "INFO (MoL): The maximum number of evolved variables is 664. 29 are registered.\r\n",
      "INFO (MoL): The maximum number of slow evolved variables is 664. 0 are registered.\r\n",
      "INFO (MoL): The maximum number of constrained variables is 664. 38 are registered.\r\n",
      "INFO (MoL): The maximum number of SandR variables is 664. 0 are registered.\r\n",
      "INFO (MoL): The maximum number of evolved array variables is 664. 0 are registered.\r\n",
      "INFO (MoL): The maximum number of constrained array variables is 664. 0 are registered.\r\n",
      "INFO (MoL): The maximum number of SandR array variables is 664. 0 are registered.\r\n",
      "INFO (MoL): The maximum size of any array variables is 0.\r\n",
      "\u001b[1mWARNING[L1,P0] (ML_BSSN_Helper):\u001b[0m Parameter ML_BSSN::my_initial_boundary_condition is outdated; please update the parameter file. Do not use this parameter, and set up initial boundary conditions as usual.\r\n",
      "\u001b[1mWARNING[L1,P0] (ML_BSSN_Helper):\u001b[0m Parameter ML_BSSN::my_rhs_boundary_condition is outdated; please update the parameter file. Do not use this parameter, and set up RHS boundary conditions as usual.\r\n",
      "INFO (Vectors): Testing vectorisation... [errors may result in segfaults]\r\n",
      "INFO (Vectors): 375/375 tests passed \r\n",
      "INFO (CarpetRegrid2): Enforcing grid structure properties, iteration 0\r\n",
      "INFO (CarpetRegrid2): Enforcing grid structure properties, iteration 1\r\n",
      "INFO (Carpet): Grid structure (superregions, grid points):\r\n",
      "   [0][0][0]   exterior: [0,0,0] : [17,17,17]   ([18,18,18] + PADDING) 5832\r\n",
      "   [1][0][0]   exterior: [3,3,3] : [32,32,32]   ([30,30,30] + PADDING) 27000\r\n",
      "INFO (Carpet): Grid structure (superregions, coordinates):\r\n",
      "   [0][0][0]   exterior: [-6,-6,-6] : [28,28,28] : [2,2,2]\r\n",
      "   [1][0][0]   exterior: [-3,-3,-3] : [26,26,26] : [1,1,1]\r\n",
      "INFO (Carpet): Global grid structure statistics:\r\n",
      "INFO (Carpet): GF: rhs: 10k active, 10k owned (+0%), 24k total (+147%), 3 steps/time\r\n",
      "INFO (Carpet): GF: vars: 252, pts: 4M active, 4M owned (+0%), 10M total (+158%), 1.0 comp/proc\r\n",
      "INFO (Carpet): GA: vars: 289, pts: 0M active, 0M total (+0%)\r\n",
      "INFO (Carpet): Total required memory: 0.080 GByte (for GAs and currently active GFs)\r\n",
      "INFO (Carpet): Load balance:  min     avg     max     sdv     max/avg-1\r\n",
      "INFO (Carpet): Level  0:       0M      0M      0M      0M owned      0%\r\n",
      "INFO (Carpet): Level  1:       2M      2M      2M      0M owned      0%\r\n",
      "INFO (CartGrid3D): Grid Spacings:\r\n",
      "INFO (CartGrid3D): dx=>2.0000000e+00  dy=>2.0000000e+00  dz=>2.0000000e+00\r\n",
      "INFO (CartGrid3D): Computational Coordinates:\r\n",
      "INFO (CartGrid3D): x=>[-6.000,28.000]  y=>[-6.000,28.000]  z=>[-6.000,28.000]\r\n",
      "INFO (CartGrid3D): Indices of Physical Coordinates:\r\n",
      "INFO (CartGrid3D): x=>[0,17]  y=>[0,17]  z=>[0,17]\r\n",
      "INFO (TerminationTrigger): Reminding you every 60 minutes about remaining walltime\r\n",
      "INFO (Time): Timestep set to 0.5 (courant_static)\r\n",
      "INFO (GRHydro): Trying to get EOS handles\r\n",
      "INFO (GRHydro): Trying to get EOS handles\r\n",
      "INFO (GRHydro): GRHydro will use the 2D_Polytrope equation of state.\r\n",
      "INFO (GRHydro): Setting up the atmosphere mask: all points are not_atmosphere\r\n",
      "INFO (TOVSolver): Integrated TOV equation\r\n",
      "INFO (TOVSolver): Information about the TOVs used:\r\n",
      "INFO (): TOV    radius    mass  bary_mass mass(g) cent.rho rho(cgi)        K   K(cgi)    Gamma\r\n",
      "INFO ():   1   8.12502  1.40016  1.50618 2.78e+33  0.00128 7.92e+14      100 1.45e+05        2\r\n",
      "INFO (TOVSolver): Not using old matter initial data\r\n",
      "INFO (TOVSolver): Done interpolation.\r\n",
      "INFO (TerminationTrigger): Reminding you every 60 minutes about remaining walltime\r\n",
      "INFO (Time): Timestep set to 0.25 (courant_static)\r\n",
      "INFO (GRHydro): Setting up the atmosphere mask: all points are not_atmosphere\r\n",
      "INFO (TOVSolver): Not using old matter initial data\r\n",
      "INFO (TOVSolver): Done interpolation.\r\n",
      "\r\n",
      "==> tov_ET_weno.err <==\r\n",
      "+ set -e\r\n",
      "+ cd /home/sam/ET/simulations/tov_ET_weno/output-0000-active\r\n",
      "+ echo Checking:\r\n",
      "+ pwd\r\n",
      "+ hostname\r\n",
      "+ date\r\n",
      "+ echo Environment:\r\n",
      "+ export CACTUS_NUM_PROCS=2\r\n",
      "+ CACTUS_NUM_PROCS=2\r\n",
      "+ export CACTUS_NUM_THREADS=4\r\n",
      "+ CACTUS_NUM_THREADS=4\r\n",
      "+ export GMON_OUT_PREFIX=gmon.out\r\n",
      "+ GMON_OUT_PREFIX=gmon.out\r\n",
      "+ export OMP_NUM_THREADS=4\r\n",
      "+ OMP_NUM_THREADS=4\r\n",
      "+ env\r\n",
      "+ sort\r\n",
      "+ echo Starting:\r\n",
      "++ date +%s\r\n",
      "+ export CACTUS_STARTTIME=1695024105\r\n",
      "+ CACTUS_STARTTIME=1695024105\r\n",
      "+ '[' 2 = 1 ']'\r\n",
      "+ mpirun -np 2 /home/sam/ET/simulations/tov_ET_weno/SIMFACTORY/exe/cactus_sim -L 3 /home/sam/ET/simulations/tov_ET_weno/output-0000/tov_ET_weno.par\r\n",
      "WARNING[L1,P1] (Carpet): The number of threads for this process is larger its number of cores. This may indicate a performance problem.\r\n",
      "WARNING[L1,P0] (Carpet): The number of threads for this process is larger its number of cores. This may indicate a performance problem.\r\n",
      "WARNING[L1,P1] (ML_BSSN_Helper): Forcing ML_BSSN::initial_boundary_condition=\"extrapolate-gammas\" because ML_BSSN::my_initial_boundary_condition=\"extrapolate-gammas\"\r\n",
      "WARNING[L1,P1] (ML_BSSN_Helper): Forcing ML_BSSN::rhs_boundary_condition=\"NewRad\" because ML_BSSN::my_rhs_boundary_condition=\"NewRad\"\r\n",
      "WARNING[L1,P1] (ML_BSSN_Helper): Forcing ML_BSSN::evolveB=0 because ML_BSSN::shiftGammaCoeff=0.0\r\n",
      "WARNING[L1,P1] (ML_BSSN_Helper): Parameter ML_BSSN::my_initial_boundary_condition is outdated; please update the parameter file. Do not use this parameter, and set up initial boundary conditions as usual.\r\n",
      "WARNING[L1,P1] (ML_BSSN_Helper): Parameter ML_BSSN::my_rhs_boundary_condition is outdated; please update the parameter file. Do not use this parameter, and set up RHS boundary conditions as usual.\r\n",
      "WARNING[L1,P0] (ML_BSSN_Helper): Forcing ML_BSSN::initial_boundary_condition=\"extrapolate-gammas\" because ML_BSSN::my_initial_boundary_condition=\"extrapolate-gammas\"\r\n",
      "WARNING[L1,P0] (ML_BSSN_Helper): Forcing ML_BSSN::rhs_boundary_condition=\"NewRad\" because ML_BSSN::my_rhs_boundary_condition=\"NewRad\"\r\n",
      "WARNING[L1,P0] (ML_BSSN_Helper): Forcing ML_BSSN::evolveB=0 because ML_BSSN::shiftGammaCoeff=0.0\r\n",
      "WARNING[L1,P0] (ML_BSSN_Helper): Parameter ML_BSSN::my_initial_boundary_condition is outdated; please update the parameter file. Do not use this parameter, and set up initial boundary conditions as usual.\r\n",
      "WARNING[L1,P0] (ML_BSSN_Helper): Parameter ML_BSSN::my_rhs_boundary_condition is outdated; please update the parameter file. Do not use this parameter, and set up RHS boundary conditions as usual.\r\n"
     ]
    },
    {
     "name": "stdout",
     "output_type": "stream",
     "text": [
      "\n",
      "==> tov_ET_weno.out <==\n",
      "-------------------------------------------------\n",
      "Iteration      Time | *me_per_hour | *ROBASE::rho\n",
      "                    |              |      maximum\n",
      "-------------------------------------------------\n",
      "        0     0.000 |    0.0000000 |    0.0012800\n",
      "      512     0.500 | 3.393070e+03 |    0.0012801\n",
      "     1024     1.000 | 3.387082e+03 |    0.0012802\n",
      "     1536     1.500 | 3.384646e+03 |    0.0012804\n",
      "     2048     2.000 | 3.281293e+03 |    0.0012808\n",
      "     2560     2.500 | 3.195975e+03 |    0.0012812\n",
      "     3072     3.000 | 3.197769e+03 |    0.0012817\n",
      "     3584     3.500 | 3.216992e+03 |    0.0012823\n",
      "     4096     4.000 | 3.203691e+03 |    0.0012829\n",
      "     4608     4.500 | 3.164268e+03 |    0.0012836\n",
      "     5120     5.000 | 3.186298e+03 |    0.0012844\n",
      "     5632     5.500 | 3.217205e+03 |    0.0012853\n",
      "     6144     6.000 | 3.219174e+03 |    0.0012862\n",
      "     6656     6.500 | 3.206778e+03 |    0.0012872\n",
      "     7168     7.000 | 3.227604e+03 |    0.0012882\n",
      "     7680     7.500 | 3.238279e+03 |    0.0012892\n",
      "     8192     8.000 | 3.217117e+03 |    0.0012903\n",
      "     8704     8.500 | 3.194866e+03 |    0.0012914\n",
      "     9216     9.000 | 3.203519e+03 |    0.0012926\n",
      "     9728     9.500 | 3.201693e+03 |    0.0012937\n",
      "-------------------------------------------------\n",
      "Iteration      Time | *me_per_hour | *ROBASE::rho\n",
      "                    |              |      maximum\n",
      "-------------------------------------------------\n",
      "    10240    10.000 | 3.198221e+03 |    0.0012948\n",
      "    10752    10.500 | 3.182264e+03 |    0.0012960\n",
      "    11264    11.000 | 3.193387e+03 |    0.0012972\n",
      "    11776    11.500 | 3.200304e+03 |    0.0012983\n",
      "    12288    12.000 | 3.189055e+03 |    0.0012995\n",
      "    12800    12.500 | 3.168438e+03 |    0.0013006\n",
      "    13312    13.000 | 3.171849e+03 |    0.0013017\n",
      "    13824    13.500 | 3.174217e+03 |    0.0013028\n",
      "    14336    14.000 | 3.168519e+03 |    0.0013038\n",
      "    14848    14.500 | 3.161155e+03 |    0.0013048\n",
      "    15360    15.000 | 3.167742e+03 |    0.0013058\n",
      "    15872    15.500 | 3.177283e+03 |    0.0013068\n",
      "    16384    16.000 | 3.165095e+03 |    0.0013077\n",
      "    16896    16.500 | 3.156222e+03 |    0.0013086\n",
      "    17408    17.000 | 3.160321e+03 |    0.0013095\n",
      "    17920    17.500 | 3.166149e+03 |    0.0013103\n",
      "    18432    18.000 | 3.160017e+03 |    0.0013111\n",
      "    18944    18.500 | 3.156578e+03 |    0.0013119\n",
      "    19456    19.000 | 3.164977e+03 |    0.0013126\n",
      "^C\n",
      "Traceback (most recent call last):\n",
      "  File \"/home/sam/ET/Cactus/./simfactory/bin/../lib/sim.py\", line 149, in <module>\n",
      "    main()\n",
      "  File \"/home/sam/ET/Cactus/./simfactory/bin/../lib/sim.py\", line 145, in main\n",
      "    CommandDispatch()\n",
      "  File \"/home/sam/ET/Cactus/./simfactory/bin/../lib/sim.py\", line 107, in CommandDispatch\n",
      "    module.main()\n",
      "  File \"/home/sam/ET/Cactus/repos/simfactory2/lib/sim-manage.py\", line 398, in main\n",
      "    CommandDispatch()\n",
      "  File \"/home/sam/ET/Cactus/repos/simfactory2/lib/sim-manage.py\", line 377, in CommandDispatch\n",
      "    exec(\"command_%s()\" % command)\n",
      "  File \"<string>\", line 1, in <module>\n",
      "  File \"/home/sam/ET/Cactus/repos/simfactory2/lib/sim-manage.py\", line 312, in command_show_output\n",
      "    restart.show_output()\n",
      "  File \"/home/sam/ET/Cactus/repos/simfactory2/lib/simrestart.py\", line 1558, in show_output\n",
      "    time.sleep(60)\n",
      "KeyboardInterrupt\n"
     ]
    }
   ],
   "source": [
    "%%bash\n",
    "# watch log output, following along as new output is produced\n",
    "./simfactory/bin/sim show-output --follow tov_ET_weno"
   ]
  },
  {
   "cell_type": "markdown",
   "id": "ac488d7e",
   "metadata": {},
   "source": [
    "To abort the simulation just run"
   ]
  },
  {
   "cell_type": "code",
   "execution_count": 50,
   "id": "ab90ff1c",
   "metadata": {},
   "outputs": [
    {
     "name": "stdout",
     "output_type": "stream",
     "text": [
      "Simulation name: tov_ET_weno\r\n",
      "Forcing job 1633 to stop without using graceful termination\r\n",
      "Warning: job status is U\r\n"
     ]
    }
   ],
   "source": [
    "%%bash\n",
    "./simfactory/bin/sim stop tov_ET_weno"
   ]
  },
  {
   "cell_type": "markdown",
   "id": "0f747eda",
   "metadata": {},
   "source": [
    "To list all simulations kept in the cache"
   ]
  },
  {
   "cell_type": "code",
   "execution_count": 51,
   "id": "b214737e",
   "metadata": {
    "scrolled": true
   },
   "outputs": [
    {
     "name": "stdout",
     "output_type": "stream",
     "text": [
      "Warning: job status is U\r\n",
      "   tov_ET_weno             [ACTIVE (FINISHED), restart 0000, job id 1633]\r\n"
     ]
    }
   ],
   "source": [
    "%%bash\n",
    "./simfactory/bin/sim list-simulations"
   ]
  },
  {
   "cell_type": "markdown",
   "id": "32cb422a",
   "metadata": {},
   "source": [
    "The output will be stored in a directory, to get its position"
   ]
  },
  {
   "cell_type": "code",
   "execution_count": 52,
   "id": "2dcef460",
   "metadata": {},
   "outputs": [
    {
     "name": "stdout",
     "output_type": "stream",
     "text": [
      "/home/sam/ET/simulations/tov_ET_weno/output-0000\r\n"
     ]
    }
   ],
   "source": [
    "%%bash\n",
    "./simfactory/bin/sim get-output-dir tov_ET_weno"
   ]
  },
  {
   "cell_type": "markdown",
   "id": "9513b738",
   "metadata": {},
   "source": [
    "If you're done with your simulation just execute"
   ]
  },
  {
   "cell_type": "code",
   "execution_count": 60,
   "id": "6b01d3a7",
   "metadata": {},
   "outputs": [
    {
     "name": "stdout",
     "output_type": "stream",
     "text": [
      "Simulation name: tov_ET_weno\r\n",
      "Warning: simulation \"tov_ET_weno\" does not exist or is not readable\r\n",
      "Error: unable to load simulation tov_ET_weno for purging\r\n",
      "Aborting Simfactory.\r\n"
     ]
    }
   ],
   "source": [
    "%%bash\n",
    "./simfactory/bin/sim purge tov_ET_weno"
   ]
  },
  {
   "cell_type": "markdown",
   "id": "7ea523b6",
   "metadata": {},
   "source": [
    "# Plotting the results"
   ]
  },
  {
   "cell_type": "markdown",
   "id": "6985fdfd",
   "metadata": {},
   "source": [
    "We care to plot the results of the central density evolution with respect to time to show the oscillating behaviour of the perturbed star.\n",
    "I'm gonna sort all reconstruction methods in a single folder named `recon_method`, so i also group the simulations in that folder."
   ]
  },
  {
   "cell_type": "code",
   "execution_count": 59,
   "id": "a5f77643",
   "metadata": {
    "scrolled": true
   },
   "outputs": [
    {
     "name": "stdout",
     "output_type": "stream",
     "text": [
      "/home/sam/ET/Cactus\n"
     ]
    }
   ],
   "source": [
    "cd ~/ET/Cactus/"
   ]
  },
  {
   "cell_type": "code",
   "execution_count": 54,
   "id": "a7f0852f",
   "metadata": {},
   "outputs": [
    {
     "name": "stdout",
     "output_type": "stream",
     "text": [
      "tov_ET_weno\r\n"
     ]
    }
   ],
   "source": [
    "%%bash\n",
    "mkdir /home/sam/ET/simulations/recon_method/\n",
    "mv /home/sam/ET/simulations/tov_ET_weno/ /home/sam/ET/simulations/recon_method/tov_ET_weno/\n",
    "cd /home/sam/ET/simulations/recon_method/\n",
    "ls"
   ]
  },
  {
   "cell_type": "code",
   "execution_count": 55,
   "id": "ad0ed775",
   "metadata": {},
   "outputs": [],
   "source": [
    "#importing packages\n",
    "import numpy as np\n",
    "import matplotlib.pyplot as plt\n",
    "\n",
    "# plot options\n",
    "rc = {\"text.usetex\": True,\n",
    "      \"font.family\": \"serif\",\n",
    "      \"font.sans-serif\": [\"Computer Modern\"],\n",
    "      #\"axes.prop_cycle\": plt.cycler(color=[\"#E24A33\", \"#348ABD\", \"#988ED5\", \"#777777\", \"#FBC15E\", \"#8EBA42\", \"#FFB5B8\", \"#A2C8EC\", \"#FFBC79\", \"#CFCFCF\"])\n",
    "     }\n",
    "plt.rcParams.update(rc)\n",
    "\n",
    "%config InlineBackend.figure_format='retina'"
   ]
  },
  {
   "cell_type": "code",
   "execution_count": 56,
   "id": "d2162124",
   "metadata": {},
   "outputs": [],
   "source": [
    "#directory paths\n",
    "outdir = [\n",
    "  '/home/sam/ET/simulations/recon_method/tov_ET_tvd/output-0000','/home/sam/ET/simulations/resolution/tov_ET_2/output-0000', #tov_ET_2 already is ppm\n",
    "  '/home/sam/ET/simulations/recon_method/tov_ET_eno/output-0000','/home/sam/ET/simulations/recon_method/tov_ET_weno/output-0000',\n",
    "  ]\n",
    "\n",
    "parname = [\n",
    "  'tov_ET_tvd','tov_ET_res2_xmax24', #tov_ET_2 already is ppm\n",
    "  'tov_ET_eno','tov_ET_weno', \n",
    "]"
   ]
  },
  {
   "cell_type": "code",
   "execution_count": 57,
   "id": "768e198f",
   "metadata": {},
   "outputs": [
    {
     "data": {
      "image/png": "[encoded data removed]",
      "text/plain": [
       "<Figure size 640x480 with 1 Axes>"
      ]
     },
     "metadata": {
      "image/png": {
       "height": 450,
       "width": 576
      }
     },
     "output_type": "display_data"
    }
   ],
   "source": [
    "#plotting\n",
    "method = ['tvd', 'ppm', 'eno', 'weno'] #id\n",
    "\n",
    "i = 3     #selector\n",
    "\n",
    "lin_data = np.genfromtxt(outdir[i] + \"/\" + parname[i] + \"/hydrobase-rho.maximum.asc\")\n",
    "plt.plot(lin_data[:,1],lin_data[:,2]/lin_data[0,2], label= f\"{method[i]}\",  linewidth=1.2)\n",
    "\n",
    "\n",
    "#plot options\n",
    "plt.title(\"Numerical Reconstruction Methods\")\n",
    "plt.xlabel(r'$t$ [$M_{\\odot}$]')\n",
    "plt.ylabel(r'$\\rho_c / \\rho_c(0)$')\n",
    "plt.grid(c = 'black', linewidth =.05)\n",
    "plt.legend()\n",
    "# plt.savefig('/home/sam/Programmi/tov_ET/recon_method/recon' + '.png', dpi = 600)\n",
    "plt.show()"
   ]
  },
  {
   "cell_type": "markdown",
   "id": "5bfcf2d0",
   "metadata": {},
   "source": [
    "This is how one starts a simple simulation and is able to plot its results."
   ]
  }
 ],
 "metadata": {
  "kernelspec": {
   "display_name": "Python 3 (ipykernel)",
   "language": "python",
   "name": "python3"
  },
  "language_info": {
   "codemirror_mode": {
    "name": "ipython",
    "version": 3
   },
   "file_extension": ".py",
   "mimetype": "text/x-python",
   "name": "python",
   "nbconvert_exporter": "python",
   "pygments_lexer": "ipython3",
   "version": "3.11.5"
  }
 },
 "nbformat": 4,
 "nbformat_minor": 5
}
