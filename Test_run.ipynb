{
 "cells": [
  {
   "cell_type": "markdown",
   "id": "334b9006",
   "metadata": {},
   "source": [
    "# Notebook setup\n",
    "\n",
    "This notebook is intended to be used online on the Einstein Toolkit tutorial server, offline as a read-only document. To make all of these work some setting need to be tweaked, which we do in the next cell."
   ]
  },
  {
   "cell_type": "code",
   "execution_count": 1,
   "id": "bfe0b56c",
   "metadata": {},
   "outputs": [
    {
     "name": "stdout",
     "output_type": "stream",
     "text": [
      "\n",
      "Automagic is ON, % prefix IS NOT needed for line magics.\n"
     ]
    }
   ],
   "source": [
    "# this allows you to use \"cd\" in cells to change directories instead of requiring \"%cd\"\n",
    "%automagic on\n",
    "# override IPython's default %%bash to not buffer all output\n",
    "from IPython.core.magic import register_cell_magic\n",
    "@register_cell_magic\n",
    "def bash(line, cell): get_ipython().system(cell)\n",
    "\n",
    "# this (non-default package) keeps the end of shell output in view\n",
    "try: import scrolldown\n",
    "except ModuleNotFoundError: pass\n",
    "\n",
    "# We are going to install kuibit, a Python package to post-process Cactus simulations.\n",
    "# We will install kuibit inside the Cactus directory. The main reason for this is to\n",
    "# have a make easier to uninstall kuibit (you can just remove the Cactus folder). \n",
    "import os, sys\n",
    "os.environ[\"PYTHONUSERBASE\"] = os.environ['HOME'] + \"/Cactus/python\"\n",
    "sys.path.insert(1, f\"{os.environ['PYTHONUSERBASE']}/lib/python{sys.version_info[0]}.{sys.version_info[1]}/site-packages\")"
   ]
  },
  {
   "cell_type": "markdown",
   "id": "485fbe90",
   "metadata": {},
   "source": [
    "# Running a basic configuration"
   ]
  },
  {
   "cell_type": "markdown",
   "id": "cb8c40e1",
   "metadata": {},
   "source": [
    "The configuration i want to run is the evolution of a TOV star in a cartesian grid in the einstein toolkit environment. This work is taken from my thesis, so let's access the configuration files.\n",
    "First I'll show where my configuration files are"
   ]
  },
  {
   "cell_type": "code",
   "execution_count": 2,
   "id": "edb2968d",
   "metadata": {},
   "outputs": [
    {
     "name": "stdout",
     "output_type": "stream",
     "text": [
      "tov_ET_eno.par\r\n",
      "tov_ET_ppm.par\r\n",
      "tov_ET_tvd.par\r\n",
      "tov_ET_weno.par\r\n"
     ]
    }
   ],
   "source": [
    "%%bash\n",
    "cd ~/programmi/tov_ET/recon_method/\n",
    "ls | grep .par"
   ]
  },
  {
   "cell_type": "markdown",
   "id": "ee7236db",
   "metadata": {},
   "source": [
    "And now i show where my Cactus path is"
   ]
  },
  {
   "cell_type": "code",
   "execution_count": 2,
   "id": "81be8fcc",
   "metadata": {},
   "outputs": [
    {
     "name": "stdout",
     "output_type": "stream",
     "text": [
      "/home/sam/ET/Cactus\n"
     ]
    }
   ],
   "source": [
    "cd ~/ET/Cactus"
   ]
  },
  {
   "cell_type": "markdown",
   "id": "d54d88ea",
   "metadata": {},
   "source": [
    "Now let's run a simple simulation for the weno reconstruction method.\n",
    "I usually prefer to have my simulations folder inside the ET folder, to do that you need to edit the `basedir` value in `simfactory/etc/defs.local.ini`\n",
    "\n",
    "``` \n",
    "[swift]\n",
    "basedir = ~/ET/simulations\n",
    "```\n",
    "\n",
    "For my case i also decided to move the Cactus directory in another path, if you do so you have to tell the ET that your `sourcebasedir` has changed.\n",
    "Just go to `/home/sam/ET/Cactus/simfactory/mdb/machines` and look for your machine hostname .ini file and then change the following line, in my case `swift.ini`\n",
    "\n",
    "```\n",
    "sourcebasedir   = /home/sam/ET\n",
    "```"
   ]
  },
  {
   "cell_type": "code",
   "execution_count": 11,
   "id": "c910f236",
   "metadata": {},
   "outputs": [
    {
     "name": "stdout",
     "output_type": "stream",
     "text": [
      "Parameter file: /home/sam/programmi/tov_ET/recon_method/tov_ET_weno.par\r\n",
      "Skeleton Created\r\n",
      "Job directory: \"/home/sam/ET/simulations/tov_ET_weno\"\r\n",
      "Executable: \"/home/sam/ET/Cactus/exe/cactus_sim\"\r\n",
      "Option list: \"/home/sam/ET/simulations/tov_ET_weno/SIMFACTORY/cfg/OptionList\"\r\n",
      "Submit script: \"/home/sam/ET/simulations/tov_ET_weno/SIMFACTORY/run/SubmitScript\"\r\n",
      "Run script: \"/home/sam/ET/simulations/tov_ET_weno/SIMFACTORY/run/RunScript\"\r\n",
      "Parameter file: \"/home/sam/ET/simulations/tov_ET_weno/SIMFACTORY/par/tov_ET_weno.par\"\r\n"
     ]
    }
   ],
   "source": [
    "%%bash\n",
    "./simfactory/bin/sim create tov_ET_weno --configuration sim --parfile=~/programmi/tov_ET/recon_method/tov_ET_weno.par"
   ]
  },
  {
   "cell_type": "markdown",
   "id": "6491cbc9",
   "metadata": {},
   "source": [
    "As you can see, the structure of the simulation has been created, that mean ET has allocated the resources and activated the thorns needed in order to run the simulation. One can check the structure of this by going in the directory"
   ]
  },
  {
   "cell_type": "code",
   "execution_count": 2,
   "id": "f00e06d6",
   "metadata": {},
   "outputs": [
    {
     "name": "stdout",
     "output_type": "stream",
     "text": [
      "log.txt\n",
      "output-0000\n",
      "output-0000-active\n",
      "SIMFACTORY\n"
     ]
    }
   ],
   "source": [
    "%%bash\n",
    "cd ~/ET/simulations/tov_ET_weno/\n",
    "ls"
   ]
  },
  {
   "cell_type": "markdown",
   "id": "fac0d53b",
   "metadata": {},
   "source": [
    "And finally now, we can start the simulation. Remember to install the packae `openmpi-bin`"
   ]
  },
  {
   "cell_type": "code",
   "execution_count": 13,
   "id": "347da50f",
   "metadata": {},
   "outputs": [
    {
     "name": "stdout",
     "output_type": "stream",
     "text": [
      "Assigned restart id: 0 \r\n",
      "Executing submit command: exec nohup /home/sam/ET/simulations/tov_ET_weno/output-0000/SIMFACTORY/SubmitScript < /dev/null > /home/sam/ET/simulations/tov_ET_weno/output-0000/tov_ET_weno.out 2> /home/sam/ET/simulations/tov_ET_weno/output-0000/tov_ET_weno.err & echo $!\r\n",
      "Submit finished, job id is 730293\r\n"
     ]
    }
   ],
   "source": [
    "%%bash\n",
    "# start simulation segment\n",
    "./simfactory/bin/sim submit tov_ET_weno --cores=2 --num-threads=1 --walltime=0:20:00"
   ]
  },
  {
   "cell_type": "markdown",
   "id": "41634a01",
   "metadata": {},
   "source": [
    "The `submit` command submitted a new segment for the simulation `tov_ET_weno` to the queueing system to run in the background asking for a maximum runtime of 20 minutes, using a total of 2 compute cores and using 1 thread per MPI ranks. On your laptop it will start right away, on a cluster the queuing system will wait until a sufficient number of nodes is able to start your simulation.\n",
    "\n",
    "You can check the status of the simulation with the following command"
   ]
  },
  {
   "cell_type": "code",
   "execution_count": 5,
   "id": "837c137c",
   "metadata": {
    "collapsed": true
   },
   "outputs": [
    {
     "name": "stdout",
     "output_type": "stream",
     "text": [
      "Simulation name: tov_ET_weno\n",
      "==> tov_ET_weno.out <==\n",
      "\u001b[1mWARNING[L2,P0] (GRHydro):\u001b[0m                                      Infinite Lorentz factor reset. rho, w_tmp:    0.266578E-07    1.18927\n",
      "\u001b[1mWARNING[L2,P0] (GRHydro):\u001b[0m                                      Infinite Lorentz factor reset. rho, w_tmp:    0.266590E-07    1.18926\n",
      "\u001b[1mWARNING[L2,P0] (GRHydro):\u001b[0m                                      Infinite Lorentz factor reset. rho, w_tmp:    0.266590E-07    1.18926\n",
      "\u001b[1mWARNING[L2,P0] (GRHydro):\u001b[0m                                      Infinite Lorentz factor reset. rho, w_tmp:    0.266590E-07    1.18926\n",
      "\u001b[1mWARNING[L2,P0] (GRHydro):\u001b[0m                                      Infinite Lorentz factor reset. rho, w_tmp:    0.266927E-07    1.18888\n",
      "\u001b[1mWARNING[L2,P0] (GRHydro):\u001b[0m                                      Infinite Lorentz factor reset. rho, w_tmp:    0.266927E-07    1.18888\n",
      "\u001b[1mWARNING[L2,P0] (GRHydro):\u001b[0m                                      Infinite Lorentz factor reset. rho, w_tmp:    0.266927E-07    1.18888\n",
      "   269312   263.000 |  807.3990217 |    0.0013251\n",
      "\u001b[1mWARNING[L2,P0] (GRHydro):\u001b[0m                                      Infinite Lorentz factor reset. rho, w_tmp:    0.266927E-07    1.18888\n",
      "\u001b[1mWARNING[L2,P0] (GRHydro):\u001b[0m                                      Infinite Lorentz factor reset. rho, w_tmp:    0.266927E-07    1.18888\n",
      "\u001b[1mWARNING[L2,P0] (GRHydro):\u001b[0m                                      Infinite Lorentz factor reset. rho, w_tmp:    0.266927E-07    1.18888\n",
      "\u001b[1mWARNING[L2,P0] (GRHydro):\u001b[0m                                      Infinite Lorentz factor reset. rho, w_tmp:    0.267277E-07    1.18849\n",
      "\u001b[1mWARNING[L2,P0] (GRHydro):\u001b[0m                                      Infinite Lorentz factor reset. rho, w_tmp:    0.267277E-07    1.18849\n",
      "\u001b[1mWARNING[L2,P0] (GRHydro):\u001b[0m                                      Infinite Lorentz factor reset. rho, w_tmp:    0.267277E-07    1.18849\n",
      "\u001b[1mWARNING[L2,P0] (GRHydro):\u001b[0m                                      Infinite Lorentz factor reset. rho, w_tmp:    0.267288E-07    1.18849\n",
      "\u001b[1mWARNING[L2,P0] (GRHydro):\u001b[0m                                      Infinite Lorentz factor reset. rho, w_tmp:    0.267288E-07    1.18849\n",
      "\u001b[1mWARNING[L2,P0] (GRHydro):\u001b[0m                                      Infinite Lorentz factor reset. rho, w_tmp:    0.267288E-07    1.18849\n",
      "\u001b[1mWARNING[L2,P0] (GRHydro):\u001b[0m                                      Infinite Lorentz factor reset. rho, w_tmp:    0.267648E-07    1.18810\n",
      "\u001b[1mWARNING[L2,P0] (GRHydro):\u001b[0m                                      Infinite Lorentz factor reset. rho, w_tmp:    0.267648E-07    1.18810\n",
      "\u001b[1mWARNING[L2,P0] (GRHydro):\u001b[0m                                      Infinite Lorentz factor reset. rho, w_tmp:    0.267648E-07    1.18810\n",
      "\u001b[1mWARNING[L2,P0] (GRHydro):\u001b[0m                                      Infinite Lorentz factor reset. rho, w_tmp:    0.267649E-07    1.18810\n",
      "\u001b[1mWARNING[L2,P0] (GRHydro):\u001b[0m                                      Infinite Lorentz factor reset. rho, w_tmp:    0.267649E-07    1.18810\n",
      "\u001b[1mWARNING[L2,P0] (GRHydro):\u001b[0m                                      Infinite Lorentz factor reset. rho, w_tmp:    0.267649E-07    1.18810\n",
      "\u001b[1mWARNING[L2,P0] (GRHydro):\u001b[0m                                      Infinite Lorentz factor reset. rho, w_tmp:    0.268020E-07    1.18771\n",
      "\u001b[1mWARNING[L2,P0] (GRHydro):\u001b[0m                                      Infinite Lorentz factor reset. rho, w_tmp:    0.268020E-07    1.18771\n",
      "\u001b[1mWARNING[L2,P0] (GRHydro):\u001b[0m                                      Infinite Lorentz factor reset. rho, w_tmp:    0.268020E-07    1.18771\n",
      "\u001b[1mWARNING[L2,P0] (GRHydro):\u001b[0m                                      Infinite Lorentz factor reset. rho, w_tmp:    0.268041E-07    1.18770\n",
      "\u001b[1mWARNING[L2,P0] (GRHydro):\u001b[0m                                      Infinite Lorentz factor reset. rho, w_tmp:    0.268041E-07    1.18770\n",
      "\u001b[1mWARNING[L2,P0] (GRHydro):\u001b[0m                                      Infinite Lorentz factor reset. rho, w_tmp:    0.268041E-07    1.18770\n",
      "\u001b[1mWARNING[L2,P0] (GRHydro):\u001b[0m                                      Infinite Lorentz factor reset. rho, w_tmp:    0.268432E-07    1.18730\n",
      "\u001b[1mWARNING[L2,P0] (GRHydro):\u001b[0m                                      Infinite Lorentz factor reset. rho, w_tmp:    0.268432E-07    1.18730\n",
      "\u001b[1mWARNING[L2,P0] (GRHydro):\u001b[0m                                      Infinite Lorentz factor reset. rho, w_tmp:    0.268432E-07    1.18730\n",
      "   269824   263.500 |  807.3611302 |    0.0013251\n",
      "\u001b[1mWARNING[L2,P0] (GRHydro):\u001b[0m                                      Infinite Lorentz factor reset. rho, w_tmp:    0.268434E-07    1.18730\n",
      "\u001b[1mWARNING[L2,P0] (GRHydro):\u001b[0m                                      Infinite Lorentz factor reset. rho, w_tmp:    0.268434E-07    1.18730\n",
      "\u001b[1mWARNING[L2,P0] (GRHydro):\u001b[0m                                      Infinite Lorentz factor reset. rho, w_tmp:    0.268434E-07    1.18730\n",
      "\u001b[1mWARNING[L2,P0] (GRHydro):\u001b[0m                                      Infinite Lorentz factor reset. rho, w_tmp:    0.268848E-07    1.18689\n",
      "\u001b[1mWARNING[L2,P0] (GRHydro):\u001b[0m                                      Infinite Lorentz factor reset. rho, w_tmp:    0.268848E-07    1.18689\n",
      "\u001b[1mWARNING[L2,P0] (GRHydro):\u001b[0m                                      Infinite Lorentz factor reset. rho, w_tmp:    0.268848E-07    1.18689\n",
      "\u001b[1mWARNING[L2,P0] (GRHydro):\u001b[0m                                      Infinite Lorentz factor reset. rho, w_tmp:    0.268869E-07    1.18689\n",
      "\u001b[1mWARNING[L2,P0] (GRHydro):\u001b[0m                                      Infinite Lorentz factor reset. rho, w_tmp:    0.268869E-07    1.18689\n",
      "\u001b[1mWARNING[L2,P0] (GRHydro):\u001b[0m                                      Infinite Lorentz factor reset. rho, w_tmp:    0.268869E-07    1.18689\n",
      "\u001b[1mWARNING[L2,P0] (GRHydro):\u001b[0m                                      Infinite Lorentz factor reset. rho, w_tmp:    0.269302E-07    1.18648\n",
      "\u001b[1mWARNING[L2,P0] (GRHydro):\u001b[0m                                      Infinite Lorentz factor reset. rho, w_tmp:    0.269302E-07    1.18648\n",
      "\u001b[1mWARNING[L2,P0] (GRHydro):\u001b[0m                                      Infinite Lorentz factor reset. rho, w_tmp:    0.269302E-07    1.18648\n",
      "\u001b[1mWARNING[L2,P0] (GRHydro):\u001b[0m                                      Infinite Lorentz factor reset. rho, w_tmp:    0.269303E-07    1.18648\n",
      "\u001b[1mWARNING[L2,P0] (GRHydro):\u001b[0m                                      Infinite Lorentz factor reset. rho, w_tmp:    0.269303E-07    1.18648\n",
      "\u001b[1mWARNING[L2,P0] (GRHydro):\u001b[0m                                      Infinite Lorentz factor reset. rho, w_tmp:    0.269303E-07    1.18648\n",
      "\u001b[1mWARNING[L2,P0] (GRHydro):\u001b[0m                                      Infinite Lorentz factor reset. rho, w_tmp:    0.269758E-07    1.18606\n",
      "\u001b[1mWARNING[L2,P0] (GRHydro):\u001b[0m                                      Infinite Lorentz factor reset. rho, w_tmp:    0.269758E-07    1.18606\n",
      "\u001b[1mWARNING[L2,P0] (GRHydro):\u001b[0m                                      Infinite Lorentz factor reset. rho, w_tmp:    0.269758E-07    1.18606\n",
      "\u001b[1mWARNING[L2,P0] (GRHydro):\u001b[0m                                      Infinite Lorentz factor reset. rho, w_tmp:    0.269777E-07    1.18605\n",
      "\u001b[1mWARNING[L2,P0] (GRHydro):\u001b[0m                                      Infinite Lorentz factor reset. rho, w_tmp:    0.269777E-07    1.18605\n",
      "\u001b[1mWARNING[L2,P0] (GRHydro):\u001b[0m                                      Infinite Lorentz factor reset. rho, w_tmp:    0.269777E-07    1.18605\n",
      "\u001b[1mWARNING[L2,P0] (GRHydro):\u001b[0m                                      Infinite Lorentz factor reset. rho, w_tmp:    0.270249E-07    1.18563\n",
      "\u001b[1mWARNING[L2,P0] (GRHydro):\u001b[0m                                      Infinite Lorentz factor reset. rho, w_tmp:    0.270249E-07    1.18563\n",
      "\u001b[1mWARNING[L2,P0] (GRHydro):\u001b[0m                                      Infinite Lorentz factor reset. rho, w_tmp:    0.270249E-07    1.18563\n",
      "   270336   264.000 |  807.2571205 |    0.0013251\n",
      "\u001b[1mWARNING[L2,P0] (GRHydro):\u001b[0m                                      Infinite Lorentz factor reset. rho, w_tmp:    0.270250E-07    1.18563\n",
      "\u001b[1mWARNING[L2,P0] (GRHydro):\u001b[0m                                      Infinite Lorentz factor reset. rho, w_tmp:    0.270250E-07    1.18563\n"
     ]
    },
    {
     "name": "stdout",
     "output_type": "stream",
     "text": [
      "\u001b[1mWARNING[L2,P0] (GRHydro):\u001b[0m                                      Infinite Lorentz factor reset. rho, w_tmp:    0.270250E-07    1.18563\n",
      "\u001b[1mWARNING[L2,P0] (GRHydro):\u001b[0m                                      Infinite Lorentz factor reset. rho, w_tmp:    0.270742E-07    1.18520\n",
      "\u001b[1mWARNING[L2,P0] (GRHydro):\u001b[0m                                      Infinite Lorentz factor reset. rho, w_tmp:    0.270742E-07    1.18520\n",
      "\u001b[1mWARNING[L2,P0] (GRHydro):\u001b[0m                                      Infinite Lorentz factor reset. rho, w_tmp:    0.270742E-07    1.18520\n",
      "\u001b[1mWARNING[L2,P0] (GRHydro):\u001b[0m                                      Infinite Lorentz factor reset. rho, w_tmp:    0.270760E-07    1.18519\n",
      "\u001b[1mWARNING[L2,P0] (GRHydro):\u001b[0m                                      Infinite Lorentz factor reset. rho, w_tmp:    0.270760E-07    1.18519\n",
      "\u001b[1mWARNING[L2,P0] (GRHydro):\u001b[0m                                      Infinite Lorentz factor reset. rho, w_tmp:    0.270760E-07    1.18519\n",
      "\u001b[1mWARNING[L2,P0] (GRHydro):\u001b[0m                                      Infinite Lorentz factor reset. rho, w_tmp:    0.271268E-07    1.18476\n",
      "\u001b[1mWARNING[L2,P0] (GRHydro):\u001b[0m                                      Infinite Lorentz factor reset. rho, w_tmp:    0.271268E-07    1.18476\n",
      "\u001b[1mWARNING[L2,P0] (GRHydro):\u001b[0m                                      Infinite Lorentz factor reset. rho, w_tmp:    0.271268E-07    1.18476\n",
      "\u001b[1mWARNING[L2,P0] (GRHydro):\u001b[0m                                      Infinite Lorentz factor reset. rho, w_tmp:    0.271269E-07    1.18476\n",
      "\u001b[1mWARNING[L2,P0] (GRHydro):\u001b[0m                                      Infinite Lorentz factor reset. rho, w_tmp:    0.271269E-07    1.18476\n",
      "\u001b[1mWARNING[L2,P0] (GRHydro):\u001b[0m                                      Infinite Lorentz factor reset. rho, w_tmp:    0.271269E-07    1.18476\n",
      "\u001b[1mWARNING[L2,P0] (GRHydro):\u001b[0m                                      Infinite Lorentz factor reset. rho, w_tmp:    0.271795E-07    1.18432\n",
      "\u001b[1mWARNING[L2,P0] (GRHydro):\u001b[0m                                      Infinite Lorentz factor reset. rho, w_tmp:    0.271795E-07    1.18432\n",
      "\u001b[1mWARNING[L2,P0] (GRHydro):\u001b[0m                                      Infinite Lorentz factor reset. rho, w_tmp:    0.271795E-07    1.18432\n",
      "\u001b[1mWARNING[L2,P0] (GRHydro):\u001b[0m                                      Infinite Lorentz factor reset. rho, w_tmp:    0.271812E-07    1.18432\n",
      "\u001b[1mWARNING[L2,P0] (GRHydro):\u001b[0m                                      Infinite Lorentz factor reset. rho, w_tmp:    0.271812E-07    1.18432\n",
      "\u001b[1mWARNING[L2,P0] (GRHydro):\u001b[0m                                      Infinite Lorentz factor reset. rho, w_tmp:    0.271812E-07    1.18432\n",
      "\u001b[1mWARNING[L2,P0] (GRHydro):\u001b[0m                                      Infinite Lorentz factor reset. rho, w_tmp:    0.272353E-07    1.18387\n",
      "\u001b[1mWARNING[L2,P0] (GRHydro):\u001b[0m                                      Infinite Lorentz factor reset. rho, w_tmp:    0.272353E-07    1.18387\n",
      "\u001b[1mWARNING[L2,P0] (GRHydro):\u001b[0m                                      Infinite Lorentz factor reset. rho, w_tmp:    0.272353E-07    1.18387\n",
      "   270848   264.500 |  807.4664518 |    0.0013251\n",
      "\u001b[1mWARNING[L2,P0] (GRHydro):\u001b[0m                                      Infinite Lorentz factor reset. rho, w_tmp:    0.272354E-07    1.18387\n",
      "\u001b[1mWARNING[L2,P0] (GRHydro):\u001b[0m                                      Infinite Lorentz factor reset. rho, w_tmp:    0.272354E-07    1.18387\n",
      "\u001b[1mWARNING[L2,P0] (GRHydro):\u001b[0m                                      Infinite Lorentz factor reset. rho, w_tmp:    0.272354E-07    1.18387\n",
      "\u001b[1mWARNING[L2,P0] (GRHydro):\u001b[0m                                      Infinite Lorentz factor reset. rho, w_tmp:    0.272912E-07    1.18342\n",
      "\u001b[1mWARNING[L2,P0] (GRHydro):\u001b[0m                                      Infinite Lorentz factor reset. rho, w_tmp:    0.272912E-07    1.18342\n",
      "\u001b[1mWARNING[L2,P0] (GRHydro):\u001b[0m                                      Infinite Lorentz factor reset. rho, w_tmp:    0.272912E-07    1.18342\n",
      "\u001b[1mWARNING[L2,P0] (GRHydro):\u001b[0m                                      Infinite Lorentz factor reset. rho, w_tmp:    0.272927E-07    1.18342\n",
      "\u001b[1mWARNING[L2,P0] (GRHydro):\u001b[0m                                      Infinite Lorentz factor reset. rho, w_tmp:    0.272927E-07    1.18342\n",
      "\u001b[1mWARNING[L2,P0] (GRHydro):\u001b[0m                                      Infinite Lorentz factor reset. rho, w_tmp:    0.272927E-07    1.18342\n",
      "\u001b[1mWARNING[L2,P0] (GRHydro):\u001b[0m                                      Infinite Lorentz factor reset. rho, w_tmp:    0.273500E-07    1.18296\n",
      "\u001b[1mWARNING[L2,P0] (GRHydro):\u001b[0m                                      Infinite Lorentz factor reset. rho, w_tmp:    0.273500E-07    1.18296\n",
      "\u001b[1mWARNING[L2,P0] (GRHydro):\u001b[0m                                      Infinite Lorentz factor reset. rho, w_tmp:    0.273500E-07    1.18296\n",
      "\u001b[1mWARNING[L2,P0] (GRHydro):\u001b[0m                                      Infinite Lorentz factor reset. rho, w_tmp:    0.273500E-07    1.18296\n",
      "\u001b[1mWARNING[L2,P0] (GRHydro):\u001b[0m                                      Infinite Lorentz factor reset. rho, w_tmp:    0.273500E-07    1.18296\n",
      "\u001b[1mWARNING[L2,P0] (GRHydro):\u001b[0m                                      Infinite Lorentz factor reset. rho, w_tmp:    0.273500E-07    1.18296\n",
      "\u001b[1mWARNING[L2,P0] (GRHydro):\u001b[0m                                      Infinite Lorentz factor reset. rho, w_tmp:    0.274088E-07    1.18251\n",
      "\u001b[1mWARNING[L2,P0] (GRHydro):\u001b[0m                                      Infinite Lorentz factor reset. rho, w_tmp:    0.274088E-07    1.18251\n",
      "\n",
      "==> tov_ET_weno.err <==\n",
      "+ set -e\n",
      "+ cd /home/sam/ET/simulations/tov_ET_weno/output-0000-active\n",
      "+ echo Checking:\n",
      "+ pwd\n",
      "+ hostname\n",
      "+ date\n",
      "+ echo Environment:\n",
      "+ export CACTUS_NUM_PROCS=2\n",
      "+ CACTUS_NUM_PROCS=2\n",
      "+ export CACTUS_NUM_THREADS=1\n",
      "+ CACTUS_NUM_THREADS=1\n",
      "+ export GMON_OUT_PREFIX=gmon.out\n",
      "+ GMON_OUT_PREFIX=gmon.out\n",
      "+ export OMP_NUM_THREADS=1\n",
      "+ OMP_NUM_THREADS=1\n",
      "+ env\n",
      "+ sort\n",
      "+ echo Starting:\n",
      "++ date +%s\n",
      "+ export CACTUS_STARTTIME=1677706072\n",
      "+ CACTUS_STARTTIME=1677706072\n",
      "+ '[' 2 = 1 ']'\n",
      "+ mpirun -np 2 /home/sam/ET/simulations/tov_ET_weno/SIMFACTORY/exe/cactus_sim -L 3 /home/sam/ET/simulations/tov_ET_weno/output-0000/tov_ET_weno.par\n",
      "WARNING[L1,P1] (ML_BSSN_Helper): Forcing ML_BSSN::initial_boundary_condition=\"extrapolate-gammas\" because ML_BSSN::my_initial_boundary_condition=\"extrapolate-gammas\"\n",
      "WARNING[L1,P1] (ML_BSSN_Helper): Forcing ML_BSSN::rhs_boundary_condition=\"NewRad\" because ML_BSSN::my_rhs_boundary_condition=\"NewRad\"\n",
      "WARNING[L1,P1] (ML_BSSN_Helper): Forcing ML_BSSN::evolveB=0 because ML_BSSN::shiftGammaCoeff=0.0\n",
      "WARNING[L1,P1] (ML_BSSN_Helper): Parameter ML_BSSN::my_initial_boundary_condition is outdated; please update the parameter file. Do not use this parameter, and set up initial boundary conditions as usual.\n",
      "WARNING[L1,P1] (ML_BSSN_Helper): Parameter ML_BSSN::my_rhs_boundary_condition is outdated; please update the parameter file. Do not use this parameter, and set up RHS boundary conditions as usual.\n",
      "WARNING[L1,P0] (ML_BSSN_Helper): Forcing ML_BSSN::initial_boundary_condition=\"extrapolate-gammas\" because ML_BSSN::my_initial_boundary_condition=\"extrapolate-gammas\"\n",
      "WARNING[L1,P0] (ML_BSSN_Helper): Forcing ML_BSSN::rhs_boundary_condition=\"NewRad\" because ML_BSSN::my_rhs_boundary_condition=\"NewRad\"\n",
      "WARNING[L1,P0] (ML_BSSN_Helper): Forcing ML_BSSN::evolveB=0 because ML_BSSN::shiftGammaCoeff=0.0\n",
      "WARNING[L1,P0] (ML_BSSN_Helper): Parameter ML_BSSN::my_initial_boundary_condition is outdated; please update the parameter file. Do not use this parameter, and set up initial boundary conditions as usual.\n",
      "WARNING[L1,P0] (ML_BSSN_Helper): Parameter ML_BSSN::my_rhs_boundary_condition is outdated; please update the parameter file. Do not use this parameter, and set up RHS boundary conditions as usual.\n",
      "\n",
      "==> tov_ET_weno.out <==\n",
      "\u001b[1mWARNING[L2,P0] (GRHydro):\u001b[0m                                      Infinite Lorentz factor reset. rho, w_tmp:    0.274088E-07    1.18251\n",
      "\u001b[1mWARNING[L2,P0] (GRHydro):\u001b[0m                                      Infinite Lorentz factor reset. rho, w_tmp:    0.274102E-07    1.18250\n",
      "\u001b[1mWARNING[L2,P0] (GRHydro):\u001b[0m                                      Infinite Lorentz factor reset. rho, w_tmp:    0.274102E-07    1.18250\n"
     ]
    },
    {
     "name": "stdout",
     "output_type": "stream",
     "text": [
      "\u001b[1mWARNING[L2,P0] (GRHydro):\u001b[0m                                      Infinite Lorentz factor reset. rho, w_tmp:    0.274102E-07    1.18250\n",
      "\u001b[1mWARNING[L2,P0] (GRHydro):\u001b[0m                                      Infinite Lorentz factor reset. rho, w_tmp:    0.274704E-07    1.18204\n",
      "\u001b[1mWARNING[L2,P0] (GRHydro):\u001b[0m                                      Infinite Lorentz factor reset. rho, w_tmp:    0.274704E-07    1.18204\n",
      "\u001b[1mWARNING[L2,P0] (GRHydro):\u001b[0m                                      Infinite Lorentz factor reset. rho, w_tmp:    0.274704E-07    1.18204\n",
      "   271360   265.000 |  806.9186817 |    0.0013251\n",
      "\u001b[1mWARNING[L2,P0] (GRHydro):\u001b[0m                                      Infinite Lorentz factor reset. rho, w_tmp:    0.274704E-07    1.18204\n",
      "\u001b[1mWARNING[L2,P0] (GRHydro):\u001b[0m                                      Infinite Lorentz factor reset. rho, w_tmp:    0.274704E-07    1.18204\n",
      "\u001b[1mWARNING[L2,P0] (GRHydro):\u001b[0m                                      Infinite Lorentz factor reset. rho, w_tmp:    0.274704E-07    1.18204\n",
      "\u001b[1mWARNING[L2,P0] (GRHydro):\u001b[0m                                      Infinite Lorentz factor reset. rho, w_tmp:    0.275320E-07    1.18157\n",
      "\u001b[1mWARNING[L2,P0] (GRHydro):\u001b[0m                                      Infinite Lorentz factor reset. rho, w_tmp:    0.275320E-07    1.18157\n",
      "\u001b[1mWARNING[L2,P0] (GRHydro):\u001b[0m                                      Infinite Lorentz factor reset. rho, w_tmp:    0.275320E-07    1.18157\n",
      "\u001b[1mWARNING[L2,P0] (GRHydro):\u001b[0m                                      Infinite Lorentz factor reset. rho, w_tmp:    0.275333E-07    1.18157\n",
      "\u001b[1mWARNING[L2,P0] (GRHydro):\u001b[0m                                      Infinite Lorentz factor reset. rho, w_tmp:    0.275333E-07    1.18157\n",
      "\u001b[1mWARNING[L2,P0] (GRHydro):\u001b[0m                                      Infinite Lorentz factor reset. rho, w_tmp:    0.275333E-07    1.18157\n",
      "\u001b[1mWARNING[L2,P0] (GRHydro):\u001b[0m                                      Infinite Lorentz factor reset. rho, w_tmp:    0.275962E-07    1.18110\n",
      "\u001b[1mWARNING[L2,P0] (GRHydro):\u001b[0m                                      Infinite Lorentz factor reset. rho, w_tmp:    0.275962E-07    1.18110\n",
      "\u001b[1mWARNING[L2,P0] (GRHydro):\u001b[0m                                      Infinite Lorentz factor reset. rho, w_tmp:    0.275962E-07    1.18110\n",
      "\u001b[1mWARNING[L2,P0] (GRHydro):\u001b[0m                                      Infinite Lorentz factor reset. rho, w_tmp:    0.275962E-07    1.18110\n",
      "\u001b[1mWARNING[L2,P0] (GRHydro):\u001b[0m                                      Infinite Lorentz factor reset. rho, w_tmp:    0.275962E-07    1.18110\n",
      "\u001b[1mWARNING[L2,P0] (GRHydro):\u001b[0m                                      Infinite Lorentz factor reset. rho, w_tmp:    0.275962E-07    1.18110\n",
      "\u001b[1mWARNING[L2,P0] (GRHydro):\u001b[0m                                      Infinite Lorentz factor reset. rho, w_tmp:    0.276604E-07    1.18062\n",
      "\u001b[1mWARNING[L2,P0] (GRHydro):\u001b[0m                                      Infinite Lorentz factor reset. rho, w_tmp:    0.276604E-07    1.18062\n",
      "\u001b[1mWARNING[L2,P0] (GRHydro):\u001b[0m                                      Infinite Lorentz factor reset. rho, w_tmp:    0.276604E-07    1.18062\n",
      "\u001b[1mWARNING[L2,P0] (GRHydro):\u001b[0m                                      Infinite Lorentz factor reset. rho, w_tmp:    0.276616E-07    1.18062\n",
      "\u001b[1mWARNING[L2,P0] (GRHydro):\u001b[0m                                      Infinite Lorentz factor reset. rho, w_tmp:    0.276616E-07    1.18062\n",
      "\u001b[1mWARNING[L2,P0] (GRHydro):\u001b[0m                                      Infinite Lorentz factor reset. rho, w_tmp:    0.276616E-07    1.18062\n",
      "\u001b[1mWARNING[L2,P0] (GRHydro):\u001b[0m                                      Infinite Lorentz factor reset. rho, w_tmp:    0.277270E-07    1.18014\n",
      "\u001b[1mWARNING[L2,P0] (GRHydro):\u001b[0m                                      Infinite Lorentz factor reset. rho, w_tmp:    0.277270E-07    1.18014\n",
      "\u001b[1mWARNING[L2,P0] (GRHydro):\u001b[0m                                      Infinite Lorentz factor reset. rho, w_tmp:    0.277270E-07    1.18014\n",
      "   271872   265.500 |  806.3498911 |    0.0013250\n",
      "\u001b[1mWARNING[L2,P0] (GRHydro):\u001b[0m                                      Infinite Lorentz factor reset. rho, w_tmp:    0.277270E-07    1.18014\n",
      "\u001b[1mWARNING[L2,P0] (GRHydro):\u001b[0m                                      Infinite Lorentz factor reset. rho, w_tmp:    0.277270E-07    1.18014\n",
      "\u001b[1mWARNING[L2,P0] (GRHydro):\u001b[0m                                      Infinite Lorentz factor reset. rho, w_tmp:    0.277270E-07    1.18014\n",
      "\u001b[1mWARNING[L2,P0] (GRHydro):\u001b[0m                                      Infinite Lorentz factor reset. rho, w_tmp:    0.277937E-07    1.17966\n",
      "\u001b[1mWARNING[L2,P0] (GRHydro):\u001b[0m                                      Infinite Lorentz factor reset. rho, w_tmp:    0.277937E-07    1.17966\n",
      "\u001b[1mWARNING[L2,P0] (GRHydro):\u001b[0m                                      Infinite Lorentz factor reset. rho, w_tmp:    0.277937E-07    1.17966\n",
      "\u001b[1mWARNING[L2,P0] (GRHydro):\u001b[0m                                      Infinite Lorentz factor reset. rho, w_tmp:    0.277949E-07    1.17965\n",
      "\u001b[1mWARNING[L2,P0] (GRHydro):\u001b[0m                                      Infinite Lorentz factor reset. rho, w_tmp:    0.277949E-07    1.17965\n",
      "\u001b[1mWARNING[L2,P0] (GRHydro):\u001b[0m                                      Infinite Lorentz factor reset. rho, w_tmp:    0.277949E-07    1.17965\n",
      "\u001b[1mWARNING[L2,P0] (GRHydro):\u001b[0m                                      Infinite Lorentz factor reset. rho, w_tmp:    0.278626E-07    1.17917\n",
      "\u001b[1mWARNING[L2,P0] (GRHydro):\u001b[0m                                      Infinite Lorentz factor reset. rho, w_tmp:    0.278626E-07    1.17917\n",
      "\u001b[1mWARNING[L2,P0] (GRHydro):\u001b[0m                                      Infinite Lorentz factor reset. rho, w_tmp:    0.278626E-07    1.17917\n",
      "\u001b[1mWARNING[L2,P0] (GRHydro):\u001b[0m                                      Infinite Lorentz factor reset. rho, w_tmp:    0.278627E-07    1.17917\n",
      "\u001b[1mWARNING[L2,P0] (GRHydro):\u001b[0m                                      Infinite Lorentz factor reset. rho, w_tmp:    0.278627E-07    1.17917\n",
      "\u001b[1mWARNING[L2,P0] (GRHydro):\u001b[0m                                      Infinite Lorentz factor reset. rho, w_tmp:    0.278627E-07    1.17917\n",
      "\u001b[1mWARNING[L2,P0] (GRHydro):\u001b[0m                                      Infinite Lorentz factor reset. rho, w_tmp:    0.279317E-07    1.17868\n",
      "\u001b[1mWARNING[L2,P0] (GRHydro):\u001b[0m                                      Infinite Lorentz factor reset. rho, w_tmp:    0.279317E-07    1.17868\n",
      "\u001b[1mWARNING[L2,P0] (GRHydro):\u001b[0m                                      Infinite Lorentz factor reset. rho, w_tmp:    0.279317E-07    1.17868\n",
      "\u001b[1mWARNING[L2,P0] (GRHydro):\u001b[0m                                      Infinite Lorentz factor reset. rho, w_tmp:    0.279328E-07    1.17867\n",
      "\u001b[1mWARNING[L2,P0] (GRHydro):\u001b[0m                                      Infinite Lorentz factor reset. rho, w_tmp:    0.279328E-07    1.17867\n",
      "\u001b[1mWARNING[L2,P0] (GRHydro):\u001b[0m                                      Infinite Lorentz factor reset. rho, w_tmp:    0.279328E-07    1.17867\n",
      "\u001b[1mWARNING[L2,P0] (GRHydro):\u001b[0m                                      Infinite Lorentz factor reset. rho, w_tmp:    0.280028E-07    1.17818\n",
      "\u001b[1mWARNING[L2,P0] (GRHydro):\u001b[0m                                      Infinite Lorentz factor reset. rho, w_tmp:    0.280028E-07    1.17818\n",
      "\u001b[1mWARNING[L2,P0] (GRHydro):\u001b[0m                                      Infinite Lorentz factor reset. rho, w_tmp:    0.280028E-07    1.17818\n",
      "   272384   266.000 |  806.0127011 |    0.0013250\n",
      "\u001b[1mWARNING[L2,P0] (GRHydro):\u001b[0m                                      Infinite Lorentz factor reset. rho, w_tmp:    0.280029E-07    1.17818\n",
      "\u001b[1mWARNING[L2,P0] (GRHydro):\u001b[0m                                      Infinite Lorentz factor reset. rho, w_tmp:    0.280029E-07    1.17818\n",
      "\u001b[1mWARNING[L2,P0] (GRHydro):\u001b[0m                                      Infinite Lorentz factor reset. rho, w_tmp:    0.280029E-07    1.17818\n",
      "\u001b[1mWARNING[L2,P0] (GRHydro):\u001b[0m                                      Infinite Lorentz factor reset. rho, w_tmp:    0.280740E-07    1.17768\n",
      "\u001b[1mWARNING[L2,P0] (GRHydro):\u001b[0m                                      Infinite Lorentz factor reset. rho, w_tmp:    0.280740E-07    1.17768\n",
      "\u001b[1mWARNING[L2,P0] (GRHydro):\u001b[0m                                      Infinite Lorentz factor reset. rho, w_tmp:    0.280740E-07    1.17768\n"
     ]
    },
    {
     "name": "stdout",
     "output_type": "stream",
     "text": [
      "\u001b[1mWARNING[L2,P0] (GRHydro):\u001b[0m                                      Infinite Lorentz factor reset. rho, w_tmp:    0.280751E-07    1.17768\n",
      "\u001b[1mWARNING[L2,P0] (GRHydro):\u001b[0m                                      Infinite Lorentz factor reset. rho, w_tmp:    0.280751E-07    1.17768\n",
      "\u001b[1mWARNING[L2,P0] (GRHydro):\u001b[0m                                      Infinite Lorentz factor reset. rho, w_tmp:    0.280751E-07    1.17768\n",
      "\u001b[1mWARNING[L2,P0] (GRHydro):\u001b[0m                                      Infinite Lorentz factor reset. rho, w_tmp:    0.281472E-07    1.17718\n",
      "\u001b[1mWARNING[L2,P0] (GRHydro):\u001b[0m                                      Infinite Lorentz factor reset. rho, w_tmp:    0.281472E-07    1.17718\n",
      "\u001b[1mWARNING[L2,P0] (GRHydro):\u001b[0m                                      Infinite Lorentz factor reset. rho, w_tmp:    0.281472E-07    1.17718\n",
      "\u001b[1mWARNING[L2,P0] (GRHydro):\u001b[0m                                      Infinite Lorentz factor reset. rho, w_tmp:    0.281473E-07    1.17718\n",
      "\u001b[1mWARNING[L2,P0] (GRHydro):\u001b[0m                                      Infinite Lorentz factor reset. rho, w_tmp:    0.281473E-07    1.17718\n",
      "\u001b[1mWARNING[L2,P0] (GRHydro):\u001b[0m                                      Infinite Lorentz factor reset. rho, w_tmp:    0.281473E-07    1.17718\n",
      "\u001b[1mWARNING[L2,P0] (GRHydro):\u001b[0m                                      Infinite Lorentz factor reset. rho, w_tmp:    0.282205E-07    1.17667\n",
      "\u001b[1mWARNING[L2,P0] (GRHydro):\u001b[0m                                      Infinite Lorentz factor reset. rho, w_tmp:    0.282205E-07    1.17667\n",
      "\u001b[1mWARNING[L2,P0] (GRHydro):\u001b[0m                                      Infinite Lorentz factor reset. rho, w_tmp:    0.282205E-07    1.17667\n",
      "\u001b[1mWARNING[L2,P0] (GRHydro):\u001b[0m                                      Infinite Lorentz factor reset. rho, w_tmp:    0.282215E-07    1.17669\n",
      "\u001b[1mWARNING[L2,P0] (GRHydro):\u001b[0m                                      Infinite Lorentz factor reset. rho, w_tmp:    0.282215E-07    1.17669\n",
      "\u001b[1mWARNING[L2,P0] (GRHydro):\u001b[0m                                      Infinite Lorentz factor reset. rho, w_tmp:    0.282215E-07    1.17669\n",
      "\u001b[1mWARNING[L2,P0] (GRHydro):\u001b[0m                                      Infinite Lorentz factor reset. rho, w_tmp:    0.282955E-07    1.17621\n",
      "\u001b[1mWARNING[L2,P0] (GRHydro):\u001b[0m                                      Infinite Lorentz factor reset. rho, w_tmp:    0.282955E-07    1.17621\n",
      "\u001b[1mWARNING[L2,P0] (GRHydro):\u001b[0m                                      Infinite Lorentz factor reset. rho, w_tmp:    0.282955E-07    1.17621\n",
      "   272896   266.500 |  805.5377166 |    0.0013250\n",
      "\u001b[1mWARNING[L2,P0] (GRHydro):\u001b[0m                                      Infinite Lorentz factor reset. rho, w_tmp:    0.282956E-07    1.17620\n",
      "\u001b[1mWARNING[L2,P0] (GRHydro):\u001b[0m                                      Infinite Lorentz factor reset. rho, w_tmp:    0.282956E-07    1.17620\n",
      "\u001b[1mWARNING[L2,P0] (GRHydro):\u001b[0m                                      Infinite Lorentz factor reset. rho, w_tmp:    0.282956E-07    1.17620\n",
      "\u001b[1mWARNING[L2,P0] (GRHydro):\u001b[0m                                      Infinite Lorentz factor reset. rho, w_tmp:    0.283707E-07    1.17572\n",
      "\u001b[1mWARNING[L2,P0] (GRHydro):\u001b[0m                                      Infinite Lorentz factor reset. rho, w_tmp:    0.283707E-07    1.17572\n",
      "\u001b[1mWARNING[L2,P0] (GRHydro):\u001b[0m                                      Infinite Lorentz factor reset. rho, w_tmp:    0.283707E-07    1.17572\n",
      "\u001b[1mWARNING[L2,P0] (GRHydro):\u001b[0m                                      Infinite Lorentz factor reset. rho, w_tmp:    0.283715E-07    1.17571\n",
      "\u001b[1mWARNING[L2,P0] (GRHydro):\u001b[0m                                      Infinite Lorentz factor reset. rho, w_tmp:    0.283715E-07    1.17571\n",
      "\u001b[1mWARNING[L2,P0] (GRHydro):\u001b[0m                                      Infinite Lorentz factor reset. rho, w_tmp:    0.283715E-07    1.17571\n",
      "\u001b[1mWARNING[L2,P0] (GRHydro):\u001b[0m                                      Infinite Lorentz factor reset. rho, w_tmp:    0.284475E-07    1.17522\n",
      "\u001b[1mWARNING[L2,P0] (GRHydro):\u001b[0m                                      Infinite Lorentz factor reset. rho, w_tmp:    0.284475E-07    1.17522\n",
      "\u001b[1mWARNING[L2,P0] (GRHydro):\u001b[0m                                      Infinite Lorentz factor reset. rho, w_tmp:    0.284475E-07    1.17522\n",
      "\u001b[1mWARNING[L2,P0] (GRHydro):\u001b[0m                                      Infinite Lorentz factor reset. rho, w_tmp:    0.284475E-07    1.17513\n",
      "\u001b[1mWARNING[L2,P0] (GRHydro):\u001b[0m                                      Infinite Lorentz factor reset. rho, w_tmp:    0.284475E-07    1.17513\n",
      "\u001b[1mWARNING[L2,P0] (GRHydro):\u001b[0m                                      Infinite Lorentz factor reset. rho, w_tmp:    0.284475E-07    1.17513\n",
      "\u001b[1mWARNING[L2,P0] (GRHydro):\u001b[0m                                      Infinite Lorentz factor reset. rho, w_tmp:    0.285246E-07    1.17437\n",
      "\u001b[1mWARNING[L2,P0] (GRHydro):\u001b[0m                                      Infinite Lorentz factor reset. rho, w_tmp:    0.285246E-07    1.17437\n",
      "\u001b[1mWARNING[L2,P0] (GRHydro):\u001b[0m                                      Infinite Lorentz factor reset. rho, w_tmp:    0.285246E-07    1.17437\n",
      "\u001b[1mWARNING[L2,P0] (GRHydro):\u001b[0m                                      Infinite Lorentz factor reset. rho, w_tmp:    0.285261E-07    1.17460\n",
      "\u001b[1mWARNING[L2,P0] (GRHydro):\u001b[0m                                      Infinite Lorentz factor reset. rho, w_tmp:    0.285261E-07    1.17460\n",
      "\u001b[1mWARNING[L2,P0] (GRHydro):\u001b[0m                                      Infinite Lorentz factor reset. rho, w_tmp:    0.285261E-07    1.17460\n",
      "\u001b[1mWARNING[L2,P0] (GRHydro):\u001b[0m                                      Infinite Lorentz factor reset. rho, w_tmp:    0.286034E-07    1.17360\n",
      "\u001b[1mWARNING[L2,P0] (GRHydro):\u001b[0m                                      Infinite Lorentz factor reset. rho, w_tmp:    0.286034E-07    1.17360\n",
      "\u001b[1mWARNING[L2,P0] (GRHydro):\u001b[0m                                      Infinite Lorentz factor reset. rho, w_tmp:    0.286034E-07    1.17360\n",
      "   273408   267.000 |  805.5095033 |    0.0013250\n",
      "\u001b[1mWARNING[L2,P0] (GRHydro):\u001b[0m                                      Infinite Lorentz factor reset. rho, w_tmp:    0.286043E-07    1.17384\n",
      "\u001b[1mWARNING[L2,P0] (GRHydro):\u001b[0m                                      Infinite Lorentz factor reset. rho, w_tmp:    0.286043E-07    1.17384\n",
      "\u001b[1mWARNING[L2,P0] (GRHydro):\u001b[0m                                      Infinite Lorentz factor reset. rho, w_tmp:    0.286043E-07    1.17384\n",
      "\u001b[1mWARNING[L2,P0] (GRHydro):\u001b[0m                                      Infinite Lorentz factor reset. rho, w_tmp:    0.286837E-07    1.17330\n",
      "\u001b[1mWARNING[L2,P0] (GRHydro):\u001b[0m                                      Infinite Lorentz factor reset. rho, w_tmp:    0.286837E-07    1.17330\n",
      "\u001b[1mWARNING[L2,P0] (GRHydro):\u001b[0m                                      Infinite Lorentz factor reset. rho, w_tmp:    0.286837E-07    1.17330\n",
      "\u001b[1mWARNING[L2,P0] (GRHydro):\u001b[0m                                      Infinite Lorentz factor reset. rho, w_tmp:    0.286846E-07    1.17329\n",
      "\u001b[1mWARNING[L2,P0] (GRHydro):\u001b[0m                                      Infinite Lorentz factor reset. rho, w_tmp:    0.286846E-07    1.17329\n",
      "\u001b[1mWARNING[L2,P0] (GRHydro):\u001b[0m                                      Infinite Lorentz factor reset. rho, w_tmp:    0.286846E-07    1.17329\n",
      "\u001b[1mWARNING[L2,P0] (GRHydro):\u001b[0m                                      Infinite Lorentz factor reset. rho, w_tmp:    0.287648E-07    1.17275\n",
      "\u001b[1mWARNING[L2,P0] (GRHydro):\u001b[0m                                      Infinite Lorentz factor reset. rho, w_tmp:    0.287648E-07    1.17275\n",
      "\u001b[1mWARNING[L2,P0] (GRHydro):\u001b[0m                                      Infinite Lorentz factor reset. rho, w_tmp:    0.287648E-07    1.17275\n",
      "\u001b[1mWARNING[L2,P0] (GRHydro):\u001b[0m                                      Infinite Lorentz factor reset. rho, w_tmp:    0.287649E-07    1.17275\n",
      "\u001b[1mWARNING[L2,P0] (GRHydro):\u001b[0m                                      Infinite Lorentz factor reset. rho, w_tmp:    0.287649E-07    1.17275\n",
      "\u001b[1mWARNING[L2,P0] (GRHydro):\u001b[0m                                      Infinite Lorentz factor reset. rho, w_tmp:    0.287649E-07    1.17275\n",
      "\u001b[1mWARNING[L2,P0] (GRHydro):\u001b[0m                                      Infinite Lorentz factor reset. rho, w_tmp:    0.288460E-07    1.17221\n"
     ]
    },
    {
     "name": "stdout",
     "output_type": "stream",
     "text": [
      "\u001b[1mWARNING[L2,P0] (GRHydro):\u001b[0m                                      Infinite Lorentz factor reset. rho, w_tmp:    0.288460E-07    1.17221\n",
      "\u001b[1mWARNING[L2,P0] (GRHydro):\u001b[0m                                      Infinite Lorentz factor reset. rho, w_tmp:    0.288460E-07    1.17221\n",
      "\u001b[1mWARNING[L2,P0] (GRHydro):\u001b[0m                                      Infinite Lorentz factor reset. rho, w_tmp:    0.288468E-07    1.17221\n",
      "\u001b[1mWARNING[L2,P0] (GRHydro):\u001b[0m                                      Infinite Lorentz factor reset. rho, w_tmp:    0.288468E-07    1.17221\n",
      "\u001b[1mWARNING[L2,P0] (GRHydro):\u001b[0m                                      Infinite Lorentz factor reset. rho, w_tmp:    0.288468E-07    1.17221\n",
      "\u001b[1mWARNING[L2,P0] (GRHydro):\u001b[0m                                      Infinite Lorentz factor reset. rho, w_tmp:    0.289287E-07    1.17166\n",
      "\u001b[1mWARNING[L2,P0] (GRHydro):\u001b[0m                                      Infinite Lorentz factor reset. rho, w_tmp:    0.289287E-07    1.17166\n",
      "\u001b[1mWARNING[L2,P0] (GRHydro):\u001b[0m                                      Infinite Lorentz factor reset. rho, w_tmp:    0.289287E-07    1.17166\n",
      "   273920   267.500 |  804.9606425 |    0.0013249\n",
      "\u001b[1mWARNING[L2,P0] (GRHydro):\u001b[0m                                      Infinite Lorentz factor reset. rho, w_tmp:    0.289287E-07    1.17166\n",
      "\u001b[1mWARNING[L2,P0] (GRHydro):\u001b[0m                                      Infinite Lorentz factor reset. rho, w_tmp:    0.289287E-07    1.17166\n",
      "\u001b[1mWARNING[L2,P0] (GRHydro):\u001b[0m                                      Infinite Lorentz factor reset. rho, w_tmp:    0.289287E-07    1.17166\n",
      "\u001b[1mWARNING[L2,P0] (GRHydro):\u001b[0m                                      Infinite Lorentz factor reset. rho, w_tmp:    0.290115E-07    1.17111\n",
      "\u001b[1mWARNING[L2,P0] (GRHydro):\u001b[0m                                      Infinite Lorentz factor reset. rho, w_tmp:    0.290115E-07    1.17111\n",
      "\u001b[1mWARNING[L2,P0] (GRHydro):\u001b[0m                                      Infinite Lorentz factor reset. rho, w_tmp:    0.290115E-07    1.17111\n",
      "\u001b[1mWARNING[L2,P0] (GRHydro):\u001b[0m                                      Infinite Lorentz factor reset. rho, w_tmp:    0.290122E-07    1.17111\n",
      "\u001b[1mWARNING[L2,P0] (GRHydro):\u001b[0m                                      Infinite Lorentz factor reset. rho, w_tmp:    0.290122E-07    1.17111\n",
      "\u001b[1mWARNING[L2,P0] (GRHydro):\u001b[0m                                      Infinite Lorentz factor reset. rho, w_tmp:    0.290122E-07    1.17111\n",
      "\u001b[1mWARNING[L2,P0] (GRHydro):\u001b[0m                                      Infinite Lorentz factor reset. rho, w_tmp:    0.290957E-07    1.17056\n",
      "\u001b[1mWARNING[L2,P0] (GRHydro):\u001b[0m                                      Infinite Lorentz factor reset. rho, w_tmp:    0.290957E-07    1.17056\n",
      "\u001b[1mWARNING[L2,P0] (GRHydro):\u001b[0m                                      Infinite Lorentz factor reset. rho, w_tmp:    0.290957E-07    1.17056\n",
      "\u001b[1mWARNING[L2,P0] (GRHydro):\u001b[0m                                      Infinite Lorentz factor reset. rho, w_tmp:    0.290957E-07    1.17056\n",
      "\u001b[1mWARNING[L2,P0] (GRHydro):\u001b[0m                                      Infinite Lorentz factor reset. rho, w_tmp:    0.290957E-07    1.17056\n",
      "\u001b[1mWARNING[L2,P0] (GRHydro):\u001b[0m                                      Infinite Lorentz factor reset. rho, w_tmp:    0.290957E-07    1.17056\n",
      "\u001b[1mWARNING[L2,P0] (GRHydro):\u001b[0m                                      Infinite Lorentz factor reset. rho, w_tmp:    0.291800E-07    1.17000\n",
      "\u001b[1mWARNING[L2,P0] (GRHydro):\u001b[0m                                      Infinite Lorentz factor reset. rho, w_tmp:    0.291800E-07    1.17000\n",
      "\u001b[1mWARNING[L2,P0] (GRHydro):\u001b[0m                                      Infinite Lorentz factor reset. rho, w_tmp:    0.291800E-07    1.17000\n",
      "\u001b[1mWARNING[L2,P0] (GRHydro):\u001b[0m                                      Infinite Lorentz factor reset. rho, w_tmp:    0.291808E-07    1.17000\n",
      "\u001b[1mWARNING[L2,P0] (GRHydro):\u001b[0m                                      Infinite Lorentz factor reset. rho, w_tmp:    0.291808E-07    1.17000\n",
      "\u001b[1mWARNING[L2,P0] (GRHydro):\u001b[0m                                      Infinite Lorentz factor reset. rho, w_tmp:    0.291808E-07    1.17000\n",
      "\u001b[1mWARNING[L2,P0] (GRHydro):\u001b[0m                                      Infinite Lorentz factor reset. rho, w_tmp:    0.292657E-07    1.16945\n",
      "\u001b[1mWARNING[L2,P0] (GRHydro):\u001b[0m                                      Infinite Lorentz factor reset. rho, w_tmp:    0.292657E-07    1.16945\n",
      "\u001b[1mWARNING[L2,P0] (GRHydro):\u001b[0m                                      Infinite Lorentz factor reset. rho, w_tmp:    0.292657E-07    1.16945\n",
      "   274432   268.000 |  804.8804043 |    0.0013249\n",
      "\u001b[1mWARNING[L2,P0] (GRHydro):\u001b[0m                                      Infinite Lorentz factor reset. rho, w_tmp:    0.292658E-07    1.16945\n",
      "\u001b[1mWARNING[L2,P0] (GRHydro):\u001b[0m                                      Infinite Lorentz factor reset. rho, w_tmp:    0.292658E-07    1.16945\n",
      "\u001b[1mWARNING[L2,P0] (GRHydro):\u001b[0m                                      Infinite Lorentz factor reset. rho, w_tmp:    0.292658E-07    1.16945\n",
      "\u001b[1mWARNING[L2,P0] (GRHydro):\u001b[0m                                      Infinite Lorentz factor reset. rho, w_tmp:    0.293515E-07    1.16889\n",
      "\u001b[1mWARNING[L2,P0] (GRHydro):\u001b[0m                                      Infinite Lorentz factor reset. rho, w_tmp:    0.293515E-07    1.16889\n",
      "\u001b[1mWARNING[L2,P0] (GRHydro):\u001b[0m                                      Infinite Lorentz factor reset. rho, w_tmp:    0.293515E-07    1.16889\n",
      "\u001b[1mWARNING[L2,P0] (GRHydro):\u001b[0m                                      Infinite Lorentz factor reset. rho, w_tmp:    0.293522E-07    1.16889\n",
      "\u001b[1mWARNING[L2,P0] (GRHydro):\u001b[0m                                      Infinite Lorentz factor reset. rho, w_tmp:    0.293522E-07    1.16889\n",
      "\u001b[1mWARNING[L2,P0] (GRHydro):\u001b[0m                                      Infinite Lorentz factor reset. rho, w_tmp:    0.293522E-07    1.16889\n",
      "\u001b[1mWARNING[L2,P0] (GRHydro):\u001b[0m                                      Infinite Lorentz factor reset. rho, w_tmp:    0.294387E-07    1.16833\n",
      "\u001b[1mWARNING[L2,P0] (GRHydro):\u001b[0m                                      Infinite Lorentz factor reset. rho, w_tmp:    0.294387E-07    1.16833\n",
      "\u001b[1mWARNING[L2,P0] (GRHydro):\u001b[0m                                      Infinite Lorentz factor reset. rho, w_tmp:    0.294387E-07    1.16833\n",
      "\u001b[1mWARNING[L2,P0] (GRHydro):\u001b[0m                                      Infinite Lorentz factor reset. rho, w_tmp:    0.294387E-07    1.16833\n",
      "\u001b[1mWARNING[L2,P0] (GRHydro):\u001b[0m                                      Infinite Lorentz factor reset. rho, w_tmp:    0.294387E-07    1.16833\n",
      "\u001b[1mWARNING[L2,P0] (GRHydro):\u001b[0m                                      Infinite Lorentz factor reset. rho, w_tmp:    0.294387E-07    1.16833\n",
      "\u001b[1mWARNING[L2,P0] (GRHydro):\u001b[0m                                      Infinite Lorentz factor reset. rho, w_tmp:    0.295259E-07    1.16777\n",
      "\u001b[1mWARNING[L2,P0] (GRHydro):\u001b[0m                                      Infinite Lorentz factor reset. rho, w_tmp:    0.295259E-07    1.16777\n",
      "\u001b[1mWARNING[L2,P0] (GRHydro):\u001b[0m                                      Infinite Lorentz factor reset. rho, w_tmp:    0.295259E-07    1.16777\n",
      "\u001b[1mWARNING[L2,P0] (GRHydro):\u001b[0m                                      Infinite Lorentz factor reset. rho, w_tmp:    0.295265E-07    1.16777\n",
      "\u001b[1mWARNING[L2,P0] (GRHydro):\u001b[0m                                      Infinite Lorentz factor reset. rho, w_tmp:    0.295265E-07    1.16777\n",
      "\u001b[1mWARNING[L2,P0] (GRHydro):\u001b[0m                                      Infinite Lorentz factor reset. rho, w_tmp:    0.295265E-07    1.16777\n",
      "\u001b[1mWARNING[L2,P0] (GRHydro):\u001b[0m                                      Infinite Lorentz factor reset. rho, w_tmp:    0.296144E-07    1.16720\n",
      "\u001b[1mWARNING[L2,P0] (GRHydro):\u001b[0m                                      Infinite Lorentz factor reset. rho, w_tmp:    0.296144E-07    1.16720\n",
      "\u001b[1mWARNING[L2,P0] (GRHydro):\u001b[0m                                      Infinite Lorentz factor reset. rho, w_tmp:    0.296144E-07    1.16720\n",
      "   274944   268.500 |  804.4625597 |    0.0013248\n",
      "\u001b[1mWARNING[L2,P0] (GRHydro):\u001b[0m                                      Infinite Lorentz factor reset. rho, w_tmp:    0.296144E-07    1.16720\n",
      "\u001b[1mWARNING[L2,P0] (GRHydro):\u001b[0m                                      Infinite Lorentz factor reset. rho, w_tmp:    0.296144E-07    1.16720\n"
     ]
    },
    {
     "name": "stdout",
     "output_type": "stream",
     "text": [
      "\u001b[1mWARNING[L2,P0] (GRHydro):\u001b[0m                                      Infinite Lorentz factor reset. rho, w_tmp:    0.296144E-07    1.16720\n",
      "\u001b[1mWARNING[L2,P0] (GRHydro):\u001b[0m                                      Infinite Lorentz factor reset. rho, w_tmp:    0.297030E-07    1.16664\n",
      "\u001b[1mWARNING[L2,P0] (GRHydro):\u001b[0m                                      Infinite Lorentz factor reset. rho, w_tmp:    0.297030E-07    1.16664\n",
      "\u001b[1mWARNING[L2,P0] (GRHydro):\u001b[0m                                      Infinite Lorentz factor reset. rho, w_tmp:    0.297030E-07    1.16664\n",
      "\u001b[1mWARNING[L2,P0] (GRHydro):\u001b[0m                                      Infinite Lorentz factor reset. rho, w_tmp:    0.297037E-07    1.16664\n",
      "\u001b[1mWARNING[L2,P0] (GRHydro):\u001b[0m                                      Infinite Lorentz factor reset. rho, w_tmp:    0.297037E-07    1.16664\n",
      "\u001b[1mWARNING[L2,P0] (GRHydro):\u001b[0m                                      Infinite Lorentz factor reset. rho, w_tmp:    0.297037E-07    1.16664\n",
      "\u001b[1mWARNING[L2,P0] (GRHydro):\u001b[0m                                      Infinite Lorentz factor reset. rho, w_tmp:    0.297930E-07    1.16607\n",
      "\u001b[1mWARNING[L2,P0] (GRHydro):\u001b[0m                                      Infinite Lorentz factor reset. rho, w_tmp:    0.297930E-07    1.16607\n",
      "\u001b[1mWARNING[L2,P0] (GRHydro):\u001b[0m                                      Infinite Lorentz factor reset. rho, w_tmp:    0.297930E-07    1.16607\n",
      "\u001b[1mWARNING[L2,P0] (GRHydro):\u001b[0m                                      Infinite Lorentz factor reset. rho, w_tmp:    0.297930E-07    1.16607\n",
      "\u001b[1mWARNING[L2,P0] (GRHydro):\u001b[0m                                      Infinite Lorentz factor reset. rho, w_tmp:    0.297930E-07    1.16607\n",
      "\u001b[1mWARNING[L2,P0] (GRHydro):\u001b[0m                                      Infinite Lorentz factor reset. rho, w_tmp:    0.297930E-07    1.16607\n",
      "\u001b[1mWARNING[L2,P0] (GRHydro):\u001b[0m                                      Infinite Lorentz factor reset. rho, w_tmp:    0.298830E-07    1.16551\n",
      "\u001b[1mWARNING[L2,P0] (GRHydro):\u001b[0m                                      Infinite Lorentz factor reset. rho, w_tmp:    0.298830E-07    1.16551\n",
      "\u001b[1mWARNING[L2,P0] (GRHydro):\u001b[0m                                      Infinite Lorentz factor reset. rho, w_tmp:    0.298830E-07    1.16551\n",
      "\u001b[1mWARNING[L2,P0] (GRHydro):\u001b[0m                                      Infinite Lorentz factor reset. rho, w_tmp:    0.298837E-07    1.16550\n",
      "\u001b[1mWARNING[L2,P0] (GRHydro):\u001b[0m                                      Infinite Lorentz factor reset. rho, w_tmp:    0.298837E-07    1.16550\n",
      "\u001b[1mWARNING[L2,P0] (GRHydro):\u001b[0m                                      Infinite Lorentz factor reset. rho, w_tmp:    0.298837E-07    1.16550\n",
      "\u001b[1mWARNING[L2,P0] (GRHydro):\u001b[0m                                      Infinite Lorentz factor reset. rho, w_tmp:    0.299745E-07    1.16493\n",
      "\u001b[1mWARNING[L2,P0] (GRHydro):\u001b[0m                                      Infinite Lorentz factor reset. rho, w_tmp:    0.299745E-07    1.16493\n",
      "\u001b[1mWARNING[L2,P0] (GRHydro):\u001b[0m                                      Infinite Lorentz factor reset. rho, w_tmp:    0.299745E-07    1.16493\n",
      "   275456   269.000 |  804.3384914 |    0.0013248\n",
      "\u001b[1mWARNING[L2,P0] (GRHydro):\u001b[0m                                      Infinite Lorentz factor reset. rho, w_tmp:    0.299745E-07    1.16493\n",
      "\u001b[1mWARNING[L2,P0] (GRHydro):\u001b[0m                                      Infinite Lorentz factor reset. rho, w_tmp:    0.299745E-07    1.16493\n",
      "\u001b[1mWARNING[L2,P0] (GRHydro):\u001b[0m                                      Infinite Lorentz factor reset. rho, w_tmp:    0.299745E-07    1.16493\n",
      "\u001b[1mWARNING[L2,P0] (GRHydro):\u001b[0m                                      Infinite Lorentz factor reset. rho, w_tmp:    0.300660E-07    1.16436\n",
      "\u001b[1mWARNING[L2,P0] (GRHydro):\u001b[0m                                      Infinite Lorentz factor reset. rho, w_tmp:    0.300660E-07    1.16436\n",
      "\u001b[1mWARNING[L2,P0] (GRHydro):\u001b[0m                                      Infinite Lorentz factor reset. rho, w_tmp:    0.300660E-07    1.16436\n",
      "\u001b[1mWARNING[L2,P0] (GRHydro):\u001b[0m                                      Infinite Lorentz factor reset. rho, w_tmp:    0.300667E-07    1.16436\n",
      "\u001b[1mWARNING[L2,P0] (GRHydro):\u001b[0m                                      Infinite Lorentz factor reset. rho, w_tmp:    0.300667E-07    1.16436\n",
      "\u001b[1mWARNING[L2,P0] (GRHydro):\u001b[0m                                      Infinite Lorentz factor reset. rho, w_tmp:    0.300667E-07    1.16436\n",
      "\u001b[1mWARNING[L2,P0] (GRHydro):\u001b[0m                                      Infinite Lorentz factor reset. rho, w_tmp:    0.301590E-07    1.16379\n",
      "\u001b[1mWARNING[L2,P0] (GRHydro):\u001b[0m                                      Infinite Lorentz factor reset. rho, w_tmp:    0.301590E-07    1.16379\n",
      "\u001b[1mWARNING[L2,P0] (GRHydro):\u001b[0m                                      Infinite Lorentz factor reset. rho, w_tmp:    0.301590E-07    1.16379\n",
      "\u001b[1mWARNING[L2,P0] (GRHydro):\u001b[0m                                      Infinite Lorentz factor reset. rho, w_tmp:    0.301590E-07    1.16379\n",
      "\u001b[1mWARNING[L2,P0] (GRHydro):\u001b[0m                                      Infinite Lorentz factor reset. rho, w_tmp:    0.301590E-07    1.16379\n",
      "\u001b[1mWARNING[L2,P0] (GRHydro):\u001b[0m                                      Infinite Lorentz factor reset. rho, w_tmp:    0.301590E-07    1.16379\n",
      "\u001b[1mWARNING[L2,P0] (GRHydro):\u001b[0m                                      Infinite Lorentz factor reset. rho, w_tmp:    0.302520E-07    1.16322\n",
      "\u001b[1mWARNING[L2,P0] (GRHydro):\u001b[0m                                      Infinite Lorentz factor reset. rho, w_tmp:    0.302520E-07    1.16322\n",
      "\u001b[1mWARNING[L2,P0] (GRHydro):\u001b[0m                                      Infinite Lorentz factor reset. rho, w_tmp:    0.302520E-07    1.16322\n",
      "\u001b[1mWARNING[L2,P0] (GRHydro):\u001b[0m                                      Infinite Lorentz factor reset. rho, w_tmp:    0.302527E-07    1.16322\n",
      "\u001b[1mWARNING[L2,P0] (GRHydro):\u001b[0m                                      Infinite Lorentz factor reset. rho, w_tmp:    0.302527E-07    1.16322\n",
      "\u001b[1mWARNING[L2,P0] (GRHydro):\u001b[0m                                      Infinite Lorentz factor reset. rho, w_tmp:    0.302527E-07    1.16322\n",
      "\u001b[1mWARNING[L2,P0] (GRHydro):\u001b[0m                                      Infinite Lorentz factor reset. rho, w_tmp:    0.303465E-07    1.16264\n",
      "\u001b[1mWARNING[L2,P0] (GRHydro):\u001b[0m                                      Infinite Lorentz factor reset. rho, w_tmp:    0.303465E-07    1.16264\n",
      "\u001b[1mWARNING[L2,P0] (GRHydro):\u001b[0m                                      Infinite Lorentz factor reset. rho, w_tmp:    0.303465E-07    1.16264\n",
      "   275968   269.500 |  804.2157937 |    0.0013247\n",
      "\u001b[1mWARNING[L2,P0] (GRHydro):\u001b[0m                                      Infinite Lorentz factor reset. rho, w_tmp:    0.303465E-07    1.16264\n",
      "\u001b[1mWARNING[L2,P0] (GRHydro):\u001b[0m                                      Infinite Lorentz factor reset. rho, w_tmp:    0.303465E-07    1.16264\n",
      "\u001b[1mWARNING[L2,P0] (GRHydro):\u001b[0m                                      Infinite Lorentz factor reset. rho, w_tmp:    0.303465E-07    1.16264\n",
      "\u001b[1mWARNING[L2,P0] (GRHydro):\u001b[0m                                      Infinite Lorentz factor reset. rho, w_tmp:    0.304410E-07    1.16207\n",
      "\u001b[1mWARNING[L2,P0] (GRHydro):\u001b[0m                                      Infinite Lorentz factor reset. rho, w_tmp:    0.304410E-07    1.16207\n",
      "\u001b[1mWARNING[L2,P0] (GRHydro):\u001b[0m                                      Infinite Lorentz factor reset. rho, w_tmp:    0.304410E-07    1.16207\n",
      "\u001b[1mWARNING[L2,P0] (GRHydro):\u001b[0m                                      Infinite Lorentz factor reset. rho, w_tmp:    0.304417E-07    1.16207\n",
      "\u001b[1mWARNING[L2,P0] (GRHydro):\u001b[0m                                      Infinite Lorentz factor reset. rho, w_tmp:    0.304417E-07    1.16207\n",
      "\u001b[1mWARNING[L2,P0] (GRHydro):\u001b[0m                                      Infinite Lorentz factor reset. rho, w_tmp:    0.304417E-07    1.16207\n",
      "\u001b[1mWARNING[L2,P0] (GRHydro):\u001b[0m                                      Infinite Lorentz factor reset. rho, w_tmp:    0.305370E-07    1.16149\n",
      "\u001b[1mWARNING[L2,P0] (GRHydro):\u001b[0m                                      Infinite Lorentz factor reset. rho, w_tmp:    0.305370E-07    1.16149\n",
      "\u001b[1mWARNING[L2,P0] (GRHydro):\u001b[0m                                      Infinite Lorentz factor reset. rho, w_tmp:    0.305370E-07    1.16149\n"
     ]
    },
    {
     "name": "stdout",
     "output_type": "stream",
     "text": [
      "\u001b[1mWARNING[L2,P0] (GRHydro):\u001b[0m                                      Infinite Lorentz factor reset. rho, w_tmp:    0.305370E-07    1.16149\n",
      "\u001b[1mWARNING[L2,P0] (GRHydro):\u001b[0m                                      Infinite Lorentz factor reset. rho, w_tmp:    0.305370E-07    1.16149\n",
      "\u001b[1mWARNING[L2,P0] (GRHydro):\u001b[0m                                      Infinite Lorentz factor reset. rho, w_tmp:    0.305370E-07    1.16149\n",
      "\u001b[1mWARNING[L2,P0] (GRHydro):\u001b[0m                                      Infinite Lorentz factor reset. rho, w_tmp:    0.306330E-07    1.16091\n",
      "\u001b[1mWARNING[L2,P0] (GRHydro):\u001b[0m                                      Infinite Lorentz factor reset. rho, w_tmp:    0.306330E-07    1.16091\n",
      "\u001b[1mWARNING[L2,P0] (GRHydro):\u001b[0m                                      Infinite Lorentz factor reset. rho, w_tmp:    0.306330E-07    1.16091\n",
      "\u001b[1mWARNING[L2,P0] (GRHydro):\u001b[0m                                      Infinite Lorentz factor reset. rho, w_tmp:    0.306338E-07    1.16091\n",
      "\u001b[1mWARNING[L2,P0] (GRHydro):\u001b[0m                                      Infinite Lorentz factor reset. rho, w_tmp:    0.306338E-07    1.16091\n",
      "\u001b[1mWARNING[L2,P0] (GRHydro):\u001b[0m                                      Infinite Lorentz factor reset. rho, w_tmp:    0.306338E-07    1.16091\n",
      "\u001b[1mWARNING[L2,P0] (GRHydro):\u001b[0m                                      Infinite Lorentz factor reset. rho, w_tmp:    0.307306E-07    1.16033\n",
      "\u001b[1mWARNING[L2,P0] (GRHydro):\u001b[0m                                      Infinite Lorentz factor reset. rho, w_tmp:    0.307306E-07    1.16033\n",
      "\u001b[1mWARNING[L2,P0] (GRHydro):\u001b[0m                                      Infinite Lorentz factor reset. rho, w_tmp:    0.307306E-07    1.16033\n",
      "-------------------------------------------------\n",
      "Iteration      Time | *me_per_hour | *ROBASE::rho\n",
      "                    |              |      maximum\n",
      "-------------------------------------------------\n",
      "   276480   270.000 |  803.9331958 |    0.0013246\n",
      "\u001b[1mWARNING[L2,P0] (GRHydro):\u001b[0m                                      Infinite Lorentz factor reset. rho, w_tmp:    0.307306E-07    1.16033\n",
      "\u001b[1mWARNING[L2,P0] (GRHydro):\u001b[0m                                      Infinite Lorentz factor reset. rho, w_tmp:    0.307306E-07    1.16033\n",
      "\u001b[1mWARNING[L2,P0] (GRHydro):\u001b[0m                                      Infinite Lorentz factor reset. rho, w_tmp:    0.307306E-07    1.16033\n",
      "\u001b[1mWARNING[L2,P0] (GRHydro):\u001b[0m                                      Infinite Lorentz factor reset. rho, w_tmp:    0.308282E-07    1.15975\n",
      "\u001b[1mWARNING[L2,P0] (GRHydro):\u001b[0m                                      Infinite Lorentz factor reset. rho, w_tmp:    0.308282E-07    1.15975\n",
      "\u001b[1mWARNING[L2,P0] (GRHydro):\u001b[0m                                      Infinite Lorentz factor reset. rho, w_tmp:    0.308282E-07    1.15975\n",
      "\u001b[1mWARNING[L2,P0] (GRHydro):\u001b[0m                                      Infinite Lorentz factor reset. rho, w_tmp:    0.308290E-07    1.15975\n",
      "\u001b[1mWARNING[L2,P0] (GRHydro):\u001b[0m                                      Infinite Lorentz factor reset. rho, w_tmp:    0.308290E-07    1.15975\n",
      "\u001b[1mWARNING[L2,P0] (GRHydro):\u001b[0m                                      Infinite Lorentz factor reset. rho, w_tmp:    0.308290E-07    1.15975\n",
      "\u001b[1mWARNING[L2,P0] (GRHydro):\u001b[0m                                      Infinite Lorentz factor reset. rho, w_tmp:    0.309274E-07    1.15917\n",
      "\u001b[1mWARNING[L2,P0] (GRHydro):\u001b[0m                                      Infinite Lorentz factor reset. rho, w_tmp:    0.309274E-07    1.15917\n",
      "\u001b[1mWARNING[L2,P0] (GRHydro):\u001b[0m                                      Infinite Lorentz factor reset. rho, w_tmp:    0.309274E-07    1.15917\n",
      "\u001b[1mWARNING[L2,P0] (GRHydro):\u001b[0m                                      Infinite Lorentz factor reset. rho, w_tmp:    0.309274E-07    1.15917\n",
      "\u001b[1mWARNING[L2,P0] (GRHydro):\u001b[0m                                      Infinite Lorentz factor reset. rho, w_tmp:    0.309274E-07    1.15917\n",
      "\u001b[1mWARNING[L2,P0] (GRHydro):\u001b[0m                                      Infinite Lorentz factor reset. rho, w_tmp:    0.309274E-07    1.15917\n",
      "\u001b[1mWARNING[L2,P0] (GRHydro):\u001b[0m                                      Infinite Lorentz factor reset. rho, w_tmp:    0.310265E-07    1.15858\n",
      "\u001b[1mWARNING[L2,P0] (GRHydro):\u001b[0m                                      Infinite Lorentz factor reset. rho, w_tmp:    0.310265E-07    1.15858\n",
      "\u001b[1mWARNING[L2,P0] (GRHydro):\u001b[0m                                      Infinite Lorentz factor reset. rho, w_tmp:    0.310265E-07    1.15858\n",
      "\u001b[1mWARNING[L2,P0] (GRHydro):\u001b[0m                                      Infinite Lorentz factor reset. rho, w_tmp:    0.310273E-07    1.15858\n",
      "\u001b[1mWARNING[L2,P0] (GRHydro):\u001b[0m                                      Infinite Lorentz factor reset. rho, w_tmp:    0.310273E-07    1.15858\n",
      "\u001b[1mWARNING[L2,P0] (GRHydro):\u001b[0m                                      Infinite Lorentz factor reset. rho, w_tmp:    0.310273E-07    1.15858\n",
      "\u001b[1mWARNING[L2,P0] (GRHydro):\u001b[0m                                      Infinite Lorentz factor reset. rho, w_tmp:    0.311273E-07    1.15800\n",
      "\u001b[1mWARNING[L2,P0] (GRHydro):\u001b[0m                                      Infinite Lorentz factor reset. rho, w_tmp:    0.311273E-07    1.15800\n",
      "\u001b[1mWARNING[L2,P0] (GRHydro):\u001b[0m                                      Infinite Lorentz factor reset. rho, w_tmp:    0.311273E-07    1.15800\n",
      "   276992   270.500 |  804.0695544 |    0.0013246\n",
      "\u001b[1mWARNING[L2,P0] (GRHydro):\u001b[0m                                      Infinite Lorentz factor reset. rho, w_tmp:    0.311273E-07    1.15800\n",
      "\u001b[1mWARNING[L2,P0] (GRHydro):\u001b[0m                                      Infinite Lorentz factor reset. rho, w_tmp:    0.311273E-07    1.15800\n",
      "\u001b[1mWARNING[L2,P0] (GRHydro):\u001b[0m                                      Infinite Lorentz factor reset. rho, w_tmp:    0.311273E-07    1.15800\n",
      "\u001b[1mWARNING[L2,P0] (GRHydro):\u001b[0m                                      Infinite Lorentz factor reset. rho, w_tmp:    0.312280E-07    1.15741\n",
      "\u001b[1mWARNING[L2,P0] (GRHydro):\u001b[0m                                      Infinite Lorentz factor reset. rho, w_tmp:    0.312280E-07    1.15741\n",
      "\u001b[1mWARNING[L2,P0] (GRHydro):\u001b[0m                                      Infinite Lorentz factor reset. rho, w_tmp:    0.312280E-07    1.15741\n",
      "\u001b[1mWARNING[L2,P0] (GRHydro):\u001b[0m                                      Infinite Lorentz factor reset. rho, w_tmp:    0.312288E-07    1.15741\n",
      "\u001b[1mWARNING[L2,P0] (GRHydro):\u001b[0m                                      Infinite Lorentz factor reset. rho, w_tmp:    0.312288E-07    1.15741\n",
      "\u001b[1mWARNING[L2,P0] (GRHydro):\u001b[0m                                      Infinite Lorentz factor reset. rho, w_tmp:    0.312288E-07    1.15741\n",
      "\u001b[1mWARNING[L2,P0] (GRHydro):\u001b[0m                                      Infinite Lorentz factor reset. rho, w_tmp:    0.313304E-07    1.15683\n",
      "\u001b[1mWARNING[L2,P0] (GRHydro):\u001b[0m                                      Infinite Lorentz factor reset. rho, w_tmp:    0.313304E-07    1.15683\n",
      "\u001b[1mWARNING[L2,P0] (GRHydro):\u001b[0m                                      Infinite Lorentz factor reset. rho, w_tmp:    0.313304E-07    1.15683\n",
      "\u001b[1mWARNING[L2,P0] (GRHydro):\u001b[0m                                      Infinite Lorentz factor reset. rho, w_tmp:    0.313304E-07    1.15683\n",
      "\u001b[1mWARNING[L2,P0] (GRHydro):\u001b[0m                                      Infinite Lorentz factor reset. rho, w_tmp:    0.313304E-07    1.15683\n",
      "\u001b[1mWARNING[L2,P0] (GRHydro):\u001b[0m                                      Infinite Lorentz factor reset. rho, w_tmp:    0.313304E-07    1.15683\n",
      "\u001b[1mWARNING[L2,P0] (GRHydro):\u001b[0m                                      Infinite Lorentz factor reset. rho, w_tmp:    0.314328E-07    1.15624\n",
      "\u001b[1mWARNING[L2,P0] (GRHydro):\u001b[0m                                      Infinite Lorentz factor reset. rho, w_tmp:    0.314328E-07    1.15624\n",
      "\u001b[1mWARNING[L2,P0] (GRHydro):\u001b[0m                                      Infinite Lorentz factor reset. rho, w_tmp:    0.314328E-07    1.15624\n",
      "\u001b[1mWARNING[L2,P0] (GRHydro):\u001b[0m                                      Infinite Lorentz factor reset. rho, w_tmp:    0.314336E-07    1.15623\n",
      "\u001b[1mWARNING[L2,P0] (GRHydro):\u001b[0m                                      Infinite Lorentz factor reset. rho, w_tmp:    0.314336E-07    1.15623\n"
     ]
    },
    {
     "name": "stdout",
     "output_type": "stream",
     "text": [
      "\u001b[1mWARNING[L2,P0] (GRHydro):\u001b[0m                                      Infinite Lorentz factor reset. rho, w_tmp:    0.314336E-07    1.15623\n",
      "\u001b[1mWARNING[L2,P0] (GRHydro):\u001b[0m                                      Infinite Lorentz factor reset. rho, w_tmp:    0.315368E-07    1.15564\n",
      "\u001b[1mWARNING[L2,P0] (GRHydro):\u001b[0m                                      Infinite Lorentz factor reset. rho, w_tmp:    0.315368E-07    1.15564\n",
      "\u001b[1mWARNING[L2,P0] (GRHydro):\u001b[0m                                      Infinite Lorentz factor reset. rho, w_tmp:    0.315368E-07    1.15564\n",
      "   277504   271.000 |  803.7074196 |    0.0013245\n",
      "\u001b[1mWARNING[L2,P0] (GRHydro):\u001b[0m                                      Infinite Lorentz factor reset. rho, w_tmp:    0.315368E-07    1.15564\n",
      "\u001b[1mWARNING[L2,P0] (GRHydro):\u001b[0m                                      Infinite Lorentz factor reset. rho, w_tmp:    0.315368E-07    1.15564\n",
      "\u001b[1mWARNING[L2,P0] (GRHydro):\u001b[0m                                      Infinite Lorentz factor reset. rho, w_tmp:    0.315368E-07    1.15564\n",
      "\u001b[1mWARNING[L2,P0] (GRHydro):\u001b[0m                                      Infinite Lorentz factor reset. rho, w_tmp:    0.316408E-07    1.15505\n",
      "\u001b[1mWARNING[L2,P0] (GRHydro):\u001b[0m                                      Infinite Lorentz factor reset. rho, w_tmp:    0.316408E-07    1.15505\n",
      "\u001b[1mWARNING[L2,P0] (GRHydro):\u001b[0m                                      Infinite Lorentz factor reset. rho, w_tmp:    0.316408E-07    1.15505\n",
      "\u001b[1mWARNING[L2,P0] (GRHydro):\u001b[0m                                      Infinite Lorentz factor reset. rho, w_tmp:    0.316416E-07    1.15505\n",
      "\u001b[1mWARNING[L2,P0] (GRHydro):\u001b[0m                                      Infinite Lorentz factor reset. rho, w_tmp:    0.316416E-07    1.15505\n",
      "\u001b[1mWARNING[L2,P0] (GRHydro):\u001b[0m                                      Infinite Lorentz factor reset. rho, w_tmp:    0.316416E-07    1.15505\n",
      "\u001b[1mWARNING[L2,P0] (GRHydro):\u001b[0m                                      Infinite Lorentz factor reset. rho, w_tmp:    0.317465E-07    1.15446\n",
      "\u001b[1mWARNING[L2,P0] (GRHydro):\u001b[0m                                      Infinite Lorentz factor reset. rho, w_tmp:    0.317465E-07    1.15446\n",
      "\u001b[1mWARNING[L2,P0] (GRHydro):\u001b[0m                                      Infinite Lorentz factor reset. rho, w_tmp:    0.317465E-07    1.15446\n",
      "\u001b[1mWARNING[L2,P0] (GRHydro):\u001b[0m                                      Infinite Lorentz factor reset. rho, w_tmp:    0.317465E-07    1.15446\n",
      "\u001b[1mWARNING[L2,P0] (GRHydro):\u001b[0m                                      Infinite Lorentz factor reset. rho, w_tmp:    0.317465E-07    1.15446\n",
      "\u001b[1mWARNING[L2,P0] (GRHydro):\u001b[0m                                      Infinite Lorentz factor reset. rho, w_tmp:    0.317465E-07    1.15446\n",
      "\u001b[1mWARNING[L2,P0] (GRHydro):\u001b[0m                                      Infinite Lorentz factor reset. rho, w_tmp:    0.318522E-07    1.15387\n",
      "\u001b[1mWARNING[L2,P0] (GRHydro):\u001b[0m                                      Infinite Lorentz factor reset. rho, w_tmp:    0.318522E-07    1.15387\n",
      "\u001b[1mWARNING[L2,P0] (GRHydro):\u001b[0m                                      Infinite Lorentz factor reset. rho, w_tmp:    0.318522E-07    1.15387\n",
      "\u001b[1mWARNING[L2,P0] (GRHydro):\u001b[0m                                      Infinite Lorentz factor reset. rho, w_tmp:    0.318530E-07    1.15386\n",
      "\u001b[1mWARNING[L2,P0] (GRHydro):\u001b[0m                                      Infinite Lorentz factor reset. rho, w_tmp:    0.318530E-07    1.15386\n",
      "\u001b[1mWARNING[L2,P0] (GRHydro):\u001b[0m                                      Infinite Lorentz factor reset. rho, w_tmp:    0.318530E-07    1.15386\n",
      "\u001b[1mWARNING[L2,P0] (GRHydro):\u001b[0m                                      Infinite Lorentz factor reset. rho, w_tmp:    0.319595E-07    1.15327\n",
      "\u001b[1mWARNING[L2,P0] (GRHydro):\u001b[0m                                      Infinite Lorentz factor reset. rho, w_tmp:    0.319595E-07    1.15327\n",
      "\u001b[1mWARNING[L2,P0] (GRHydro):\u001b[0m                                      Infinite Lorentz factor reset. rho, w_tmp:    0.319595E-07    1.15327\n",
      "   278016   271.500 |  803.1774376 |    0.0013244\n",
      "\u001b[1mWARNING[L2,P0] (GRHydro):\u001b[0m                                      Infinite Lorentz factor reset. rho, w_tmp:    0.319595E-07    1.15327\n",
      "\u001b[1mWARNING[L2,P0] (GRHydro):\u001b[0m                                      Infinite Lorentz factor reset. rho, w_tmp:    0.319595E-07    1.15327\n",
      "\u001b[1mWARNING[L2,P0] (GRHydro):\u001b[0m                                      Infinite Lorentz factor reset. rho, w_tmp:    0.319595E-07    1.15327\n",
      "\u001b[1mWARNING[L2,P0] (GRHydro):\u001b[0m                                      Infinite Lorentz factor reset. rho, w_tmp:    0.320668E-07    1.15268\n",
      "\u001b[1mWARNING[L2,P0] (GRHydro):\u001b[0m                                      Infinite Lorentz factor reset. rho, w_tmp:    0.320668E-07    1.15268\n",
      "\u001b[1mWARNING[L2,P0] (GRHydro):\u001b[0m                                      Infinite Lorentz factor reset. rho, w_tmp:    0.320668E-07    1.15268\n",
      "\u001b[1mWARNING[L2,P0] (GRHydro):\u001b[0m                                      Infinite Lorentz factor reset. rho, w_tmp:    0.320677E-07    1.15268\n",
      "\u001b[1mWARNING[L2,P0] (GRHydro):\u001b[0m                                      Infinite Lorentz factor reset. rho, w_tmp:    0.320677E-07    1.15268\n",
      "\u001b[1mWARNING[L2,P0] (GRHydro):\u001b[0m                                      Infinite Lorentz factor reset. rho, w_tmp:    0.320677E-07    1.15268\n",
      "\u001b[1mWARNING[L2,P0] (GRHydro):\u001b[0m                                      Infinite Lorentz factor reset. rho, w_tmp:    0.321758E-07    1.15208\n",
      "\u001b[1mWARNING[L2,P0] (GRHydro):\u001b[0m                                      Infinite Lorentz factor reset. rho, w_tmp:    0.321758E-07    1.15208\n",
      "\u001b[1mWARNING[L2,P0] (GRHydro):\u001b[0m                                      Infinite Lorentz factor reset. rho, w_tmp:    0.321758E-07    1.15208\n",
      "\u001b[1mWARNING[L2,P0] (GRHydro):\u001b[0m                                      Infinite Lorentz factor reset. rho, w_tmp:    0.321758E-07    1.15208\n",
      "\u001b[1mWARNING[L2,P0] (GRHydro):\u001b[0m                                      Infinite Lorentz factor reset. rho, w_tmp:    0.321758E-07    1.15208\n",
      "\u001b[1mWARNING[L2,P0] (GRHydro):\u001b[0m                                      Infinite Lorentz factor reset. rho, w_tmp:    0.321758E-07    1.15208\n",
      "\u001b[1mWARNING[L2,P0] (GRHydro):\u001b[0m                                      Infinite Lorentz factor reset. rho, w_tmp:    0.322848E-07    1.15149\n",
      "\u001b[1mWARNING[L2,P0] (GRHydro):\u001b[0m                                      Infinite Lorentz factor reset. rho, w_tmp:    0.322848E-07    1.15149\n",
      "\u001b[1mWARNING[L2,P0] (GRHydro):\u001b[0m                                      Infinite Lorentz factor reset. rho, w_tmp:    0.322848E-07    1.15149\n",
      "\u001b[1mWARNING[L2,P0] (GRHydro):\u001b[0m                                      Infinite Lorentz factor reset. rho, w_tmp:    0.322856E-07    1.15149\n",
      "\u001b[1mWARNING[L2,P0] (GRHydro):\u001b[0m                                      Infinite Lorentz factor reset. rho, w_tmp:    0.322856E-07    1.15149\n",
      "\u001b[1mWARNING[L2,P0] (GRHydro):\u001b[0m                                      Infinite Lorentz factor reset. rho, w_tmp:    0.322856E-07    1.15149\n",
      "\u001b[1mWARNING[L2,P0] (GRHydro):\u001b[0m                                      Infinite Lorentz factor reset. rho, w_tmp:    0.323956E-07    1.15089\n",
      "\u001b[1mWARNING[L2,P0] (GRHydro):\u001b[0m                                      Infinite Lorentz factor reset. rho, w_tmp:    0.323956E-07    1.15089\n",
      "\u001b[1mWARNING[L2,P0] (GRHydro):\u001b[0m                                      Infinite Lorentz factor reset. rho, w_tmp:    0.323956E-07    1.15089\n",
      "   278528   272.000 |  803.2004019 |    0.0013243\n",
      "\u001b[1mWARNING[L2,P0] (GRHydro):\u001b[0m                                      Infinite Lorentz factor reset. rho, w_tmp:    0.323956E-07    1.15089\n",
      "\u001b[1mWARNING[L2,P0] (GRHydro):\u001b[0m                                      Infinite Lorentz factor reset. rho, w_tmp:    0.323956E-07    1.15089\n",
      "\u001b[1mWARNING[L2,P0] (GRHydro):\u001b[0m                                      Infinite Lorentz factor reset. rho, w_tmp:    0.323956E-07    1.15089\n",
      "\u001b[1mWARNING[L2,P0] (GRHydro):\u001b[0m                                      Infinite Lorentz factor reset. rho, w_tmp:    0.325063E-07    1.15030\n",
      "\u001b[1mWARNING[L2,P0] (GRHydro):\u001b[0m                                      Infinite Lorentz factor reset. rho, w_tmp:    0.325063E-07    1.15030\n",
      "\u001b[1mWARNING[L2,P0] (GRHydro):\u001b[0m                                      Infinite Lorentz factor reset. rho, w_tmp:    0.325063E-07    1.15030\n"
     ]
    },
    {
     "name": "stdout",
     "output_type": "stream",
     "text": [
      "\u001b[1mWARNING[L2,P0] (GRHydro):\u001b[0m                                      Infinite Lorentz factor reset. rho, w_tmp:    0.325071E-07    1.15030\n",
      "\u001b[1mWARNING[L2,P0] (GRHydro):\u001b[0m                                      Infinite Lorentz factor reset. rho, w_tmp:    0.325071E-07    1.15030\n",
      "\u001b[1mWARNING[L2,P0] (GRHydro):\u001b[0m                                      Infinite Lorentz factor reset. rho, w_tmp:    0.325071E-07    1.15030\n",
      "\u001b[1mWARNING[L2,P0] (GRHydro):\u001b[0m                                      Infinite Lorentz factor reset. rho, w_tmp:    0.326187E-07    1.14971\n",
      "\u001b[1mWARNING[L2,P0] (GRHydro):\u001b[0m                                      Infinite Lorentz factor reset. rho, w_tmp:    0.326187E-07    1.14971\n",
      "\u001b[1mWARNING[L2,P0] (GRHydro):\u001b[0m                                      Infinite Lorentz factor reset. rho, w_tmp:    0.326187E-07    1.14971\n",
      "\u001b[1mWARNING[L2,P0] (GRHydro):\u001b[0m                                      Infinite Lorentz factor reset. rho, w_tmp:    0.326187E-07    1.14970\n",
      "\u001b[1mWARNING[L2,P0] (GRHydro):\u001b[0m                                      Infinite Lorentz factor reset. rho, w_tmp:    0.326187E-07    1.14970\n",
      "\u001b[1mWARNING[L2,P0] (GRHydro):\u001b[0m                                      Infinite Lorentz factor reset. rho, w_tmp:    0.326187E-07    1.14970\n",
      "\u001b[1mWARNING[L2,P0] (GRHydro):\u001b[0m                                      Infinite Lorentz factor reset. rho, w_tmp:    0.327312E-07    1.14911\n",
      "\u001b[1mWARNING[L2,P0] (GRHydro):\u001b[0m                                      Infinite Lorentz factor reset. rho, w_tmp:    0.327312E-07    1.14911\n",
      "\u001b[1mWARNING[L2,P0] (GRHydro):\u001b[0m                                      Infinite Lorentz factor reset. rho, w_tmp:    0.327312E-07    1.14911\n",
      "\u001b[1mWARNING[L2,P0] (GRHydro):\u001b[0m                                      Infinite Lorentz factor reset. rho, w_tmp:    0.327320E-07    1.14911\n",
      "\u001b[1mWARNING[L2,P0] (GRHydro):\u001b[0m                                      Infinite Lorentz factor reset. rho, w_tmp:    0.327320E-07    1.14911\n",
      "\u001b[1mWARNING[L2,P0] (GRHydro):\u001b[0m                                      Infinite Lorentz factor reset. rho, w_tmp:    0.327320E-07    1.14911\n",
      "\u001b[1mWARNING[L2,P0] (GRHydro):\u001b[0m                                      Infinite Lorentz factor reset. rho, w_tmp:    0.328453E-07    1.14851\n",
      "\u001b[1mWARNING[L2,P0] (GRHydro):\u001b[0m                                      Infinite Lorentz factor reset. rho, w_tmp:    0.328453E-07    1.14851\n",
      "\u001b[1mWARNING[L2,P0] (GRHydro):\u001b[0m                                      Infinite Lorentz factor reset. rho, w_tmp:    0.328453E-07    1.14851\n",
      "   279040   272.500 |  803.2565221 |    0.0013242\n",
      "\u001b[1mWARNING[L2,P0] (GRHydro):\u001b[0m                                      Infinite Lorentz factor reset. rho, w_tmp:    0.328453E-07    1.14851\n",
      "\u001b[1mWARNING[L2,P0] (GRHydro):\u001b[0m                                      Infinite Lorentz factor reset. rho, w_tmp:    0.328453E-07    1.14851\n",
      "\u001b[1mWARNING[L2,P0] (GRHydro):\u001b[0m                                      Infinite Lorentz factor reset. rho, w_tmp:    0.328453E-07    1.14851\n",
      "\u001b[1mWARNING[L2,P0] (GRHydro):\u001b[0m                                      Infinite Lorentz factor reset. rho, w_tmp:    0.329595E-07    1.14792\n",
      "\u001b[1mWARNING[L2,P0] (GRHydro):\u001b[0m                                      Infinite Lorentz factor reset. rho, w_tmp:    0.329595E-07    1.14792\n",
      "\u001b[1mWARNING[L2,P0] (GRHydro):\u001b[0m                                      Infinite Lorentz factor reset. rho, w_tmp:    0.329595E-07    1.14792\n",
      "\u001b[1mWARNING[L2,P0] (GRHydro):\u001b[0m                                      Infinite Lorentz factor reset. rho, w_tmp:    0.329603E-07    1.14792\n",
      "\u001b[1mWARNING[L2,P0] (GRHydro):\u001b[0m                                      Infinite Lorentz factor reset. rho, w_tmp:    0.329603E-07    1.14792\n",
      "\u001b[1mWARNING[L2,P0] (GRHydro):\u001b[0m                                      Infinite Lorentz factor reset. rho, w_tmp:    0.329603E-07    1.14792\n",
      "\u001b[1mWARNING[L2,P0] (GRHydro):\u001b[0m                                      Infinite Lorentz factor reset. rho, w_tmp:    0.330752E-07    1.14732\n",
      "\u001b[1mWARNING[L2,P0] (GRHydro):\u001b[0m                                      Infinite Lorentz factor reset. rho, w_tmp:    0.330752E-07    1.14732\n",
      "\u001b[1mWARNING[L2,P0] (GRHydro):\u001b[0m                                      Infinite Lorentz factor reset. rho, w_tmp:    0.330752E-07    1.14732\n",
      "\u001b[1mWARNING[L2,P0] (GRHydro):\u001b[0m                                      Infinite Lorentz factor reset. rho, w_tmp:    0.330752E-07    1.14732\n",
      "\u001b[1mWARNING[L2,P0] (GRHydro):\u001b[0m                                      Infinite Lorentz factor reset. rho, w_tmp:    0.330752E-07    1.14732\n",
      "\u001b[1mWARNING[L2,P0] (GRHydro):\u001b[0m                                      Infinite Lorentz factor reset. rho, w_tmp:    0.330752E-07    1.14732\n",
      "\u001b[1mWARNING[L2,P0] (GRHydro):\u001b[0m                                      Infinite Lorentz factor reset. rho, w_tmp:    0.331910E-07    1.14673\n",
      "\u001b[1mWARNING[L2,P0] (GRHydro):\u001b[0m                                      Infinite Lorentz factor reset. rho, w_tmp:    0.331910E-07    1.14673\n",
      "\u001b[1mWARNING[L2,P0] (GRHydro):\u001b[0m                                      Infinite Lorentz factor reset. rho, w_tmp:    0.331910E-07    1.14673\n",
      "\u001b[1mWARNING[L2,P0] (GRHydro):\u001b[0m                                      Infinite Lorentz factor reset. rho, w_tmp:    0.331918E-07    1.14673\n",
      "\u001b[1mWARNING[L2,P0] (GRHydro):\u001b[0m                                      Infinite Lorentz factor reset. rho, w_tmp:    0.331918E-07    1.14673\n",
      "\u001b[1mWARNING[L2,P0] (GRHydro):\u001b[0m                                      Infinite Lorentz factor reset. rho, w_tmp:    0.331918E-07    1.14673\n",
      "\u001b[1mWARNING[L2,P0] (GRHydro):\u001b[0m                                      Infinite Lorentz factor reset. rho, w_tmp:    0.333085E-07    1.14613\n",
      "\u001b[1mWARNING[L2,P0] (GRHydro):\u001b[0m                                      Infinite Lorentz factor reset. rho, w_tmp:    0.333085E-07    1.14613\n",
      "\u001b[1mWARNING[L2,P0] (GRHydro):\u001b[0m                                      Infinite Lorentz factor reset. rho, w_tmp:    0.333085E-07    1.14613\n",
      "   279552   273.000 |  802.8461847 |    0.0013241\n",
      "\u001b[1mWARNING[L2,P0] (GRHydro):\u001b[0m                                      Infinite Lorentz factor reset. rho, w_tmp:    0.333085E-07    1.14613\n",
      "\u001b[1mWARNING[L2,P0] (GRHydro):\u001b[0m                                      Infinite Lorentz factor reset. rho, w_tmp:    0.333085E-07    1.14613\n",
      "\u001b[1mWARNING[L2,P0] (GRHydro):\u001b[0m                                      Infinite Lorentz factor reset. rho, w_tmp:    0.333085E-07    1.14613\n",
      "\u001b[1mWARNING[L2,P0] (GRHydro):\u001b[0m                                      Infinite Lorentz factor reset. rho, w_tmp:    0.334260E-07    1.14553\n",
      "\u001b[1mWARNING[L2,P0] (GRHydro):\u001b[0m                                      Infinite Lorentz factor reset. rho, w_tmp:    0.334260E-07    1.14553\n",
      "\u001b[1mWARNING[L2,P0] (GRHydro):\u001b[0m                                      Infinite Lorentz factor reset. rho, w_tmp:    0.334260E-07    1.14553\n",
      "\u001b[1mWARNING[L2,P0] (GRHydro):\u001b[0m                                      Infinite Lorentz factor reset. rho, w_tmp:    0.334268E-07    1.14553\n",
      "\u001b[1mWARNING[L2,P0] (GRHydro):\u001b[0m                                      Infinite Lorentz factor reset. rho, w_tmp:    0.334268E-07    1.14553\n",
      "\u001b[1mWARNING[L2,P0] (GRHydro):\u001b[0m                                      Infinite Lorentz factor reset. rho, w_tmp:    0.334268E-07    1.14553\n",
      "\u001b[1mWARNING[L2,P0] (GRHydro):\u001b[0m                                      Infinite Lorentz factor reset. rho, w_tmp:    0.335452E-07    1.14494\n",
      "\u001b[1mWARNING[L2,P0] (GRHydro):\u001b[0m                                      Infinite Lorentz factor reset. rho, w_tmp:    0.335452E-07    1.14494\n",
      "\u001b[1mWARNING[L2,P0] (GRHydro):\u001b[0m                                      Infinite Lorentz factor reset. rho, w_tmp:    0.335452E-07    1.14494\n",
      "\u001b[1mWARNING[L2,P0] (GRHydro):\u001b[0m                                      Infinite Lorentz factor reset. rho, w_tmp:    0.335452E-07    1.14494\n",
      "\u001b[1mWARNING[L2,P0] (GRHydro):\u001b[0m                                      Infinite Lorentz factor reset. rho, w_tmp:    0.335452E-07    1.14494\n",
      "\u001b[1mWARNING[L2,P0] (GRHydro):\u001b[0m                                      Infinite Lorentz factor reset. rho, w_tmp:    0.335452E-07    1.14494\n",
      "\u001b[1mWARNING[L2,P0] (GRHydro):\u001b[0m                                      Infinite Lorentz factor reset. rho, w_tmp:    0.336645E-07    1.14434\n"
     ]
    },
    {
     "name": "stdout",
     "output_type": "stream",
     "text": [
      "\u001b[1mWARNING[L2,P0] (GRHydro):\u001b[0m                                      Infinite Lorentz factor reset. rho, w_tmp:    0.336645E-07    1.14434\n",
      "\u001b[1mWARNING[L2,P0] (GRHydro):\u001b[0m                                      Infinite Lorentz factor reset. rho, w_tmp:    0.336645E-07    1.14434\n",
      "\u001b[1mWARNING[L2,P0] (GRHydro):\u001b[0m                                      Infinite Lorentz factor reset. rho, w_tmp:    0.336654E-07    1.14434\n",
      "\u001b[1mWARNING[L2,P0] (GRHydro):\u001b[0m                                      Infinite Lorentz factor reset. rho, w_tmp:    0.336654E-07    1.14434\n",
      "\u001b[1mWARNING[L2,P0] (GRHydro):\u001b[0m                                      Infinite Lorentz factor reset. rho, w_tmp:    0.336654E-07    1.14434\n",
      "\u001b[1mWARNING[L2,P0] (GRHydro):\u001b[0m                                      Infinite Lorentz factor reset. rho, w_tmp:    0.337856E-07    1.14374\n",
      "\u001b[1mWARNING[L2,P0] (GRHydro):\u001b[0m                                      Infinite Lorentz factor reset. rho, w_tmp:    0.337856E-07    1.14374\n",
      "\u001b[1mWARNING[L2,P0] (GRHydro):\u001b[0m                                      Infinite Lorentz factor reset. rho, w_tmp:    0.337856E-07    1.14374\n",
      "   280064   273.500 |  802.8223456 |    0.0013240\n",
      "\u001b[1mWARNING[L2,P0] (GRHydro):\u001b[0m                                      Infinite Lorentz factor reset. rho, w_tmp:    0.337856E-07    1.14374\n",
      "\u001b[1mWARNING[L2,P0] (GRHydro):\u001b[0m                                      Infinite Lorentz factor reset. rho, w_tmp:    0.337856E-07    1.14374\n",
      "\u001b[1mWARNING[L2,P0] (GRHydro):\u001b[0m                                      Infinite Lorentz factor reset. rho, w_tmp:    0.337856E-07    1.14374\n",
      "\u001b[1mWARNING[L2,P0] (GRHydro):\u001b[0m                                      Infinite Lorentz factor reset. rho, w_tmp:    0.339068E-07    1.14314\n",
      "\u001b[1mWARNING[L2,P0] (GRHydro):\u001b[0m                                      Infinite Lorentz factor reset. rho, w_tmp:    0.339068E-07    1.14314\n",
      "\u001b[1mWARNING[L2,P0] (GRHydro):\u001b[0m                                      Infinite Lorentz factor reset. rho, w_tmp:    0.339068E-07    1.14314\n",
      "\u001b[1mWARNING[L2,P0] (GRHydro):\u001b[0m                                      Infinite Lorentz factor reset. rho, w_tmp:    0.339078E-07    1.14314\n",
      "\u001b[1mWARNING[L2,P0] (GRHydro):\u001b[0m                                      Infinite Lorentz factor reset. rho, w_tmp:    0.339078E-07    1.14314\n",
      "\u001b[1mWARNING[L2,P0] (GRHydro):\u001b[0m                                      Infinite Lorentz factor reset. rho, w_tmp:    0.339078E-07    1.14314\n",
      "\u001b[1mWARNING[L2,P0] (GRHydro):\u001b[0m                                      Infinite Lorentz factor reset. rho, w_tmp:    0.340302E-07    1.14254\n",
      "\u001b[1mWARNING[L2,P0] (GRHydro):\u001b[0m                                      Infinite Lorentz factor reset. rho, w_tmp:    0.340302E-07    1.14254\n",
      "\u001b[1mWARNING[L2,P0] (GRHydro):\u001b[0m                                      Infinite Lorentz factor reset. rho, w_tmp:    0.340302E-07    1.14254\n",
      "\u001b[1mWARNING[L2,P0] (GRHydro):\u001b[0m                                      Infinite Lorentz factor reset. rho, w_tmp:    0.340301E-07    1.14254\n",
      "\u001b[1mWARNING[L2,P0] (GRHydro):\u001b[0m                                      Infinite Lorentz factor reset. rho, w_tmp:    0.340301E-07    1.14254\n",
      "\u001b[1mWARNING[L2,P0] (GRHydro):\u001b[0m                                      Infinite Lorentz factor reset. rho, w_tmp:    0.340301E-07    1.14254\n",
      "\u001b[1mWARNING[L2,P0] (GRHydro):\u001b[0m                                      Infinite Lorentz factor reset. rho, w_tmp:    0.341535E-07    1.14194\n",
      "\u001b[1mWARNING[L2,P0] (GRHydro):\u001b[0m                                      Infinite Lorentz factor reset. rho, w_tmp:    0.341535E-07    1.14194\n",
      "\u001b[1mWARNING[L2,P0] (GRHydro):\u001b[0m                                      Infinite Lorentz factor reset. rho, w_tmp:    0.341535E-07    1.14194\n",
      "\u001b[1mWARNING[L2,P0] (GRHydro):\u001b[0m                                      Infinite Lorentz factor reset. rho, w_tmp:    0.341546E-07    1.14194\n",
      "\u001b[1mWARNING[L2,P0] (GRHydro):\u001b[0m                                      Infinite Lorentz factor reset. rho, w_tmp:    0.341546E-07    1.14194\n",
      "\u001b[1mWARNING[L2,P0] (GRHydro):\u001b[0m                                      Infinite Lorentz factor reset. rho, w_tmp:    0.341546E-07    1.14194\n",
      "\u001b[1mWARNING[L2,P0] (GRHydro):\u001b[0m                                      Infinite Lorentz factor reset. rho, w_tmp:    0.342791E-07    1.14134\n",
      "\u001b[1mWARNING[L2,P0] (GRHydro):\u001b[0m                                      Infinite Lorentz factor reset. rho, w_tmp:    0.342791E-07    1.14134\n",
      "\u001b[1mWARNING[L2,P0] (GRHydro):\u001b[0m                                      Infinite Lorentz factor reset. rho, w_tmp:    0.342791E-07    1.14134\n",
      "   280576   274.000 |  802.6948947 |    0.0013239\n",
      "\u001b[1mWARNING[L2,P0] (GRHydro):\u001b[0m                                      Infinite Lorentz factor reset. rho, w_tmp:    0.342791E-07    1.14134\n",
      "\u001b[1mWARNING[L2,P0] (GRHydro):\u001b[0m                                      Infinite Lorentz factor reset. rho, w_tmp:    0.342791E-07    1.14134\n",
      "\u001b[1mWARNING[L2,P0] (GRHydro):\u001b[0m                                      Infinite Lorentz factor reset. rho, w_tmp:    0.342791E-07    1.14134\n",
      "\u001b[1mWARNING[L2,P0] (GRHydro):\u001b[0m                                      Infinite Lorentz factor reset. rho, w_tmp:    0.344047E-07    1.14074\n",
      "\u001b[1mWARNING[L2,P0] (GRHydro):\u001b[0m                                      Infinite Lorentz factor reset. rho, w_tmp:    0.344047E-07    1.14074\n",
      "\u001b[1mWARNING[L2,P0] (GRHydro):\u001b[0m                                      Infinite Lorentz factor reset. rho, w_tmp:    0.344047E-07    1.14074\n",
      "\u001b[1mWARNING[L2,P0] (GRHydro):\u001b[0m                                      Infinite Lorentz factor reset. rho, w_tmp:    0.344058E-07    1.14074\n",
      "\u001b[1mWARNING[L2,P0] (GRHydro):\u001b[0m                                      Infinite Lorentz factor reset. rho, w_tmp:    0.344058E-07    1.14074\n",
      "\u001b[1mWARNING[L2,P0] (GRHydro):\u001b[0m                                      Infinite Lorentz factor reset. rho, w_tmp:    0.344058E-07    1.14074\n",
      "\u001b[1mWARNING[L2,P0] (GRHydro):\u001b[0m                                      Infinite Lorentz factor reset. rho, w_tmp:    0.345326E-07    1.14014\n",
      "\u001b[1mWARNING[L2,P0] (GRHydro):\u001b[0m                                      Infinite Lorentz factor reset. rho, w_tmp:    0.345326E-07    1.14014\n",
      "\u001b[1mWARNING[L2,P0] (GRHydro):\u001b[0m                                      Infinite Lorentz factor reset. rho, w_tmp:    0.345326E-07    1.14014\n",
      "\u001b[1mWARNING[L2,P0] (GRHydro):\u001b[0m                                      Infinite Lorentz factor reset. rho, w_tmp:    0.345326E-07    1.14014\n",
      "\u001b[1mWARNING[L2,P0] (GRHydro):\u001b[0m                                      Infinite Lorentz factor reset. rho, w_tmp:    0.345326E-07    1.14014\n",
      "\u001b[1mWARNING[L2,P0] (GRHydro):\u001b[0m                                      Infinite Lorentz factor reset. rho, w_tmp:    0.345326E-07    1.14014\n",
      "\u001b[1mWARNING[L2,P0] (GRHydro):\u001b[0m                                      Infinite Lorentz factor reset. rho, w_tmp:    0.346605E-07    1.13954\n",
      "\u001b[1mWARNING[L2,P0] (GRHydro):\u001b[0m                                      Infinite Lorentz factor reset. rho, w_tmp:    0.346605E-07    1.13954\n",
      "\u001b[1mWARNING[L2,P0] (GRHydro):\u001b[0m                                      Infinite Lorentz factor reset. rho, w_tmp:    0.346605E-07    1.13954\n"
     ]
    },
    {
     "name": "stderr",
     "output_type": "stream",
     "text": [
      "Traceback (most recent call last):\n",
      "  File \"/home/sam/ET/Cactus/./simfactory/bin/../lib/sim.py\", line 149, in <module>\n",
      "    main()\n",
      "  File \"/home/sam/ET/Cactus/./simfactory/bin/../lib/sim.py\", line 145, in main\n",
      "    CommandDispatch()\n",
      "  File \"/home/sam/ET/Cactus/./simfactory/bin/../lib/sim.py\", line 107, in CommandDispatch\n",
      "    module.main()\n",
      "  File \"/home/sam/ET/Cactus/repos/simfactory2/lib/sim-manage.py\", line 398, in main\n",
      "    CommandDispatch()\n",
      "  File \"/home/sam/ET/Cactus/repos/simfactory2/lib/sim-manage.py\", line 377, in CommandDispatch\n",
      "    exec(\"command_%s()\" % command)\n",
      "  File \"<string>\", line 1, in <module>\n",
      "  File \"/home/sam/ET/Cactus/repos/simfactory2/lib/sim-manage.py\", line 312, in command_show_output\n",
      "    restart.show_output()\n",
      "  File \"/home/sam/ET/Cactus/repos/simfactory2/lib/simrestart.py\", line 1558, in show_output\n",
      "    time.sleep(60)\n",
      "KeyboardInterrupt\n"
     ]
    },
    {
     "name": "stdout",
     "output_type": "stream",
     "text": [
      "Process is interrupted.\n"
     ]
    }
   ],
   "source": [
    "%%bash\n",
    "# watch log output, following along as new output is produced\n",
    "./simfactory/bin/sim show-output --follow tov_ET_weno"
   ]
  },
  {
   "cell_type": "markdown",
   "id": "ac488d7e",
   "metadata": {},
   "source": [
    "To abort the simulation just run"
   ]
  },
  {
   "cell_type": "code",
   "execution_count": null,
   "id": "ab90ff1c",
   "metadata": {},
   "outputs": [],
   "source": [
    "%%bash\n",
    "./simfactory/bin/sim stop tov_ET_weno"
   ]
  },
  {
   "cell_type": "markdown",
   "id": "0f747eda",
   "metadata": {},
   "source": [
    "To list all simulations kept in the cache"
   ]
  },
  {
   "cell_type": "code",
   "execution_count": 3,
   "id": "b214737e",
   "metadata": {
    "scrolled": true
   },
   "outputs": [
    {
     "name": "stderr",
     "output_type": "stream",
     "text": [
      "Warning: job status is U\n"
     ]
    },
    {
     "name": "stdout",
     "output_type": "stream",
     "text": [
      "   tov_ET_weno             [ACTIVE (FINISHED), restart 0000, job id 730293]\n"
     ]
    }
   ],
   "source": [
    "%%bash\n",
    "./simfactory/bin/sim list-simulations"
   ]
  },
  {
   "cell_type": "markdown",
   "id": "32cb422a",
   "metadata": {},
   "source": [
    "The output will be stored in a directory, to get its position"
   ]
  },
  {
   "cell_type": "code",
   "execution_count": 4,
   "id": "2dcef460",
   "metadata": {},
   "outputs": [
    {
     "name": "stdout",
     "output_type": "stream",
     "text": [
      "/home/sam/ET/simulations/tov_ET_weno/output-0000\n"
     ]
    }
   ],
   "source": [
    "%%bash\n",
    "./simfactory/bin/sim get-output-dir tov_ET_weno"
   ]
  },
  {
   "cell_type": "markdown",
   "id": "9513b738",
   "metadata": {},
   "source": [
    "If you're done with your simulation just execute"
   ]
  },
  {
   "cell_type": "code",
   "execution_count": 10,
   "id": "6b01d3a7",
   "metadata": {},
   "outputs": [
    {
     "name": "stdout",
     "output_type": "stream",
     "text": [
      "Simulation name: tov_ET_weno\n",
      "Warning: job status is U\n",
      "Warning: job status is U\n",
      "Simulation tov_ET_weno has been moved to trash folder /home/sam/ET/simulations/TRASH/simulation-tov_ET_weno-swift-swift-sam-2023.03.01-22.25.19-729866\n"
     ]
    }
   ],
   "source": [
    "%%bash\n",
    "./simfactory/bin/sim purge tov_ET_weno"
   ]
  },
  {
   "cell_type": "markdown",
   "id": "7ea523b6",
   "metadata": {},
   "source": [
    "# Plotting the results"
   ]
  },
  {
   "cell_type": "markdown",
   "id": "6985fdfd",
   "metadata": {},
   "source": [
    "We care to plot the results of the central density evolution with respect to time to show the oscillating behaviour of the perturbed star.\n",
    "I'm gonna sort all reconstruction methods in a single folder named `recon_method`, so i also group the simulations in that folder."
   ]
  },
  {
   "cell_type": "code",
   "execution_count": 11,
   "id": "a7f0852f",
   "metadata": {},
   "outputs": [
    {
     "name": "stdout",
     "output_type": "stream",
     "text": [
      "tov_ET_weno\n"
     ]
    }
   ],
   "source": [
    "%%bash\n",
    "mkdir /home/sam/ET/simulations/recon_method/\n",
    "mv /home/sam/ET/simulations/tov_ET_weno/ /home/sam/ET/simulations/recon_method/tov_ET_weno/\n",
    "cd /home/sam/ET/simulations/recon_method/\n",
    "ls"
   ]
  },
  {
   "cell_type": "code",
   "execution_count": 26,
   "id": "ad0ed775",
   "metadata": {},
   "outputs": [],
   "source": [
    "#importing packages\n",
    "import numpy as np\n",
    "import matplotlib.pyplot as plt\n",
    "\n",
    "# plot options\n",
    "rc = {\"text.usetex\": True,\n",
    "      \"font.family\": \"serif\",\n",
    "      \"font.sans-serif\": [\"Computer Modern\"],\n",
    "      #\"axes.prop_cycle\": plt.cycler(color=[\"#E24A33\", \"#348ABD\", \"#988ED5\", \"#777777\", \"#FBC15E\", \"#8EBA42\", \"#FFB5B8\", \"#A2C8EC\", \"#FFBC79\", \"#CFCFCF\"])\n",
    "     }\n",
    "plt.rcParams.update(rc)\n",
    "\n",
    "%config InlineBackend.figure_format='retina'"
   ]
  },
  {
   "cell_type": "code",
   "execution_count": 27,
   "id": "d2162124",
   "metadata": {},
   "outputs": [],
   "source": [
    "#directory paths\n",
    "outdir = [\n",
    "  '/home/sam/ET/simulations/recon_method/tov_ET_tvd/output-0000','/home/sam/ET/simulations/resolution/tov_ET_2/output-0000', #tov_ET_2 already is ppm\n",
    "  '/home/sam/ET/simulations/recon_method/tov_ET_eno/output-0000','/home/sam/ET/simulations/recon_method/tov_ET_weno/output-0000',\n",
    "  ]\n",
    "\n",
    "parname = [\n",
    "  'tov_ET_tvd','tov_ET_res2_xmax24', #tov_ET_2 already is ppm\n",
    "  'tov_ET_eno','tov_ET_weno', \n",
    "]"
   ]
  },
  {
   "cell_type": "code",
   "execution_count": 28,
   "id": "768e198f",
   "metadata": {},
   "outputs": [
    {
     "data": {
      "image/png": "[encoded data removed]",
      "text/plain": [
       "<Figure size 640x480 with 1 Axes>"
      ]
     },
     "metadata": {
      "image/png": {
       "height": 450,
       "width": 569
      }
     },
     "output_type": "display_data"
    }
   ],
   "source": [
    "#plotting\n",
    "method = ['tvd', 'ppm', 'eno', 'weno'] #id\n",
    "\n",
    "i = 3     #selector\n",
    "\n",
    "lin_data = np.genfromtxt(outdir[i] + \"/\" + parname[i] + \"/hydrobase-rho.maximum.asc\")\n",
    "plt.plot(lin_data[:,1],lin_data[:,2]/lin_data[0,2], label= f\"{method[i]}\",  linewidth=1.2)\n",
    "\n",
    "\n",
    "#plot options\n",
    "plt.title(\"Numerical Reconstruction Methods\")\n",
    "plt.xlabel(r'$t$ [$M_{\\odot}$]')\n",
    "plt.ylabel(r'$\\rho_c / \\rho_c(0)$')\n",
    "plt.grid(c = 'black', linewidth =.05)\n",
    "plt.legend()\n",
    "# plt.savefig('/home/sam/Programmi/tov_ET/recon_method/recon' + '.png', dpi = 600)\n",
    "plt.show()"
   ]
  },
  {
   "cell_type": "markdown",
   "id": "5bfcf2d0",
   "metadata": {},
   "source": [
    "This is how one starts a simple simulation and is able to plot its results."
   ]
  }
 ],
 "metadata": {
  "kernelspec": {
   "display_name": "Python 3 (ipykernel)",
   "language": "python",
   "name": "python3"
  },
  "language_info": {
   "codemirror_mode": {
    "name": "ipython",
    "version": 3
   },
   "file_extension": ".py",
   "mimetype": "text/x-python",
   "name": "python",
   "nbconvert_exporter": "python",
   "pygments_lexer": "ipython3",
   "version": "3.10.10"
  }
 },
 "nbformat": 4,
 "nbformat_minor": 5
}
