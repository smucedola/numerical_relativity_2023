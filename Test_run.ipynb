{
 "cells": [
  {
   "cell_type": "markdown",
   "id": "334b9006",
   "metadata": {},
   "source": [
    "# Notebook setup\n",
    "\n",
    "This notebook is intended to be used online on the Einstein Toolkit tutorial server, offline as a read-only document. To make all of these work some setting need to be tweaked, which we do in the next cell."
   ]
  },
  {
   "cell_type": "code",
   "execution_count": 3,
   "id": "bfe0b56c",
   "metadata": {},
   "outputs": [
    {
     "name": "stdout",
     "output_type": "stream",
     "text": [
      "\n",
      "Automagic is ON, % prefix IS NOT needed for line magics.\n"
     ]
    }
   ],
   "source": [
    "# this allows you to use \"cd\" in cells to change directories instead of requiring \"%cd\"\n",
    "%automagic on\n",
    "# override IPython's default %%bash to not buffer all output\n",
    "from IPython.core.magic import register_cell_magic\n",
    "@register_cell_magic\n",
    "def bash(line, cell): get_ipython().system(cell)\n",
    "\n",
    "# this (non-default package) keeps the end of shell output in view\n",
    "try: import scrolldown\n",
    "except ModuleNotFoundError: pass\n",
    "\n",
    "# We are going to install kuibit, a Python package to post-process Cactus simulations.\n",
    "# We will install kuibit inside the Cactus directory. The main reason for this is to\n",
    "# have a make easier to uninstall kuibit (you can just remove the Cactus folder). \n",
    "import os, sys\n",
    "os.environ[\"PYTHONUSERBASE\"] = os.environ['HOME'] + \"/Cactus/python\"\n",
    "sys.path.insert(1, f\"{os.environ['PYTHONUSERBASE']}/lib/python{sys.version_info[0]}.{sys.version_info[1]}/site-packages\")"
   ]
  },
  {
   "cell_type": "markdown",
   "id": "485fbe90",
   "metadata": {},
   "source": [
    "# Trying out one of my configurations"
   ]
  },
  {
   "cell_type": "markdown",
   "id": "cb8c40e1",
   "metadata": {},
   "source": [
    "The configuration i want to run is the evolution of a TOV star in a cartesian grid in the einstein toolkit environment. This work is taken from my thesis, so let's access the configuration files.\n",
    "First I'll show where my configuration files are"
   ]
  },
  {
   "cell_type": "code",
   "execution_count": 4,
   "id": "edb2968d",
   "metadata": {},
   "outputs": [
    {
     "name": "stdout",
     "output_type": "stream",
     "text": [
      "tov_ET_eno.par\r\n",
      "tov_ET_ppm.par\r\n",
      "tov_ET_tvd.par\r\n",
      "tov_ET_weno.par\r\n"
     ]
    }
   ],
   "source": [
    "%%bash\n",
    "cd ~/programmi/tov_ET/recon_method/\n",
    "ls | grep .par"
   ]
  },
  {
   "cell_type": "markdown",
   "id": "ee7236db",
   "metadata": {},
   "source": [
    "And now i show where my Cactus path is"
   ]
  },
  {
   "cell_type": "code",
   "execution_count": 6,
   "id": "81be8fcc",
   "metadata": {},
   "outputs": [
    {
     "name": "stdout",
     "output_type": "stream",
     "text": [
      "/home/sam/ET/Cactus\n"
     ]
    }
   ],
   "source": [
    "cd ~/ET/Cactus"
   ]
  },
  {
   "cell_type": "markdown",
   "id": "d54d88ea",
   "metadata": {},
   "source": [
    "Now let's run a simple simulation for the weno reconstruction method.\n",
    "I usually prefer to have my simulations folder inside the ET folder, to do that you need to edit the `basedir` value in `simfactory/etc/defs.local.ini`\n",
    "\n",
    "``` \n",
    "[swift]\n",
    "basedir = ~/ET/simulations\n",
    "```\n",
    "\n",
    "For my case i also decided to move the Cactus directory in another path, if you do so you have to tell the ET that your `sourcebasedir` has changed.\n",
    "Just go to `/home/sam/ET/Cactus/simfactory/mdb/machines` and look for your machine hostname .ini file and then change the following line, in my case `swift.ini`\n",
    "\n",
    "```\n",
    "sourcebasedir   = /home/sam/ET\n",
    "```"
   ]
  },
  {
   "cell_type": "code",
   "execution_count": 7,
   "id": "c910f236",
   "metadata": {},
   "outputs": [
    {
     "name": "stdout",
     "output_type": "stream",
     "text": [
      "Parameter file: /home/sam/programmi/tov_ET/recon_method/tov_ET_weno.par\r\n",
      "Error: cannot create job skeleton directory: Simulation \"/home/sam/ET/simulations/tov_ET_weno\" already exists and has been initialized\r\n",
      "Aborting Simfactory.\r\n"
     ]
    }
   ],
   "source": [
    "%%bash\n",
    "./simfactory/bin/sim create tov_ET_weno --configuration sim --parfile=~/programmi/tov_ET/recon_method/tov_ET_weno.par"
   ]
  },
  {
   "cell_type": "markdown",
   "id": "6491cbc9",
   "metadata": {},
   "source": [
    "As you can see, the structure of the simulation has been created, that mean ET has allocated the resources and activated the thorns needed in order to run the simulation. One can check the structure of this by going in the directory"
   ]
  },
  {
   "cell_type": "code",
   "execution_count": 8,
   "id": "f00e06d6",
   "metadata": {},
   "outputs": [
    {
     "name": "stdout",
     "output_type": "stream",
     "text": [
      "log.txt  output-0000  output-0000-active  SIMFACTORY\r\n"
     ]
    }
   ],
   "source": [
    "%%bash\n",
    "cd ~/ET/simulations/tov_ET_weno/\n",
    "ls"
   ]
  },
  {
   "cell_type": "markdown",
   "id": "fac0d53b",
   "metadata": {},
   "source": [
    "And finally now, we can start the simulation"
   ]
  },
  {
   "cell_type": "code",
   "execution_count": 9,
   "id": "347da50f",
   "metadata": {},
   "outputs": [
    {
     "name": "stdout",
     "output_type": "stream",
     "text": [
      "Warning: job status is U\n",
      "Warning: job status is U\n",
      "Assigned restart id: 1 \n",
      "Executing submit command: exec nohup /home/sam/ET/simulations/tov_ET_weno/output-0001/SIMFACTORY/SubmitScript < /dev/null > /home/sam/ET/simulations/tov_ET_weno/output-0001/tov_ET_weno.out 2> /home/sam/ET/simulations/tov_ET_weno/output-0001/tov_ET_weno.err & echo $!\n",
      "Submit finished, job id is 389948\n"
     ]
    }
   ],
   "source": [
    "%%bash\n",
    "# start simulation segment\n",
    "./simfactory/bin/sim submit tov_ET_weno --cores=2 --num-threads=1 --walltime=0:20:00"
   ]
  },
  {
   "cell_type": "markdown",
   "id": "41634a01",
   "metadata": {},
   "source": [
    "The `submit` command submitted a new segment for the simulation `tov_ET_weno` to the queueing system to run in the background asking for a maximum runtime of 20 minutes, using a total of 2 compute cores and using 1 thread per MPI ranks. On your laptop it will start right away, on a cluster the queuing system will wait until a sufficient number of nodes is able to start your simulation.\n",
    "\n",
    "You can check the status of the simulation with the following command"
   ]
  },
  {
   "cell_type": "code",
   "execution_count": 10,
   "id": "837c137c",
   "metadata": {},
   "outputs": [
    {
     "name": "stdout",
     "output_type": "stream",
     "text": [
      "Simulation name: tov_ET_weno\n",
      "Warning: job status is U\n",
      "Warning: job status is U\n",
      "Warning: Job is not running, cannot retreive exechost\n",
      "================================================================================\n",
      "The job's Formaline output is:\n",
      "================================================================================\n",
      "(file does not exist)\n",
      "================================================================================\n",
      "The job's stdout is:\n",
      "================================================================================\n",
      "Simulation name: tov_ET_weno\n",
      "Running simulation tov_ET_weno\n",
      "Preparing:\n",
      "Checking:\n",
      "/home/sam/ET/simulations/tov_ET_weno/output-0001-active\n",
      "swift\n",
      "mer 1 mar 2023, 20:06:40, CET\n",
      "Environment:\n",
      "Starting:\n",
      "Simfactory Done at date: mer 1 mar 2023, 20:06:40\n",
      "\n",
      "================================================================================\n",
      "The job's stderr is:\n",
      "================================================================================\n",
      "+ set -e\n",
      "+ cd /home/sam/ET/simulations/tov_ET_weno/output-0001-active\n",
      "+ echo Checking:\n",
      "+ pwd\n",
      "+ hostname\n",
      "+ date\n",
      "+ echo Environment:\n",
      "+ export CACTUS_NUM_PROCS=2\n",
      "+ CACTUS_NUM_PROCS=2\n",
      "+ export CACTUS_NUM_THREADS=1\n",
      "+ CACTUS_NUM_THREADS=1\n",
      "+ export GMON_OUT_PREFIX=gmon.out\n",
      "+ GMON_OUT_PREFIX=gmon.out\n",
      "+ export OMP_NUM_THREADS=1\n",
      "+ OMP_NUM_THREADS=1\n",
      "+ env\n",
      "+ sort\n",
      "+ echo Starting:\n",
      "++ date +%s\n",
      "+ export CACTUS_STARTTIME=1677697600\n",
      "+ CACTUS_STARTTIME=1677697600\n",
      "+ '[' 2 = 1 ']'\n",
      "+ mpirun -np 2 /home/sam/ET/simulations/tov_ET_weno/SIMFACTORY/exe/cactus_sim -L 3 /home/sam/ET/simulations/tov_ET_weno/output-0001/tov_ET_weno.par\n",
      "/home/sam/ET/simulations/tov_ET_weno/output-0001/SIMFACTORY/RunScript: line 35: mpirun: command not found\n",
      "\n",
      "================================================================================\n"
     ]
    }
   ],
   "source": [
    "%%bash\n",
    "# watch log output, following along as new output is produced\n",
    "./simfactory/bin/sim show-output --follow tov_ET_weno"
   ]
  },
  {
   "cell_type": "code",
   "execution_count": 11,
   "id": "b214737e",
   "metadata": {
    "scrolled": true
   },
   "outputs": [
    {
     "name": "stdout",
     "output_type": "stream",
     "text": [
      "Warning: job status is U\n",
      "   helloworld              [ACTIVE (FINISHED), restart 0000, job id -1]\n",
      "Warning: job status is U\n",
      "   tov_ET_weno             [ACTIVE (FINISHED), restart 0001, job id 389948]\n"
     ]
    }
   ],
   "source": [
    "%%bash\n",
    "./simfactory/bin/sim list-simulations"
   ]
  },
  {
   "cell_type": "markdown",
   "id": "32cb422a",
   "metadata": {},
   "source": [
    "The output will be stored in a directory, to get its position just run"
   ]
  },
  {
   "cell_type": "code",
   "execution_count": 12,
   "id": "2dcef460",
   "metadata": {},
   "outputs": [
    {
     "name": "stdout",
     "output_type": "stream",
     "text": [
      "/home/sam/ET/simulations/tov_ET_weno/output-0001\r\n"
     ]
    }
   ],
   "source": [
    "%%bash\n",
    "./simfactory/bin/sim get-output-dir tov_ET_weno"
   ]
  },
  {
   "cell_type": "markdown",
   "id": "9513b738",
   "metadata": {},
   "source": [
    "If you're done with your simulation just execute"
   ]
  },
  {
   "cell_type": "code",
   "execution_count": 13,
   "id": "6b01d3a7",
   "metadata": {},
   "outputs": [
    {
     "name": "stdout",
     "output_type": "stream",
     "text": [
      "Simulation name: tov_ET_weno\n",
      "Warning: job status is U\n",
      "Warning: job status is U\n",
      "Warning: job status is U\n",
      "Simulation tov_ET_weno has been moved to trash folder /home/sam/ET/simulations/TRASH/simulation-tov_ET_weno-swift-swift-sam-2023.03.01-20.04.05-389487\n"
     ]
    }
   ],
   "source": [
    "%%bash\n",
    "./simfactory/bin/sim purge tov_ET_weno"
   ]
  }
 ],
 "metadata": {
  "kernelspec": {
   "display_name": "Python 3 (ipykernel)",
   "language": "python",
   "name": "python3"
  },
  "language_info": {
   "codemirror_mode": {
    "name": "ipython",
    "version": 3
   },
   "file_extension": ".py",
   "mimetype": "text/x-python",
   "name": "python",
   "nbconvert_exporter": "python",
   "pygments_lexer": "ipython3",
   "version": "3.10.8"
  }
 },
 "nbformat": 4,
 "nbformat_minor": 5
}
