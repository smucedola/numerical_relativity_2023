{
 "cells": [
  {
   "cell_type": "markdown",
   "id": "334b9006",
   "metadata": {},
   "source": [
    "# Notebook setup\n",
    "\n",
    "This notebook is intended to be used online on the Einstein Toolkit tutorial server, offline as a read-only document. To make all of these work some setting need to be tweaked, which we do in the next cell."
   ]
  },
  {
   "cell_type": "code",
   "execution_count": 1,
   "id": "bfe0b56c",
   "metadata": {},
   "outputs": [
    {
     "name": "stdout",
     "output_type": "stream",
     "text": [
      "\n",
      "Automagic is ON, % prefix IS NOT needed for line magics.\n"
     ]
    }
   ],
   "source": [
    "# this allows you to use \"cd\" in cells to change directories instead of requiring \"%cd\"\n",
    "%automagic on\n",
    "# override IPython's default %%bash to not buffer all output\n",
    "from IPython.core.magic import register_cell_magic\n",
    "@register_cell_magic\n",
    "def bash(line, cell): get_ipython().system(cell)\n",
    "\n",
    "# this (non-default package) keeps the end of shell output in view\n",
    "try: import scrolldown\n",
    "except ModuleNotFoundError: pass\n",
    "\n",
    "# We are going to install kuibit, a Python package to post-process Cactus simulations.\n",
    "# We will install kuibit inside the Cactus directory. The main reason for this is to\n",
    "# have a make easier to uninstall kuibit (you can just remove the Cactus folder). \n",
    "import os, sys\n",
    "os.environ[\"PYTHONUSERBASE\"] = os.environ['HOME'] + \"/Cactus/python\"\n",
    "sys.path.insert(1, f\"{os.environ['PYTHONUSERBASE']}/lib/python{sys.version_info[0]}.{sys.version_info[1]}/site-packages\")"
   ]
  },
  {
   "cell_type": "markdown",
   "id": "485fbe90",
   "metadata": {},
   "source": [
    "# Running a basic configuration"
   ]
  },
  {
   "cell_type": "markdown",
   "id": "cb8c40e1",
   "metadata": {},
   "source": [
    "The configuration i want to run is the evolution of a TOV star in a cartesian grid in the einstein toolkit environment. This work is taken from my thesis, so let's access the configuration files.\n",
    "First I'll show where my configuration files are"
   ]
  },
  {
   "cell_type": "code",
   "execution_count": 2,
   "id": "edb2968d",
   "metadata": {},
   "outputs": [
    {
     "name": "stdout",
     "output_type": "stream",
     "text": [
      "tov_ET_eno.par\r\n",
      "tov_ET_ppm.par\r\n",
      "tov_ET_tvd.par\r\n",
      "tov_ET_weno.par\r\n"
     ]
    }
   ],
   "source": [
    "%%bash\n",
    "cd ~/programmi/tov_ET/recon_method/\n",
    "ls | grep .par"
   ]
  },
  {
   "cell_type": "markdown",
   "id": "ee7236db",
   "metadata": {},
   "source": [
    "And now i show where my Cactus path is"
   ]
  },
  {
   "cell_type": "code",
   "execution_count": 3,
   "id": "81be8fcc",
   "metadata": {},
   "outputs": [
    {
     "name": "stdout",
     "output_type": "stream",
     "text": [
      "/home/sam/ET/Cactus\n"
     ]
    }
   ],
   "source": [
    "cd ~/ET/Cactus"
   ]
  },
  {
   "cell_type": "markdown",
   "id": "d54d88ea",
   "metadata": {},
   "source": [
    "Now let's run a simple simulation for the weno reconstruction method.\n",
    "I usually prefer to have my simulations folder inside the ET folder, to do that you need to edit the `basedir` value in `simfactory/etc/defs.local.ini`\n",
    "\n",
    "``` \n",
    "[swift]\n",
    "basedir = ~/ET/simulations\n",
    "```\n",
    "\n",
    "For my case i also decided to move the Cactus directory in another path, if you do so you have to tell the ET that your `sourcebasedir` has changed.\n",
    "Just go to `/home/sam/ET/Cactus/simfactory/mdb/machines` and look for your machine hostname .ini file and then change the following line, in my case `swift.ini`\n",
    "\n",
    "```\n",
    "sourcebasedir   = /home/sam/ET\n",
    "```"
   ]
  },
  {
   "cell_type": "code",
   "execution_count": 11,
   "id": "c910f236",
   "metadata": {},
   "outputs": [
    {
     "name": "stdout",
     "output_type": "stream",
     "text": [
      "Parameter file: /home/sam/programmi/tov_ET/recon_method/tov_ET_weno.par\r\n",
      "Skeleton Created\r\n",
      "Job directory: \"/home/sam/ET/simulations/tov_ET_weno\"\r\n",
      "Executable: \"/home/sam/ET/Cactus/exe/cactus_sim\"\r\n",
      "Option list: \"/home/sam/ET/simulations/tov_ET_weno/SIMFACTORY/cfg/OptionList\"\r\n",
      "Submit script: \"/home/sam/ET/simulations/tov_ET_weno/SIMFACTORY/run/SubmitScript\"\r\n",
      "Run script: \"/home/sam/ET/simulations/tov_ET_weno/SIMFACTORY/run/RunScript\"\r\n",
      "Parameter file: \"/home/sam/ET/simulations/tov_ET_weno/SIMFACTORY/par/tov_ET_weno.par\"\r\n"
     ]
    }
   ],
   "source": [
    "%%bash\n",
    "./simfactory/bin/sim create tov_ET_weno --configuration sim --parfile=~/programmi/tov_ET/recon_method/tov_ET_weno.par"
   ]
  },
  {
   "cell_type": "markdown",
   "id": "6491cbc9",
   "metadata": {},
   "source": [
    "As you can see, the structure of the simulation has been created, that mean ET has allocated the resources and activated the thorns needed in order to run the simulation. One can check the structure of this by going in the directory"
   ]
  },
  {
   "cell_type": "code",
   "execution_count": 12,
   "id": "f00e06d6",
   "metadata": {},
   "outputs": [
    {
     "name": "stdout",
     "output_type": "stream",
     "text": [
      "log.txt  SIMFACTORY\r\n"
     ]
    }
   ],
   "source": [
    "%%bash\n",
    "cd ~/ET/simulations/tov_ET_weno/\n",
    "ls"
   ]
  },
  {
   "cell_type": "markdown",
   "id": "fac0d53b",
   "metadata": {},
   "source": [
    "And finally now, we can start the simulation. Remember to install the packae `openmpi-bin`"
   ]
  },
  {
   "cell_type": "code",
   "execution_count": 13,
   "id": "347da50f",
   "metadata": {},
   "outputs": [
    {
     "name": "stdout",
     "output_type": "stream",
     "text": [
      "Assigned restart id: 0 \r\n",
      "Executing submit command: exec nohup /home/sam/ET/simulations/tov_ET_weno/output-0000/SIMFACTORY/SubmitScript < /dev/null > /home/sam/ET/simulations/tov_ET_weno/output-0000/tov_ET_weno.out 2> /home/sam/ET/simulations/tov_ET_weno/output-0000/tov_ET_weno.err & echo $!\r\n",
      "Submit finished, job id is 730293\r\n"
     ]
    }
   ],
   "source": [
    "%%bash\n",
    "# start simulation segment\n",
    "./simfactory/bin/sim submit tov_ET_weno --cores=2 --num-threads=1 --walltime=0:20:00"
   ]
  },
  {
   "cell_type": "markdown",
   "id": "41634a01",
   "metadata": {},
   "source": [
    "The `submit` command submitted a new segment for the simulation `tov_ET_weno` to the queueing system to run in the background asking for a maximum runtime of 20 minutes, using a total of 2 compute cores and using 1 thread per MPI ranks. On your laptop it will start right away, on a cluster the queuing system will wait until a sufficient number of nodes is able to start your simulation.\n",
    "\n",
    "You can check the status of the simulation with the following command"
   ]
  },
  {
   "cell_type": "code",
   "execution_count": 14,
   "id": "837c137c",
   "metadata": {
    "scrolled": true
   },
   "outputs": [
    {
     "name": "stdout",
     "output_type": "stream",
     "text": [
      "Simulation name: tov_ET_weno\n",
      "==> tov_ET_weno.out <==\n",
      "   ADMBASE::gxy\n",
      "   ADMBASE::gxz\n",
      "   ADMBASE::gyy\n",
      "   ADMBASE::gyz\n",
      "   ADMBASE::gzz\n",
      "   ADMBASE::kxx\n",
      "   ADMBASE::kxy\n",
      "   ADMBASE::kxz\n",
      "   ADMBASE::kyy\n",
      "   ADMBASE::kyz\n",
      "   ADMBASE::kzz\n",
      "   ADMBASE::alp\n",
      "   HYDROBASE::rho\n",
      "   HYDROBASE::press\n",
      "   HYDROBASE::eps\n",
      "   HYDROBASE::vel[0]\n",
      "   HYDROBASE::vel[1]\n",
      "   HYDROBASE::vel[2]\n",
      "   ML_BSSN::H\n",
      "   ML_BSSN::M1\n",
      "   ML_BSSN::M2\n",
      "   ML_BSSN::M3\n",
      "INFO (CarpetIOASCII): I/O Method 'IOASCII_2D' registered: 2D AMR output of grid variables to ASCII files\n",
      "INFO (CarpetIOASCII): I/O Method 'IOASCII_3D' registered: 3D AMR output of grid variables to ASCII files\n",
      "INFO (CarpetIOHDF5): I/O Method 'IOHDF5' registered: AMR output of grid variables to HDF5 files\n",
      "INFO (CarpetIOHDF5): I/O Method 'IOHDF5_0D' registered: 0D AMR output of grid variables to HDF5 files\n",
      "INFO (CarpetIOHDF5): I/O Method 'IOHDF5_1D' registered: 1D AMR output of grid variables to HDF5 files\n",
      "INFO (CarpetIOHDF5): I/O Method 'IOHDF5_2D' registered: 2D AMR output of grid variables to HDF5 files\n",
      "INFO (CarpetIOHDF5): Periodic 2D AMR output requested for:\n",
      "   ADMBASE::gxx\n",
      "   ADMBASE::gxy\n",
      "   ADMBASE::gxz\n",
      "   ADMBASE::gyy\n",
      "   ADMBASE::gyz\n",
      "   ADMBASE::gzz\n",
      "   ADMBASE::alp\n",
      "   ADMBASE::betax\n",
      "   ADMBASE::betay\n",
      "   ADMBASE::betaz\n",
      "   HYDROBASE::rho\n",
      "   HYDROBASE::eps\n",
      "   HYDROBASE::vel[0]\n",
      "   HYDROBASE::vel[1]\n",
      "   HYDROBASE::vel[2]\n",
      "   HYDROBASE::w_lorentz\n",
      "   ML_BSSN::H\n",
      "   ML_BSSN::M1\n",
      "   ML_BSSN::M2\n",
      "   ML_BSSN::M3\n",
      "INFO (CarpetIOHDF5): I/O Method 'IOHDF5_3D' registered: 3D AMR output of grid variables to HDF5 files\n",
      "INFO (CarpetIOScalar): Periodic scalar output requested for:\n",
      "   ADMBASE::alp\n",
      "   ADMBASE::betax\n",
      "   ADMBASE::betay\n",
      "   ADMBASE::betaz\n",
      "   CARPET::physical_time_per_hour\n",
      "   CARPET::current_physical_time_per_hour\n",
      "   CARPET::time_total\n",
      "   CARPET::time_evolution\n",
      "   CARPET::time_computing\n",
      "   CARPET::time_communicating\n",
      "   CARPET::time_io\n",
      "   CARPET::evolution_steps_count\n",
      "   CARPET::local_grid_points_per_second\n",
      "   CARPET::total_grid_points_per_second\n",
      "   CARPET::local_grid_point_updates_count\n",
      "   CARPET::total_grid_point_updates_count\n",
      "   CARPET::local_interior_points_per_second\n",
      "   CARPET::total_interior_points_per_second\n",
      "   CARPET::local_interior_point_updates_count\n",
      "   CARPET::total_interior_point_updates_count\n",
      "   CARPET::io_per_second\n",
      "   CARPET::io_bytes_per_second\n",
      "   CARPET::io_bytes_ascii_per_second\n",
      "   CARPET::io_bytes_binary_per_second\n",
      "   CARPET::io_count\n",
      "   CARPET::io_bytes_count\n",
      "   CARPET::io_bytes_ascii_count\n",
      "   CARPET::io_bytes_binary_count\n",
      "   CARPET::comm_per_second\n",
      "   CARPET::comm_bytes_per_second\n",
      "   CARPET::comm_count\n",
      "   CARPET::comm_bytes_count\n",
      "   CARPET::time_levels\n",
      "   CARPET::current_walltime\n",
      "   CARPET::syncs_count\n",
      "   GRHYDRO::dens\n",
      "   HYDROBASE::rho\n",
      "   HYDROBASE::press\n",
      "   HYDROBASE::eps\n",
      "   HYDROBASE::vel[0]\n",
      "   HYDROBASE::vel[1]\n",
      "   HYDROBASE::vel[2]\n",
      "   HYDROBASE::w_lorentz\n",
      "   ML_BSSN::H\n",
      "   ML_BSSN::M1\n",
      "   ML_BSSN::M2\n",
      "   ML_BSSN::M3\n",
      "--------------------------------------------------------------------------------\n",
      "INFO (Formaline): Writing tarballs with the Cactus sources into the directory \"tov_ET_weno/cactus-source\"\n",
      "\n",
      "==> tov_ET_weno.err <==\n",
      "+ set -e\n",
      "+ cd /home/sam/ET/simulations/tov_ET_weno/output-0000-active\n",
      "+ echo Checking:\n",
      "+ pwd\n",
      "+ hostname\n",
      "+ date\n",
      "+ echo Environment:\n",
      "+ export CACTUS_NUM_PROCS=2\n",
      "+ CACTUS_NUM_PROCS=2\n",
      "+ export CACTUS_NUM_THREADS=1\n",
      "+ CACTUS_NUM_THREADS=1\n",
      "+ export GMON_OUT_PREFIX=gmon.out\n",
      "+ GMON_OUT_PREFIX=gmon.out\n",
      "+ export OMP_NUM_THREADS=1\n",
      "+ OMP_NUM_THREADS=1\n",
      "+ env\n",
      "+ sort\n",
      "+ echo Starting:\n",
      "++ date +%s\n",
      "+ export CACTUS_STARTTIME=1677706072\n",
      "+ CACTUS_STARTTIME=1677706072\n",
      "+ '[' 2 = 1 ']'\n",
      "+ mpirun -np 2 /home/sam/ET/simulations/tov_ET_weno/SIMFACTORY/exe/cactus_sim -L 3 /home/sam/ET/simulations/tov_ET_weno/output-0000/tov_ET_weno.par\n",
      "WARNING[L1,P1] (ML_BSSN_Helper): Forcing ML_BSSN::initial_boundary_condition=\"extrapolate-gammas\" because ML_BSSN::my_initial_boundary_condition=\"extrapolate-gammas\"\n",
      "WARNING[L1,P1] (ML_BSSN_Helper): Forcing ML_BSSN::rhs_boundary_condition=\"NewRad\" because ML_BSSN::my_rhs_boundary_condition=\"NewRad\"\n",
      "WARNING[L1,P1] (ML_BSSN_Helper): Forcing ML_BSSN::evolveB=0 because ML_BSSN::shiftGammaCoeff=0.0\n",
      "WARNING[L1,P1] (ML_BSSN_Helper): Parameter ML_BSSN::my_initial_boundary_condition is outdated; please update the parameter file. Do not use this parameter, and set up initial boundary conditions as usual.\n",
      "WARNING[L1,P1] (ML_BSSN_Helper): Parameter ML_BSSN::my_rhs_boundary_condition is outdated; please update the parameter file. Do not use this parameter, and set up RHS boundary conditions as usual.\n",
      "WARNING[L1,P0] (ML_BSSN_Helper): Forcing ML_BSSN::initial_boundary_condition=\"extrapolate-gammas\" because ML_BSSN::my_initial_boundary_condition=\"extrapolate-gammas\"\n",
      "\n",
      "==> tov_ET_weno.out <==\n",
      "\u001b[1mWARNING[L1,P0] (ML_BSSN_Helper):\u001b[0m Forcing ML_BSSN::initial_boundary_condition=\"extrapolate-gammas\" because ML_BSSN::my_initial_boundary_condition=\"extrapolate-gammas\"\n",
      "\n",
      "==> tov_ET_weno.err <==\n",
      "WARNING[L1,P0] (ML_BSSN_Helper): Forcing ML_BSSN::rhs_boundary_condition=\"NewRad\" because ML_BSSN::my_rhs_boundary_condition=\"NewRad\"\n",
      "WARNING[L1,P0] (ML_BSSN_Helper): \n",
      "==> tov_ET_weno.out <==\n",
      "\u001b[1mWARNING[L1,P0] (ML_BSSN_Helper):\u001b[0m Forcing ML_BSSN::rhs_boundary_condition=\"NewRad\" because ML_BSSN::my_rhs_boundary_condition=\"NewRad\"\n",
      "\n",
      "==> tov_ET_weno.err <==\n",
      "Forcing ML_BSSN::evolveB=0 because ML_BSSN::shiftGammaCoeff=0.0\n",
      "\n",
      "==> tov_ET_weno.out <==\n",
      "\u001b[1mWARNING[L1,P0] (ML_BSSN_Helper):\u001b[0m Forcing ML_BSSN::evolveB=0 because ML_BSSN::shiftGammaCoeff=0.0\n",
      "INFO (MoL): Using Runge-Kutta 4 as the time integrator.\n",
      "INFO (SymBase): Symmetry on lower x-face: reflection_symmetry\n",
      "INFO (SymBase): Symmetry on lower y-face: reflection_symmetry\n",
      "INFO (SymBase): Symmetry on lower z-face: reflection_symmetry\n",
      "INFO (MoL): The maximum number of evolved variables is 664. 29 are registered.\n",
      "INFO (MoL): The maximum number of slow evolved variables is 664. 0 are registered.\n",
      "INFO (MoL): The maximum number of constrained variables is 664. 38 are registered.\n",
      "INFO (MoL): The maximum number of SandR variables is 664. 0 are registered.\n",
      "INFO (MoL): The maximum number of evolved array variables is 664. 0 are registered.\n",
      "INFO (MoL): The maximum number of constrained array variables is 664. 0 are registered.\n",
      "INFO (MoL): The maximum number of SandR array variables is 664. 0 are registered.\n",
      "INFO (MoL): The maximum size of any array variables is 0.\n",
      "\n",
      "==> tov_ET_weno.err <==\n",
      "WARNING[L1,P0] (ML_BSSN_Helper): Parameter ML_BSSN::my_initial_boundary_condition is outdated; please update the parameter file. Do not use this parameter, and set up initial boundary conditions as usual.\n",
      "\n",
      "==> tov_ET_weno.out <==\n",
      "\u001b[1mWARNING[L1,P0] (ML_BSSN_Helper):\u001b[0m Parameter ML_BSSN::my_initial_boundary_condition is outdated; please update the parameter file. Do not use this parameter, and set up initial boundary conditions as usual.\n",
      "\n",
      "==> tov_ET_weno.err <==\n",
      "WARNING[L1,P0] (ML_BSSN_Helper): Parameter ML_BSSN::my_rhs_boundary_condition is outdated; please update the parameter file. Do not use this parameter, and set up RHS boundary conditions as usual.\n",
      "\n",
      "==> tov_ET_weno.out <==\n",
      "\u001b[1mWARNING[L1,P0] (ML_BSSN_Helper):\u001b[0m Parameter ML_BSSN::my_rhs_boundary_condition is outdated; please update the parameter file. Do not use this parameter, and set up RHS boundary conditions as usual.\n",
      "INFO (Vectors): Testing vectorisation... [errors may result in segfaults]\n",
      "INFO (Vectors): 375/375 tests passed \n",
      "INFO (CarpetRegrid2): Enforcing grid structure properties, iteration 0\n",
      "INFO (CarpetRegrid2): Enforcing grid structure properties, iteration 1\n",
      "INFO (Carpet): Grid structure (superregions, grid points):\n",
      "   [0][0][0]   exterior: [0,0,0] : [17,17,17]   ([18,18,18] + PADDING) 5832\n",
      "   [1][0][0]   exterior: [3,3,3] : [32,32,32]   ([30,30,30] + PADDING) 27000\n",
      "INFO (Carpet): Grid structure (superregions, coordinates):\n",
      "   [0][0][0]   exterior: [-6,-6,-6] : [28,28,28] : [2,2,2]\n",
      "   [1][0][0]   exterior: [-3,-3,-3] : [26,26,26] : [1,1,1]\n",
      "INFO (Carpet): Global grid structure statistics:\n",
      "INFO (Carpet): GF: rhs: 10k active, 10k owned (+0%), 24k total (+147%), 3 steps/time\n",
      "INFO (Carpet): GF: vars: 252, pts: 4M active, 4M owned (+0%), 10M total (+158%), 1.0 comp/proc\n",
      "INFO (Carpet): GA: vars: 289, pts: 0M active, 0M total (+0%)\n",
      "INFO (Carpet): Total required memory: 0.080 GByte (for GAs and currently active GFs)\n",
      "INFO (Carpet): Load balance:  min     avg     max     sdv     max/avg-1\n",
      "INFO (Carpet): Level  0:       0M      0M      0M      0M owned      0%\n",
      "INFO (Carpet): Level  1:       2M      2M      2M      0M owned      0%\n"
     ]
    },
    {
     "name": "stdout",
     "output_type": "stream",
     "text": [
      "INFO (CartGrid3D): Grid Spacings:\n",
      "INFO (CartGrid3D): dx=>2.0000000e+00  dy=>2.0000000e+00  dz=>2.0000000e+00\n",
      "INFO (CartGrid3D): Computational Coordinates:\n",
      "INFO (CartGrid3D): x=>[-6.000,28.000]  y=>[-6.000,28.000]  z=>[-6.000,28.000]\n",
      "INFO (CartGrid3D): Indices of Physical Coordinates:\n",
      "INFO (CartGrid3D): x=>[0,17]  y=>[0,17]  z=>[0,17]\n",
      "INFO (TerminationTrigger): Reminding you every 60 minutes about remaining walltime\n",
      "INFO (Time): Timestep set to 0.5 (courant_static)\n",
      "INFO (GRHydro): Trying to get EOS handles\n",
      "INFO (GRHydro): Trying to get EOS handles\n",
      "INFO (GRHydro): GRHydro will use the 2D_Polytrope equation of state.\n",
      "INFO (GRHydro): Setting up the atmosphere mask: all points are not_atmosphere\n",
      "INFO (TOVSolver): Integrated TOV equation\n",
      "INFO (TOVSolver): Information about the TOVs used:\n",
      "INFO (): TOV    radius    mass  bary_mass mass(g) cent.rho rho(cgi)        K   K(cgi)    Gamma\n",
      "INFO ():   1   8.12502  1.40016  1.50618 2.78e+33  0.00128 7.92e+14      100 1.45e+05        2\n",
      "INFO (TOVSolver): Not using old matter initial data\n",
      "INFO (TOVSolver): Done interpolation.\n",
      "INFO (TerminationTrigger): Reminding you every 60 minutes about remaining walltime\n",
      "INFO (Time): Timestep set to 0.25 (courant_static)\n",
      "INFO (GRHydro): Setting up the atmosphere mask: all points are not_atmosphere\n",
      "INFO (TOVSolver): Not using old matter initial data\n",
      "INFO (TOVSolver): Done interpolation.\n",
      "-------------------------------------------------\n",
      "Iteration      Time | *me_per_hour | *ROBASE::rho\n",
      "                    |              |      maximum\n",
      "-------------------------------------------------\n",
      "        0     0.000 |    0.0000000 |    0.0012800\n",
      "      512     0.500 | 1.041693e+03 |    0.0012801\n",
      "     1024     1.000 | 1.040245e+03 |    0.0012802\n",
      "     1536     1.500 | 1.055288e+03 |    0.0012804\n",
      "     2048     2.000 | 1.052280e+03 |    0.0012808\n",
      "     2560     2.500 | 1.056278e+03 |    0.0012812\n",
      "     3072     3.000 | 1.056530e+03 |    0.0012817\n",
      "     3584     3.500 | 1.065820e+03 |    0.0012823\n",
      "     4096     4.000 | 1.035482e+03 |    0.0012829\n",
      "     4608     4.500 |  995.1677867 |    0.0012836\n",
      "     5120     5.000 |  977.2657591 |    0.0012844\n",
      "     5632     5.500 |  969.8327107 |    0.0012853\n",
      "     6144     6.000 |  970.0436154 |    0.0012862\n",
      "     6656     6.500 |  961.2166749 |    0.0012872\n",
      "     7168     7.000 |  971.2852265 |    0.0012882\n",
      "     7680     7.500 |  949.9070046 |    0.0012892\n",
      "     8192     8.000 |  927.2493077 |    0.0012903\n",
      "     8704     8.500 |  906.7286449 |    0.0012914\n",
      "     9216     9.000 |  901.9341221 |    0.0012926\n",
      "     9728     9.500 |  895.1914049 |    0.0012937\n",
      "-------------------------------------------------\n",
      "Iteration      Time | *me_per_hour | *ROBASE::rho\n",
      "                    |              |      maximum\n",
      "-------------------------------------------------\n",
      "    10240    10.000 |  893.6819783 |    0.0012948\n",
      "    10752    10.500 |  884.7262344 |    0.0012960\n",
      "    11264    11.000 |  882.3607857 |    0.0012972\n",
      "    11776    11.500 |  878.3244612 |    0.0012983\n",
      "    12288    12.000 |  869.7642736 |    0.0012995\n",
      "    12800    12.500 |  869.0410547 |    0.0013006\n",
      "    13312    13.000 |  833.2718923 |    0.0013017\n",
      "    13824    13.500 |  826.2030262 |    0.0013028\n",
      "    14336    14.000 |  821.2046906 |    0.0013038\n",
      "    14848    14.500 |  821.1321910 |    0.0013048\n",
      "    15360    15.000 |  822.8744344 |    0.0013058\n",
      "    15872    15.500 |  819.7812437 |    0.0013068\n",
      "    16384    16.000 |  814.7902770 |    0.0013077\n",
      "    16896    16.500 |  806.3011592 |    0.0013086\n",
      "    17408    17.000 |  805.9953088 |    0.0013095\n",
      "    17920    17.500 |  806.9786072 |    0.0013103\n",
      "    18432    18.000 |  804.7191805 |    0.0013111\n",
      "    18944    18.500 |  799.0892978 |    0.0013119\n",
      "    19456    19.000 |  800.0148307 |    0.0013126\n",
      "    19968    19.500 |  802.9126463 |    0.0013133\n",
      "-------------------------------------------------\n",
      "Iteration      Time | *me_per_hour | *ROBASE::rho\n",
      "                    |              |      maximum\n",
      "-------------------------------------------------\n",
      "    20480    20.000 |  803.2794412 |    0.0013139\n",
      "    20992    20.500 |  804.9524151 |    0.0013145\n",
      "    21504    21.000 |  806.3462854 |    0.0013151\n",
      "    22016    21.500 |  797.7298372 |    0.0013157\n",
      "    22528    22.000 |  791.9763746 |    0.0013162\n",
      "    23040    22.500 |  793.0792877 |    0.0013167\n",
      "    23552    23.000 |  796.1119497 |    0.0013171\n",
      "    24064    23.500 |  798.8160225 |    0.0013175\n",
      "    24576    24.000 |  799.6323916 |    0.0013178\n",
      "    25088    24.500 |  796.0653280 |    0.0013181\n",
      "    25600    25.000 |  795.9776307 |    0.0013183\n",
      "    26112    25.500 |  793.8282433 |    0.0013185\n",
      "    26624    26.000 |  790.7158536 |    0.0013187\n",
      "    27136    26.500 |  788.4917689 |    0.0013187\n",
      "    27648    27.000 |  789.2059356 |    0.0013187\n",
      "    28160    27.500 |  792.1905441 |    0.0013186\n",
      "    28672    28.000 |  795.2309554 |    0.0013185\n",
      "    29184    28.500 |  797.7299998 |    0.0013183\n",
      "    29696    29.000 |  799.8047732 |    0.0013181\n",
      "    30208    29.500 |  800.2561236 |    0.0013177\n",
      "-------------------------------------------------\n",
      "Iteration      Time | *me_per_hour | *ROBASE::rho\n",
      "                    |              |      maximum\n",
      "-------------------------------------------------\n",
      "    30720    30.000 |  802.8609321 |    0.0013173\n",
      "    31232    30.500 |  801.9384523 |    0.0013168\n",
      "    31744    31.000 |  805.6910552 |    0.0013163\n",
      "    32256    31.500 |  809.4449977 |    0.0013156\n",
      "    32768    32.000 |  809.6408654 |    0.0013148\n",
      "    33280    32.500 |  803.1944730 |    0.0013140\n",
      "    33792    33.000 |  799.3007548 |    0.0013130\n",
      "    34304    33.500 |  799.7096532 |    0.0013120\n",
      "    34816    34.000 |  796.9646373 |    0.0013108\n",
      "    35328    34.500 |  797.1565622 |    0.0013095\n",
      "    35840    35.000 |  797.2698899 |    0.0013082\n",
      "    36352    35.500 |  798.3590485 |    0.0013067\n",
      "    36864    36.000 |  799.3164997 |    0.0013051\n",
      "    37376    36.500 |  800.1267238 |    0.0013034\n",
      "    37888    37.000 |  802.1778858 |    0.0013017\n",
      "    38400    37.500 |  803.6040840 |    0.0012999\n",
      "    38912    38.000 |  804.4668321 |    0.0012980\n",
      "    39424    38.500 |  803.9800423 |    0.0012960\n",
      "    39936    39.000 |  804.7300701 |    0.0012940\n",
      "    40448    39.500 |  804.3907511 |    0.0012919\n",
      "-------------------------------------------------\n",
      "Iteration      Time | *me_per_hour | *ROBASE::rho\n",
      "                    |              |      maximum\n",
      "-------------------------------------------------\n",
      "    40960    40.000 |  803.1934434 |    0.0012899\n",
      "    41472    40.500 |  800.3296786 |    0.0012878\n",
      "    41984    41.000 |  801.9263135 |    0.0012857\n",
      "    42496    41.500 |  803.2406534 |    0.0012837\n",
      "    43008    42.000 |  803.7966032 |    0.0012817\n",
      "    43520    42.500 |  803.5663045 |    0.0012797\n",
      "    44032    43.000 |  804.5819090 |    0.0012778\n",
      "    44544    43.500 |  805.2263197 |    0.0012760\n",
      "    45056    44.000 |  805.5677997 |    0.0012742\n",
      "    45568    44.500 |  803.9406214 |    0.0012726\n",
      "    46080    45.000 |  802.0643436 |    0.0012711\n",
      "    46592    45.500 |  802.8443900 |    0.0012697\n",
      "    47104    46.000 |  803.8993428 |    0.0012685\n",
      "    47616    46.500 |  803.9508315 |    0.0012674\n",
      "    48128    47.000 |  803.9179923 |    0.0012664\n",
      "    48640    47.500 |  805.4691105 |    0.0012656\n",
      "    49152    48.000 |  805.1365549 |    0.0012650\n",
      "    49664    48.500 |  805.3021235 |    0.0012645\n",
      "    50176    49.000 |  802.7294035 |    0.0012642\n",
      "    50688    49.500 |  802.5085713 |    0.0012641\n",
      "-------------------------------------------------\n",
      "Iteration      Time | *me_per_hour | *ROBASE::rho\n",
      "                    |              |      maximum\n",
      "-------------------------------------------------\n",
      "    51200    50.000 |  800.2278404 |    0.0012640\n",
      "    51712    50.500 |  793.9548326 |    0.0012641\n",
      "    52224    51.000 |  790.5214412 |    0.0012644\n",
      "    52736    51.500 |  787.0789450 |    0.0012648\n",
      "    53248    52.000 |  782.6606840 |    0.0012653\n",
      "    53760    52.500 |  782.1223838 |    0.0012659\n",
      "    54272    53.000 |  783.0202884 |    0.0012667\n",
      "    54784    53.500 |  783.2840833 |    0.0012677\n",
      "    55296    54.000 |  783.0698020 |    0.0012687\n",
      "    55808    54.500 |  783.6806593 |    0.0012698\n",
      "^C\n",
      "Traceback (most recent call last):\n",
      "  File \"/home/sam/ET/Cactus/./simfactory/bin/../lib/sim.py\", line 149, in <module>\n",
      "    main()\n",
      "  File \"/home/sam/ET/Cactus/./simfactory/bin/../lib/sim.py\", line 145, in main\n",
      "    CommandDispatch()\n",
      "  File \"/home/sam/ET/Cactus/./simfactory/bin/../lib/sim.py\", line 107, in CommandDispatch\n",
      "    module.main()\n",
      "  File \"/home/sam/ET/Cactus/repos/simfactory2/lib/sim-manage.py\", line 398, in main\n",
      "    CommandDispatch()\n",
      "  File \"/home/sam/ET/Cactus/repos/simfactory2/lib/sim-manage.py\", line 377, in CommandDispatch\n",
      "    exec(\"command_%s()\" % command)\n",
      "  File \"<string>\", line 1, in <module>\n",
      "  File \"/home/sam/ET/Cactus/repos/simfactory2/lib/sim-manage.py\", line 312, in command_show_output\n",
      "    restart.show_output()\n",
      "  File \"/home/sam/ET/Cactus/repos/simfactory2/lib/simrestart.py\", line 1558, in show_output\n",
      "    time.sleep(60)\n",
      "KeyboardInterrupt\n"
     ]
    }
   ],
   "source": [
    "%%bash\n",
    "# watch log output, following along as new output is produced\n",
    "./simfactory/bin/sim show-output --follow tov_ET_weno"
   ]
  },
  {
   "cell_type": "markdown",
   "id": "ac488d7e",
   "metadata": {},
   "source": [
    "To abort the simulation just run"
   ]
  },
  {
   "cell_type": "code",
   "execution_count": null,
   "id": "ab90ff1c",
   "metadata": {},
   "outputs": [],
   "source": [
    "%%bash\n",
    "./simfactory/bin/sim stop tov_ET_weno"
   ]
  },
  {
   "cell_type": "markdown",
   "id": "0f747eda",
   "metadata": {},
   "source": [
    "To list all simulations kept in the cache"
   ]
  },
  {
   "cell_type": "code",
   "execution_count": 16,
   "id": "b214737e",
   "metadata": {
    "scrolled": true
   },
   "outputs": [
    {
     "name": "stdout",
     "output_type": "stream",
     "text": [
      "   tov_ET_weno             [ACTIVE (RUNNING), restart 0000, job id 730293]\r\n"
     ]
    }
   ],
   "source": [
    "%%bash\n",
    "./simfactory/bin/sim list-simulations"
   ]
  },
  {
   "cell_type": "markdown",
   "id": "32cb422a",
   "metadata": {},
   "source": [
    "The output will be stored in a directory, to get its position"
   ]
  },
  {
   "cell_type": "code",
   "execution_count": 9,
   "id": "2dcef460",
   "metadata": {},
   "outputs": [
    {
     "name": "stdout",
     "output_type": "stream",
     "text": [
      "/home/sam/ET/simulations/tov_ET_weno/output-0000\r\n"
     ]
    }
   ],
   "source": [
    "%%bash\n",
    "./simfactory/bin/sim get-output-dir tov_ET_weno"
   ]
  },
  {
   "cell_type": "markdown",
   "id": "9513b738",
   "metadata": {},
   "source": [
    "If you're done with your simulation just execute"
   ]
  },
  {
   "cell_type": "code",
   "execution_count": 10,
   "id": "6b01d3a7",
   "metadata": {},
   "outputs": [
    {
     "name": "stdout",
     "output_type": "stream",
     "text": [
      "Simulation name: tov_ET_weno\n",
      "Warning: job status is U\n",
      "Warning: job status is U\n",
      "Simulation tov_ET_weno has been moved to trash folder /home/sam/ET/simulations/TRASH/simulation-tov_ET_weno-swift-swift-sam-2023.03.01-22.25.19-729866\n"
     ]
    }
   ],
   "source": [
    "%%bash\n",
    "./simfactory/bin/sim purge tov_ET_weno"
   ]
  },
  {
   "cell_type": "markdown",
   "id": "7ea523b6",
   "metadata": {},
   "source": [
    "# Plotting the results"
   ]
  },
  {
   "cell_type": "markdown",
   "id": "6985fdfd",
   "metadata": {},
   "source": [
    "We care to plot the results of the central density evolution with respect to time to show the oscillating behaviour of the perturbed star"
   ]
  }
 ],
 "metadata": {
  "kernelspec": {
   "display_name": "Python 3 (ipykernel)",
   "language": "python",
   "name": "python3"
  },
  "language_info": {
   "codemirror_mode": {
    "name": "ipython",
    "version": 3
   },
   "file_extension": ".py",
   "mimetype": "text/x-python",
   "name": "python",
   "nbconvert_exporter": "python",
   "pygments_lexer": "ipython3",
   "version": "3.10.8"
  }
 },
 "nbformat": 4,
 "nbformat_minor": 5
}
